{
 "cells": [
  {
   "cell_type": "markdown",
   "metadata": {},
   "source": [
    "# Assignment\n",
    "\n",
    "For this assignment you will start from the perceptron neural network notebook we introduced in the lecture, and modify the python code to make it into a multi-layer neural network classifier. To test your system, use the `wine.csv` data with the goal of building a red or white wine classifier. Use all the features in the dataset, allowing the network to decide how to build the internal weighting system.\n",
    "\n",
    "1. Load the `wine.csv` data and prepare the data for analysis: Split the data into training and testing and normalize the features. <span style=\"color:red\" float:right>[3 point]</span>\n",
    "1. Train a logistic regression classifier to predict the type of wine (red vs. white). Report the accuracy of the model. <span style=\"color:red\" float:right>[5 point]</span>\n",
    "1. Train a multi-layer feed-forward neural network to predict the type of wine. You network should have one hidden layer. You are free to choose how many neurons you want in the hidden layer. <span style=\"color:red\" float:right>[15 point]</span>\n",
    "1. Tune your neural network by trying different values for the learning rate and the number of neurons in the hidden layer. <span style=\"color:red\" float:right>[10 point]</span>\n",
    "1. Report the accuracy of the best model you obtained in the previous step. <span style=\"color:red\" float:right>[5 point]</span>\n",
    "\n",
    "Determine what the best neural network structure and hyperparameter settings results in the best predictive capability"
   ]
  },
  {
   "cell_type": "code",
   "execution_count": 35,
   "metadata": {},
   "outputs": [
    {
     "name": "stdout",
     "output_type": "stream",
     "text": [
      "<class 'pandas.core.frame.DataFrame'>\n",
      "RangeIndex: 6497 entries, 0 to 6496\n",
      "Data columns (total 13 columns):\n",
      " #   Column                Non-Null Count  Dtype  \n",
      "---  ------                --------------  -----  \n",
      " 0   fixed acidity         6497 non-null   float64\n",
      " 1   volatile acidity      6497 non-null   float64\n",
      " 2   citric acid           6497 non-null   float64\n",
      " 3   residual sugar        6497 non-null   float64\n",
      " 4   chlorides             6497 non-null   float64\n",
      " 5   free sulfur dioxide   6497 non-null   float64\n",
      " 6   total sulfur dioxide  6497 non-null   float64\n",
      " 7   density               6497 non-null   float64\n",
      " 8   pH                    6497 non-null   float64\n",
      " 9   sulphates             6497 non-null   float64\n",
      " 10  alcohol               6497 non-null   float64\n",
      " 11  quality               6497 non-null   int64  \n",
      " 12  Class                 6497 non-null   int64  \n",
      "dtypes: float64(11), int64(2)\n",
      "memory usage: 660.0 KB\n"
     ]
    }
   ],
   "source": [
    "#Step 1 - load the wine dataset, and prepare data for analysis - split the data into training and testing and normalize the features\n",
    "import numpy as np\n",
    "from sklearn.linear_model import LogisticRegression\n",
    "from sklearn.metrics import confusion_matrix\n",
    "import seaborn as sns\n",
    "import pandas as pd\n",
    "from sklearn.model_selection import train_test_split\n",
    "\n",
    "df = pd.read_csv('wine.csv')\n",
    "df.info()\n"
   ]
  },
  {
   "cell_type": "code",
   "execution_count": 36,
   "metadata": {},
   "outputs": [
    {
     "data": {
      "text/plain": [
       "0    4898\n",
       "1    1599\n",
       "Name: Class, dtype: int64"
      ]
     },
     "execution_count": 36,
     "metadata": {},
     "output_type": "execute_result"
    }
   ],
   "source": [
    "df.Class.value_counts()"
   ]
  },
  {
   "cell_type": "markdown",
   "metadata": {},
   "source": [
    "- Going to assume that 0 is red and 1 is white"
   ]
  },
  {
   "cell_type": "code",
   "execution_count": 37,
   "metadata": {},
   "outputs": [
    {
     "name": "stdout",
     "output_type": "stream",
     "text": [
      "4898\n",
      "1599\n"
     ]
    }
   ],
   "source": [
    "#There is a class imbalance issue - will undersample the 0 to get an even playing field\n",
    "wine_0 = df[df['Class']==0]\n",
    "wine_1 = df[df['Class']==1]\n",
    "print(len(wine_0))\n",
    "print(len(wine_1))"
   ]
  },
  {
   "cell_type": "code",
   "execution_count": 38,
   "metadata": {},
   "outputs": [
    {
     "name": "stdout",
     "output_type": "stream",
     "text": [
      "<class 'pandas.core.frame.DataFrame'>\n",
      "Int64Index: 1599 entries, 6160 to 2375\n",
      "Data columns (total 13 columns):\n",
      " #   Column                Non-Null Count  Dtype  \n",
      "---  ------                --------------  -----  \n",
      " 0   fixed acidity         1599 non-null   float64\n",
      " 1   volatile acidity      1599 non-null   float64\n",
      " 2   citric acid           1599 non-null   float64\n",
      " 3   residual sugar        1599 non-null   float64\n",
      " 4   chlorides             1599 non-null   float64\n",
      " 5   free sulfur dioxide   1599 non-null   float64\n",
      " 6   total sulfur dioxide  1599 non-null   float64\n",
      " 7   density               1599 non-null   float64\n",
      " 8   pH                    1599 non-null   float64\n",
      " 9   sulphates             1599 non-null   float64\n",
      " 10  alcohol               1599 non-null   float64\n",
      " 11  quality               1599 non-null   int64  \n",
      " 12  Class                 1599 non-null   int64  \n",
      "dtypes: float64(11), int64(2)\n",
      "memory usage: 174.9 KB\n"
     ]
    }
   ],
   "source": [
    "#Taking random samples from wine_0 and reshaping to len of wine_1\n",
    "wine_0 = wine_0.sample(n=len(wine_1))\n",
    "wine_0.info()"
   ]
  },
  {
   "cell_type": "code",
   "execution_count": 39,
   "metadata": {},
   "outputs": [
    {
     "data": {
      "text/plain": [
       "0    1599\n",
       "1    1599\n",
       "Name: Class, dtype: int64"
      ]
     },
     "execution_count": 39,
     "metadata": {},
     "output_type": "execute_result"
    }
   ],
   "source": [
    "frames = [wine_0, wine_1]\n",
    "wine_df = pd.concat(frames)\n",
    "wine_df.Class.value_counts()"
   ]
  },
  {
   "cell_type": "code",
   "execution_count": 40,
   "metadata": {},
   "outputs": [],
   "source": [
    "X = wine_df.drop(columns=['Class'])\n",
    "y = wine_df.Class\n",
    "X_nc = df.drop(columns=['Class'])\n",
    "y_nc = df.Class"
   ]
  },
  {
   "cell_type": "code",
   "execution_count": 41,
   "metadata": {},
   "outputs": [],
   "source": [
    "X_normalized = (X-X.mean())/X.std()\n",
    "#X_normalized.head()\n",
    "X_normalized_nc = (X_nc - X_nc.mean())/X_nc.std()"
   ]
  },
  {
   "cell_type": "code",
   "execution_count": 42,
   "metadata": {},
   "outputs": [
    {
     "name": "stdout",
     "output_type": "stream",
     "text": [
      "Training set size for X - (2398, 12)\n",
      "Train set size for y that is not balanced - (4872,)\n"
     ]
    }
   ],
   "source": [
    "X_train, X_test, y_train, y_test = train_test_split(X_normalized, y, test_size=.25, random_state=13)\n",
    "X_train_nc, X_test_nc, y_train_nc, y_test_nc = train_test_split(X_normalized_nc, y_nc, test_size=.25, random_state=13)\n",
    "print('Training set size for X - {}'.format(X_train.shape))\n",
    "print('Train set size for y that is not balanced - {}'.format(y_train_nc.shape))"
   ]
  },
  {
   "cell_type": "code",
   "execution_count": 43,
   "metadata": {},
   "outputs": [
    {
     "data": {
      "text/html": [
       "<div>\n",
       "<style scoped>\n",
       "    .dataframe tbody tr th:only-of-type {\n",
       "        vertical-align: middle;\n",
       "    }\n",
       "\n",
       "    .dataframe tbody tr th {\n",
       "        vertical-align: top;\n",
       "    }\n",
       "\n",
       "    .dataframe thead th {\n",
       "        text-align: right;\n",
       "    }\n",
       "</style>\n",
       "<table border=\"1\" class=\"dataframe\">\n",
       "  <thead>\n",
       "    <tr style=\"text-align: right;\">\n",
       "      <th></th>\n",
       "      <th>fixed acidity</th>\n",
       "      <th>volatile acidity</th>\n",
       "      <th>citric acid</th>\n",
       "      <th>residual sugar</th>\n",
       "      <th>chlorides</th>\n",
       "      <th>free sulfur dioxide</th>\n",
       "      <th>total sulfur dioxide</th>\n",
       "      <th>density</th>\n",
       "      <th>pH</th>\n",
       "      <th>sulphates</th>\n",
       "      <th>alcohol</th>\n",
       "      <th>quality</th>\n",
       "    </tr>\n",
       "  </thead>\n",
       "  <tbody>\n",
       "    <tr>\n",
       "      <th>959</th>\n",
       "      <td>0.270338</td>\n",
       "      <td>0.978989</td>\n",
       "      <td>-1.525753</td>\n",
       "      <td>-0.581201</td>\n",
       "      <td>0.532744</td>\n",
       "      <td>-0.792626</td>\n",
       "      <td>-1.020782</td>\n",
       "      <td>0.706696</td>\n",
       "      <td>0.673327</td>\n",
       "      <td>0.214408</td>\n",
       "      <td>-0.415730</td>\n",
       "      <td>-0.903384</td>\n",
       "    </tr>\n",
       "    <tr>\n",
       "      <th>192</th>\n",
       "      <td>-0.499112</td>\n",
       "      <td>1.188512</td>\n",
       "      <td>-1.102848</td>\n",
       "      <td>-0.141629</td>\n",
       "      <td>0.770421</td>\n",
       "      <td>-0.559572</td>\n",
       "      <td>0.569633</td>\n",
       "      <td>0.548818</td>\n",
       "      <td>0.183704</td>\n",
       "      <td>0.214408</td>\n",
       "      <td>-0.847358</td>\n",
       "      <td>-0.903384</td>\n",
       "    </tr>\n",
       "    <tr>\n",
       "      <th>1429</th>\n",
       "      <td>0.206217</td>\n",
       "      <td>-1.168628</td>\n",
       "      <td>0.588772</td>\n",
       "      <td>-0.532359</td>\n",
       "      <td>-0.417964</td>\n",
       "      <td>0.722229</td>\n",
       "      <td>-0.428607</td>\n",
       "      <td>0.233063</td>\n",
       "      <td>0.489719</td>\n",
       "      <td>2.132552</td>\n",
       "      <td>0.706501</td>\n",
       "      <td>-0.903384</td>\n",
       "    </tr>\n",
       "    <tr>\n",
       "      <th>1153</th>\n",
       "      <td>1.296271</td>\n",
       "      <td>0.088514</td>\n",
       "      <td>0.286697</td>\n",
       "      <td>-0.556780</td>\n",
       "      <td>0.390138</td>\n",
       "      <td>-0.501308</td>\n",
       "      <td>-0.919266</td>\n",
       "      <td>0.310247</td>\n",
       "      <td>-0.122310</td>\n",
       "      <td>0.514118</td>\n",
       "      <td>0.533850</td>\n",
       "      <td>0.269109</td>\n",
       "    </tr>\n",
       "    <tr>\n",
       "      <th>891</th>\n",
       "      <td>-0.242628</td>\n",
       "      <td>1.345655</td>\n",
       "      <td>-1.646583</td>\n",
       "      <td>-0.507939</td>\n",
       "      <td>0.271300</td>\n",
       "      <td>-0.559572</td>\n",
       "      <td>-0.107140</td>\n",
       "      <td>0.734763</td>\n",
       "      <td>1.713776</td>\n",
       "      <td>-0.025360</td>\n",
       "      <td>-0.674707</td>\n",
       "      <td>-0.903384</td>\n",
       "    </tr>\n",
       "  </tbody>\n",
       "</table>\n",
       "</div>"
      ],
      "text/plain": [
       "      fixed acidity  volatile acidity  citric acid  residual sugar  chlorides  \\\n",
       "959        0.270338          0.978989    -1.525753       -0.581201   0.532744   \n",
       "192       -0.499112          1.188512    -1.102848       -0.141629   0.770421   \n",
       "1429       0.206217         -1.168628     0.588772       -0.532359  -0.417964   \n",
       "1153       1.296271          0.088514     0.286697       -0.556780   0.390138   \n",
       "891       -0.242628          1.345655    -1.646583       -0.507939   0.271300   \n",
       "\n",
       "      free sulfur dioxide  total sulfur dioxide   density        pH  \\\n",
       "959             -0.792626             -1.020782  0.706696  0.673327   \n",
       "192             -0.559572              0.569633  0.548818  0.183704   \n",
       "1429             0.722229             -0.428607  0.233063  0.489719   \n",
       "1153            -0.501308             -0.919266  0.310247 -0.122310   \n",
       "891             -0.559572             -0.107140  0.734763  1.713776   \n",
       "\n",
       "      sulphates   alcohol   quality  \n",
       "959    0.214408 -0.415730 -0.903384  \n",
       "192    0.214408 -0.847358 -0.903384  \n",
       "1429   2.132552  0.706501 -0.903384  \n",
       "1153   0.514118  0.533850  0.269109  \n",
       "891   -0.025360 -0.674707 -0.903384  "
      ]
     },
     "execution_count": 43,
     "metadata": {},
     "output_type": "execute_result"
    }
   ],
   "source": [
    "X_train.head()"
   ]
  },
  {
   "cell_type": "markdown",
   "metadata": {},
   "source": [
    "2. Train a logistic regression classifier to predict the type of wine (red vs. white). Report the accuracy of the model. <span style=\"color:red\" float:right>[5 point]</span>"
   ]
  },
  {
   "cell_type": "code",
   "execution_count": 44,
   "metadata": {},
   "outputs": [
    {
     "data": {
      "text/plain": [
       "0.99375"
      ]
     },
     "execution_count": 44,
     "metadata": {},
     "output_type": "execute_result"
    }
   ],
   "source": [
    "from sklearn.metrics import accuracy_score\n",
    "import matplotlib.pyplot as plt\n",
    "log_reg = LogisticRegression()\n",
    "log_reg.fit(X_train, y_train)\n",
    "y_hat = log_reg.predict(X_test)\n",
    "\n",
    "accuracy_score(y_test, y_hat)"
   ]
  },
  {
   "cell_type": "code",
   "execution_count": 45,
   "metadata": {},
   "outputs": [
    {
     "data": {
      "text/plain": [
       "array([[400,   1],\n",
       "       [  4, 395]], dtype=int64)"
      ]
     },
     "execution_count": 45,
     "metadata": {},
     "output_type": "execute_result"
    }
   ],
   "source": [
    "confusion_matrix(y_test, y_hat)"
   ]
  },
  {
   "cell_type": "code",
   "execution_count": 46,
   "metadata": {},
   "outputs": [],
   "source": [
    "def plot_cm(labels, predictions, p=0.5):\n",
    "  cm = confusion_matrix(labels, predictions > p)\n",
    "  plt.figure(figsize=(5,5))\n",
    "  sns.heatmap(cm, annot=True, fmt=\"d\")\n",
    "  plt.title('Confusion matrix @{:.2f}'.format(p))\n",
    "  plt.ylabel('Actual label')\n",
    "  plt.xlabel('Predicted label')\n",
    "\n",
    "  print('True Negatives: ', cm[0][0])\n",
    "  print('False Positives: ', cm[0][1])\n",
    "  print('False Negatives: ', cm[1][0])\n",
    "  print('True Positives: ', cm[1][1])"
   ]
  },
  {
   "cell_type": "code",
   "execution_count": 47,
   "metadata": {},
   "outputs": [
    {
     "name": "stdout",
     "output_type": "stream",
     "text": [
      "True Negatives:  400\n",
      "False Positives:  1\n",
      "False Negatives:  4\n",
      "True Positives:  395\n"
     ]
    },
    {
     "data": {
      "image/png": "[encoded data removed]",
      "text/plain": [
       "<Figure size 360x360 with 2 Axes>"
      ]
     },
     "metadata": {
      "needs_background": "light"
     },
     "output_type": "display_data"
    }
   ],
   "source": [
    "plot_cm(y_test, y_hat)"
   ]
  },
  {
   "cell_type": "code",
   "execution_count": 48,
   "metadata": {},
   "outputs": [
    {
     "data": {
      "text/plain": [
       "0.9969230769230769"
      ]
     },
     "execution_count": 48,
     "metadata": {},
     "output_type": "execute_result"
    }
   ],
   "source": [
    "#Will now look at the results with the unbalanced data\n",
    "log_reg.fit(X_train_nc, y_train_nc)\n",
    "y_hat = log_reg.predict(X_test_nc)\n",
    "\n",
    "accuracy_score(y_test_nc, y_hat)"
   ]
  },
  {
   "cell_type": "code",
   "execution_count": 49,
   "metadata": {},
   "outputs": [
    {
     "data": {
      "text/plain": [
       "array([[1208,    4],\n",
       "       [   1,  412]], dtype=int64)"
      ]
     },
     "execution_count": 49,
     "metadata": {},
     "output_type": "execute_result"
    }
   ],
   "source": [
    "confusion_matrix(y_test_nc, y_hat)"
   ]
  },
  {
   "cell_type": "code",
   "execution_count": 50,
   "metadata": {},
   "outputs": [
    {
     "name": "stdout",
     "output_type": "stream",
     "text": [
      "True Negatives:  1208\n",
      "False Positives:  4\n",
      "False Negatives:  1\n",
      "True Positives:  412\n"
     ]
    },
    {
     "data": {
      "image/png": "[encoded data removed]",
      "text/plain": [
       "<Figure size 360x360 with 2 Axes>"
      ]
     },
     "metadata": {
      "needs_background": "light"
     },
     "output_type": "display_data"
    }
   ],
   "source": [
    "plot_cm(y_test_nc, y_hat)"
   ]
  },
  {
   "cell_type": "markdown",
   "metadata": {},
   "source": [
    "3. Train a multi-layer feed-forward neural network to predict the type of wine. You network should have one hidden layer. You are free to choose how many neurons you want in the hidden layer. <span style=\"color:red\" float:right>[15 point]</span>"
   ]
  },
  {
   "cell_type": "markdown",
   "metadata": {},
   "source": [
    "Sources and Scratch\n",
    "- https://towardsdatascience.com/feed-forward-neural-networks-how-to-successfully-build-them-in-python-74503409d99a\n",
    "\n",
    "First half of block of code is manual TF layers - second half is the mlp classifier"
   ]
  },
  {
   "cell_type": "markdown",
   "metadata": {},
   "source": [
    "import tensorflow as tf\n",
    "# Tensorflow / Keras\n",
    "from tensorflow import keras # for building Neural Networks\n",
    "print('Tensorflow/Keras: %s' % keras.__version__) # print version\n",
    "from keras.models import Sequential # for creating a linear stack of layers for our Neural Network\n",
    "from keras import Input # for instantiating a keras tensor\n",
    "from keras.layers import Dense # for creating regular densely-connected NN layers.\n",
    "\n",
    "# Visualization\n",
    "import plotly \n",
    "import plotly.express as px\n",
    "import plotly.graph_objects as go\n",
    "print('plotly: %s' % plotly.__version__) # print version"
   ]
  },
  {
   "cell_type": "markdown",
   "metadata": {},
   "source": [
    "#Step 1 - Specify the structure\n",
    "model = Sequential(name='model_one_input')#groups layers into a tf.keras.model\n",
    "model.add(Input(shape=(12,), name='input_layer'))\n",
    "model.add(Dense(2, activation='relu', name='hidden_layer'))\n",
    "model.add(Dense(1, activation='sigmoid', name='outer_layer'))"
   ]
  },
  {
   "cell_type": "markdown",
   "metadata": {},
   "source": [
    "#Step 2 - Compile Keras Model\n",
    "model.compile(optimizer='adam', loss='binary_crossentropy', metrics=['Accuracy', 'Precision', 'Recall'],\n",
    "             loss_weights=None, weighted_metrics=None, run_eagerly=None, steps_per_execution=None)"
   ]
  },
  {
   "cell_type": "markdown",
   "metadata": {},
   "source": [
    "#Step 3 - fit keras model on dataset\n",
    "model.fit(X_train, y_train, batch_size=10, epochs=10, \n",
    "         verbose='auto')"
   ]
  },
  {
   "cell_type": "markdown",
   "metadata": {},
   "source": [
    "#Step 4. Use model to make predictions\n",
    "pred_labels_tr = (model.predict(X_train) >0.5).astype(int)\n",
    "pred_labels_ts = (model.predict(X_test) >0.5).astype(int)"
   ]
  },
  {
   "cell_type": "markdown",
   "metadata": {},
   "source": [
    "#Step 5 - Model Performance Summary\n",
    "print(\"\")\n",
    "print('-------------------- Model Summary --------------------')\n",
    "model.summary() # print model summary\n",
    "print(\"\")\n",
    "print('-------------------- Weights and Biases --------------------')\n",
    "for layer in model.layers:\n",
    "    print(\"Layer: \", layer.name) # print layer name\n",
    "    print(\"  --Kernels (Weights): \", layer.get_weights()[0]) # weights\n",
    "    print(\"  --Biases: \", layer.get_weights()[1]) # biases\n",
    "    \n",
    "print(\"\")\n",
    "print('---------- Evaluation on Training Data ----------')\n",
    "print(classification_report(y_train, pred_labels_tr))\n",
    "print(\"\")\n",
    "\n",
    "print('---------- Evaluation on Test Data ----------')\n",
    "print(classification_report(y_test, pred_labels_ts))\n",
    "print(\"\")"
   ]
  },
  {
   "cell_type": "code",
   "execution_count": 51,
   "metadata": {},
   "outputs": [],
   "source": [
    "from sklearn.neural_network import MLPClassifier\n",
    "\n",
    "mlp = MLPClassifier(hidden_layer_sizes=(1,),#represents the number of hidden neurons\n",
    "                   activation='relu',\n",
    "                   solver='lbfgs',\n",
    "                   random_state=13,\n",
    "                   max_iter=100).fit(X_train, y_train)"
   ]
  },
  {
   "cell_type": "code",
   "execution_count": 52,
   "metadata": {},
   "outputs": [
    {
     "data": {
      "text/plain": [
       "0.99125"
      ]
     },
     "execution_count": 52,
     "metadata": {},
     "output_type": "execute_result"
    }
   ],
   "source": [
    "y_pred = mlp.predict(X_test)\n",
    "\n",
    "mlp.score(X_test, y_test)"
   ]
  },
  {
   "cell_type": "code",
   "execution_count": 53,
   "metadata": {},
   "outputs": [
    {
     "data": {
      "text/plain": [
       "0.99125"
      ]
     },
     "execution_count": 53,
     "metadata": {},
     "output_type": "execute_result"
    }
   ],
   "source": [
    "accuracy_score(y_test, y_pred)"
   ]
  },
  {
   "cell_type": "markdown",
   "metadata": {},
   "source": [
    "4. Tune your neural network by trying different values for the learning rate and the number of neurons in the hidden layer. <span style=\"color:red\" float:right>[10 point]</span>"
   ]
  },
  {
   "cell_type": "markdown",
   "metadata": {},
   "source": [
    "Scratch and Notes\n",
    "- Same format as above - top part is scratch and building out on my own, below is mlp classifier"
   ]
  },
  {
   "cell_type": "markdown",
   "metadata": {},
   "source": [
    "my_callbacks = [\n",
    "    tf.keras.callbacks.EarlyStopping(patience=2),\n",
    "    tf.keras.callbacks.TensorBoard(log_dir='./logs'),\n",
    "]"
   ]
  },
  {
   "cell_type": "markdown",
   "metadata": {},
   "source": [
    "\n",
    "model.fit(X_train, y_train, batch_size=10, epochs=10, \n",
    "         verbose='auto', callbacks=my_callbacks)"
   ]
  },
  {
   "cell_type": "markdown",
   "metadata": {},
   "source": [
    "#Step 1 - Specify the structure\n",
    "model = Sequential(name='model_one_input')#groups layers into a tf.keras.model\n",
    "model.add(Input(shape=(12,), name='input_layer'))\n",
    "model.add(Dense(3, activation='relu', name='hidden_layer'))\n",
    "model.add(Dense(2, activation='sigmoid', name='outer_layer'))\n",
    "model.add(Dense(1, activation='relu', name='hidden_layer_2'))#Adding a new hidden layer"
   ]
  },
  {
   "cell_type": "markdown",
   "metadata": {},
   "source": [
    "#Step 2 - Compile Keras Model\n",
    "model.compile(optimizer='adam', loss='binary_crossentropy', metrics=['Accuracy', 'Precision', 'Recall'])"
   ]
  },
  {
   "cell_type": "markdown",
   "metadata": {},
   "source": [
    "#Step 3 - fit keras model on dataset\n",
    "model.fit(X_train, y_train, batch_size=10, epochs=10, \n",
    "         verbose='auto')"
   ]
  },
  {
   "cell_type": "markdown",
   "metadata": {},
   "source": [
    "#Step 4. Use model to make predictions\n",
    "pred_labels_tr = (model.predict(X_train) >0.5).astype(int)\n",
    "pred_labels_ts = (model.predict(X_test) >0.5).astype(int)"
   ]
  },
  {
   "cell_type": "markdown",
   "metadata": {},
   "source": [
    "#Step 5 - Model Performance Summary\n",
    "print(\"\")\n",
    "print('-------------------- Model Summary --------------------')\n",
    "model.summary() # print model summary\n",
    "print(\"\")\n",
    "print('-------------------- Weights and Biases --------------------')\n",
    "for layer in model.layers:\n",
    "    print(\"Layer: \", layer.name) # print layer name\n",
    "    print(\"  --Kernels (Weights): \", layer.get_weights()[0]) # weights\n",
    "    print(\"  --Biases: \", layer.get_weights()[1]) # biases\n",
    "    \n",
    "print(\"\")\n",
    "print('---------- Evaluation on Training Data ----------')\n",
    "print(classification_report(y_train, pred_labels_tr))\n",
    "print(\"\")\n",
    "\n",
    "print('---------- Evaluation on Test Data ----------')\n",
    "print(classification_report(y_test, pred_labels_ts))\n",
    "print(\"\")"
   ]
  },
  {
   "cell_type": "code",
   "execution_count": 54,
   "metadata": {},
   "outputs": [
    {
     "name": "stderr",
     "output_type": "stream",
     "text": [
      "C:\\Users\\7w9\\Anaconda3\\lib\\site-packages\\sklearn\\neural_network\\_multilayer_perceptron.py:549: ConvergenceWarning: lbfgs failed to converge (status=1):\n",
      "STOP: TOTAL NO. of ITERATIONS REACHED LIMIT.\n",
      "\n",
      "Increase the number of iterations (max_iter) or scale the data as shown in:\n",
      "    https://scikit-learn.org/stable/modules/preprocessing.html\n",
      "  self.n_iter_ = _check_optimize_result(\"lbfgs\", opt_res, self.max_iter)\n"
     ]
    }
   ],
   "source": [
    "mlp_2 = MLPClassifier(hidden_layer_sizes=(10,5),#represents the number of hidden neurons\n",
    "                   activation='relu',\n",
    "                   solver='lbfgs',\n",
    "                   learning_rate='adaptive',\n",
    "                   random_state=13,\n",
    "                   max_iter=100).fit(X_train, y_train)"
   ]
  },
  {
   "cell_type": "code",
   "execution_count": 55,
   "metadata": {},
   "outputs": [
    {
     "data": {
      "text/plain": [
       "0.99"
      ]
     },
     "execution_count": 55,
     "metadata": {},
     "output_type": "execute_result"
    }
   ],
   "source": [
    "y_pred = mlp_2.predict(X_test)\n",
    "\n",
    "mlp_2.score(X_test, y_test)"
   ]
  },
  {
   "cell_type": "code",
   "execution_count": 56,
   "metadata": {},
   "outputs": [
    {
     "name": "stderr",
     "output_type": "stream",
     "text": [
      "C:\\Users\\7w9\\Anaconda3\\lib\\site-packages\\sklearn\\neural_network\\_multilayer_perceptron.py:549: ConvergenceWarning: lbfgs failed to converge (status=1):\n",
      "STOP: TOTAL NO. of ITERATIONS REACHED LIMIT.\n",
      "\n",
      "Increase the number of iterations (max_iter) or scale the data as shown in:\n",
      "    https://scikit-learn.org/stable/modules/preprocessing.html\n",
      "  self.n_iter_ = _check_optimize_result(\"lbfgs\", opt_res, self.max_iter)\n"
     ]
    }
   ],
   "source": [
    "mlp_3 = MLPClassifier(hidden_layer_sizes=(10,5),#represents the number of hidden neurons\n",
    "                   activation='relu',\n",
    "                   solver='lbfgs',\n",
    "                   learning_rate='invscaling',\n",
    "                   random_state=13,\n",
    "                   max_iter=100).fit(X_train, y_train)"
   ]
  },
  {
   "cell_type": "code",
   "execution_count": 57,
   "metadata": {},
   "outputs": [
    {
     "data": {
      "text/plain": [
       "0.99"
      ]
     },
     "execution_count": 57,
     "metadata": {},
     "output_type": "execute_result"
    }
   ],
   "source": [
    "y_pred = mlp_3.predict(X_test)\n",
    "\n",
    "mlp_3.score(X_test, y_test)"
   ]
  },
  {
   "cell_type": "markdown",
   "metadata": {},
   "source": [
    "5. Report the accuracy of the best model you obtained in the previous step. <span style=\"color:red\" float:right>[5 point]</span>"
   ]
  },
  {
   "cell_type": "markdown",
   "metadata": {},
   "source": [
    "Seems that both models were overfitting? Getting 98% accuracy is incredibly high and I am a little concerned that even when I changed the learning rate and number of layers and learning rate, it was still 99 - any thoughts on this??"
   ]
  }
 ],
 "metadata": {
  "kernelspec": {
   "display_name": "Python 3",
   "language": "python",
   "name": "python3"
  },
  "language_info": {
   "codemirror_mode": {
    "name": "ipython",
    "version": 3
   },
   "file_extension": ".py",
   "mimetype": "text/x-python",
   "name": "python",
   "nbconvert_exporter": "python",
   "pygments_lexer": "ipython3",
   "version": "3.8.8"
  }
 },
 "nbformat": 4,
 "nbformat_minor": 1
}
