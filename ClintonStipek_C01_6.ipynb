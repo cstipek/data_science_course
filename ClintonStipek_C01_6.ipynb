{
 "cells": [
  {
   "cell_type": "markdown",
   "metadata": {},
   "source": [
    "# Feature engineering"
   ]
  },
  {
   "cell_type": "markdown",
   "metadata": {},
   "source": [
    "In this notebook we cover examples of common feature engineering tasks on both numeric and categorical data. The goal isn't to be exhaustive, but provide you with enough examples that you get the picture. As we will see in future lectures, good feature engineering can significantly improve model performance, but feature engineering, just like machine learning in general, can be \"part art, part science\". So let's see what we mean by that.\n",
    "\n",
    "We begin with numeric features. Let's begin by reading some data."
   ]
  },
  {
   "cell_type": "code",
   "execution_count": 2,
   "metadata": {},
   "outputs": [
    {
     "data": {
      "text/html": [
       "<div>\n",
       "<style scoped>\n",
       "    .dataframe tbody tr th:only-of-type {\n",
       "        vertical-align: middle;\n",
       "    }\n",
       "\n",
       "    .dataframe tbody tr th {\n",
       "        vertical-align: top;\n",
       "    }\n",
       "\n",
       "    .dataframe thead th {\n",
       "        text-align: right;\n",
       "    }\n",
       "</style>\n",
       "<table border=\"1\" class=\"dataframe\">\n",
       "  <thead>\n",
       "    <tr style=\"text-align: right;\">\n",
       "      <th></th>\n",
       "      <th>mpg</th>\n",
       "      <th>displacement</th>\n",
       "      <th>weight</th>\n",
       "      <th>acceleration</th>\n",
       "      <th>model year</th>\n",
       "      <th>origin</th>\n",
       "    </tr>\n",
       "  </thead>\n",
       "  <tbody>\n",
       "    <tr>\n",
       "      <th>count</th>\n",
       "      <td>398.000000</td>\n",
       "      <td>398.000000</td>\n",
       "      <td>398.000000</td>\n",
       "      <td>398.000000</td>\n",
       "      <td>398.000000</td>\n",
       "      <td>398.000000</td>\n",
       "    </tr>\n",
       "    <tr>\n",
       "      <th>mean</th>\n",
       "      <td>23.514573</td>\n",
       "      <td>193.425879</td>\n",
       "      <td>2970.424623</td>\n",
       "      <td>15.568090</td>\n",
       "      <td>76.010050</td>\n",
       "      <td>1.572864</td>\n",
       "    </tr>\n",
       "    <tr>\n",
       "      <th>std</th>\n",
       "      <td>7.815984</td>\n",
       "      <td>104.269838</td>\n",
       "      <td>846.841774</td>\n",
       "      <td>2.757689</td>\n",
       "      <td>3.697627</td>\n",
       "      <td>0.802055</td>\n",
       "    </tr>\n",
       "    <tr>\n",
       "      <th>min</th>\n",
       "      <td>9.000000</td>\n",
       "      <td>68.000000</td>\n",
       "      <td>1613.000000</td>\n",
       "      <td>8.000000</td>\n",
       "      <td>70.000000</td>\n",
       "      <td>1.000000</td>\n",
       "    </tr>\n",
       "    <tr>\n",
       "      <th>25%</th>\n",
       "      <td>17.500000</td>\n",
       "      <td>104.250000</td>\n",
       "      <td>2223.750000</td>\n",
       "      <td>13.825000</td>\n",
       "      <td>73.000000</td>\n",
       "      <td>1.000000</td>\n",
       "    </tr>\n",
       "    <tr>\n",
       "      <th>50%</th>\n",
       "      <td>23.000000</td>\n",
       "      <td>148.500000</td>\n",
       "      <td>2803.500000</td>\n",
       "      <td>15.500000</td>\n",
       "      <td>76.000000</td>\n",
       "      <td>1.000000</td>\n",
       "    </tr>\n",
       "    <tr>\n",
       "      <th>75%</th>\n",
       "      <td>29.000000</td>\n",
       "      <td>262.000000</td>\n",
       "      <td>3608.000000</td>\n",
       "      <td>17.175000</td>\n",
       "      <td>79.000000</td>\n",
       "      <td>2.000000</td>\n",
       "    </tr>\n",
       "    <tr>\n",
       "      <th>max</th>\n",
       "      <td>46.600000</td>\n",
       "      <td>455.000000</td>\n",
       "      <td>5140.000000</td>\n",
       "      <td>24.800000</td>\n",
       "      <td>82.000000</td>\n",
       "      <td>3.000000</td>\n",
       "    </tr>\n",
       "  </tbody>\n",
       "</table>\n",
       "</div>"
      ],
      "text/plain": [
       "              mpg  displacement       weight  acceleration  model year  \\\n",
       "count  398.000000    398.000000   398.000000    398.000000  398.000000   \n",
       "mean    23.514573    193.425879  2970.424623     15.568090   76.010050   \n",
       "std      7.815984    104.269838   846.841774      2.757689    3.697627   \n",
       "min      9.000000     68.000000  1613.000000      8.000000   70.000000   \n",
       "25%     17.500000    104.250000  2223.750000     13.825000   73.000000   \n",
       "50%     23.000000    148.500000  2803.500000     15.500000   76.000000   \n",
       "75%     29.000000    262.000000  3608.000000     17.175000   79.000000   \n",
       "max     46.600000    455.000000  5140.000000     24.800000   82.000000   \n",
       "\n",
       "           origin  \n",
       "count  398.000000  \n",
       "mean     1.572864  \n",
       "std      0.802055  \n",
       "min      1.000000  \n",
       "25%      1.000000  \n",
       "50%      1.000000  \n",
       "75%      2.000000  \n",
       "max      3.000000  "
      ]
     },
     "execution_count": 2,
     "metadata": {},
     "output_type": "execute_result"
    }
   ],
   "source": [
    "import pandas as pd\n",
    "import numpy as np\n",
    "import seaborn as sns\n",
    "\n",
    "auto = pd.read_csv('../Data/auto-mpg.csv', sep = '\\s+', header = None, \n",
    "                   names = ['mpg', 'cylinders', 'displacement', 'horsepower', 'weight', \n",
    "                            'acceleration', 'model year', 'origin', 'car_name'])\n",
    "\n",
    "auto['cylinders'] = auto['cylinders'].astype('category')\n",
    "auto.describe()"
   ]
  },
  {
   "cell_type": "code",
   "execution_count": 25,
   "metadata": {},
   "outputs": [
    {
     "data": {
      "text/plain": [
       "mpg             False\n",
       "cylinders       False\n",
       "displacement    False\n",
       "horsepower      False\n",
       "weight          False\n",
       "acceleration    False\n",
       "model year      False\n",
       "origin          False\n",
       "car_name        False\n",
       "dtype: bool"
      ]
     },
     "execution_count": 25,
     "metadata": {},
     "output_type": "execute_result"
    }
   ],
   "source": [
    "auto.isnull().any(axis=0)"
   ]
  },
  {
   "cell_type": "code",
   "execution_count": 83,
   "metadata": {},
   "outputs": [
    {
     "data": {
      "text/plain": [
       "mpg                        float64\n",
       "cylinders                 category\n",
       "displacement               float64\n",
       "horsepower                  object\n",
       "weight                     float64\n",
       "acceleration               float64\n",
       "model year                   int64\n",
       "origin                       int64\n",
       "car_name                    object\n",
       "mpg_norm                   float64\n",
       "displacement_norm          float64\n",
       "weight_norm                float64\n",
       "acceleration_norm          float64\n",
       "mpg_norm_loop              float64\n",
       "displacement_norm_loop     float64\n",
       "weight_norm_loop           float64\n",
       "acceleration_norm_loop     float64\n",
       "dtype: object"
      ]
     },
     "execution_count": 83,
     "metadata": {},
     "output_type": "execute_result"
    }
   ],
   "source": [
    "auto.dtypes"
   ]
  },
  {
   "cell_type": "markdown",
   "metadata": {},
   "source": [
    "We saw some examples of **feature transformation** functions in the previous lesson. **Feature engineering**, in fact, consists of running similar feature transformations on the data and gradually modifying existing columns and adding new features to the data, with the goal of ending up with features that are more useful to the model than the original features we started with. What makes feature engineering so special is that we apply these transformations with an eye towards making the machine learning easier or more doable. Having good features (what feature engineering is all about) can significantly impact how well we do when we move on to machine learning.\n",
    "\n",
    "A common type of feature transformation for numeric features is **feature normalization**. Note that **normalization** is a word that means something very different in relational databases than in machine learning, so be careful not to confuse the two. The two most common ways to normalize features is **Z-normalization** and **min-max normalization**:\n",
    "\n",
    "- **Z-normalization** consists of the following transformation, and results in most of the values for the transformed $x$ being between -2 and 2. \n",
    "$$x \\rightarrow \\dfrac{x - mean(x)}{std(x)}$$\n",
    "- **min-max normalization** consists of the following transformation, and forces all the values of the transformed $x$ to be between 0 and 1: \n",
    "$$x \\rightarrow \\dfrac{x - min(x)}{max(x) - min(x)}$$\n",
    "\n",
    "So what is the purpose of normalization? If we only have one feature, normalization doesn't really serve a purpose. Normalization makes sense when we have many features and we want to **put them on the same scale**, which is why normalization is also sometimes called **rescaling** or **standardization**. **Some (but not all) ML algorithms only work properly if the data is normalized, otherwise the features that are on a larger scale will exert undue influence on the model.** So normalization acts as a way of leveling the playing field."
   ]
  },
  {
   "cell_type": "markdown",
   "metadata": {},
   "source": [
    "### Exercise (15 minutes)\n",
    "\n",
    "- Normalize `mpg`, `displacement`, `weight` and `acceleration`. Instead of overwriting the original columns, add the normalized features as new columns and name each column using the column name and a `_norm` suffix. You are free to choose between Z-normalization or min-max normalization."
   ]
  },
  {
   "cell_type": "code",
   "execution_count": 28,
   "metadata": {},
   "outputs": [
    {
     "data": {
      "text/plain": [
       "Index(['mpg', 'cylinders', 'displacement', 'horsepower', 'weight',\n",
       "       'acceleration', 'model year', 'origin', 'car_name', 'mpg_norm',\n",
       "       'displacement_norm', 'weight_norm', 'acceleration_norm'],\n",
       "      dtype='object')"
      ]
     },
     "execution_count": 28,
     "metadata": {},
     "output_type": "execute_result"
    }
   ],
   "source": [
    "auto['mpg_norm'] = (auto['mpg'] - auto['mpg'].mean()) / auto['mpg'].std()\n",
    "auto['displacement_norm'] = (auto['displacement'] - auto['displacement'].mean()) / auto['displacement'].std()\n",
    "auto['weight_norm'] = (auto['weight'] - auto['weight'].mean()) / auto['weight'].std()\n",
    "auto['acceleration_norm']=(auto['acceleration'] - auto['acceleration'].mean()) / auto['acceleration'].std()\n",
    "\n",
    "auto.columns"
   ]
  },
  {
   "cell_type": "markdown",
   "metadata": {},
   "source": [
    "Unless your Python skills are improving by leaps and bounds, you probably normalized the features one at a time. What if we wanted to do it all at once? \n",
    "\n",
    "- Write a loop to iterate over the four columns and normalize each. To make it easier, we already put the column names in a list for you."
   ]
  },
  {
   "cell_type": "code",
   "execution_count": 30,
   "metadata": {},
   "outputs": [
    {
     "data": {
      "text/plain": [
       "Index(['mpg', 'cylinders', 'displacement', 'horsepower', 'weight',\n",
       "       'acceleration', 'model year', 'origin', 'car_name', 'mpg_norm',\n",
       "       'displacement_norm', 'weight_norm', 'acceleration_norm',\n",
       "       'mpg_norm_loop', 'displacement_norm_loop', 'weight_norm_loop',\n",
       "       'acceleration_norm_loop'],\n",
       "      dtype='object')"
      ]
     },
     "execution_count": 30,
     "metadata": {},
     "output_type": "execute_result"
    }
   ],
   "source": [
    "num_cols = ['mpg', 'displacement', 'weight', 'acceleration']\n",
    "# your code goes here\n",
    "\n",
    "for cols in num_cols:\n",
    "    auto[cols + '_norm_loop'] = (auto[cols] - auto[cols].mean()) / auto[cols].std()\n",
    "    \n",
    "auto.columns\n"
   ]
  },
  {
   "cell_type": "markdown",
   "metadata": {},
   "source": [
    "There is an even better way to run our transformations all at once without writing a loop. First we have to write a function whose input is an array and whose output is an array of the same size with the values normalized. \n",
    "\n",
    "- Write such a function and use the below cell to test it and make sure it worked."
   ]
  },
  {
   "cell_type": "code",
   "execution_count": 31,
   "metadata": {},
   "outputs": [
    {
     "data": {
      "text/plain": [
       "array([-1.13389342,  1.88982237, -0.75592895,  0.37796447, -0.37796447,\n",
       "        1.51185789, -0.75592895,  0.        ,  0.37796447, -1.13389342])"
      ]
     },
     "execution_count": 31,
     "metadata": {},
     "output_type": "execute_result"
    }
   ],
   "source": [
    "def normalize_test(x):\n",
    "    x_norm_test = (x - x.mean())/x.std()\n",
    "    return x_norm_test\n",
    "\n",
    "x_test_me = np.array([1,9,2,5,3,8,2,4,5,1])\n",
    "normalize_test(x_test_me)"
   ]
  },
  {
   "cell_type": "code",
   "execution_count": 8,
   "metadata": {},
   "outputs": [
    {
     "data": {
      "text/plain": [
       "array([-0.51639778,  0.        ,  1.03279556,  1.54919334, -0.77459667,\n",
       "       -1.29099445])"
      ]
     },
     "execution_count": 8,
     "metadata": {},
     "output_type": "execute_result"
    }
   ],
   "source": [
    "def normalize(x):\n",
    "    x_norm = (x - x.mean()) / x.std()\n",
    "    return x_norm\n",
    "\n",
    "x_test = np.array([3, 5, 9, 11, 2, 0])\n",
    "normalize(x_test)"
   ]
  },
  {
   "cell_type": "markdown",
   "metadata": {},
   "source": [
    "- Apply the function to the data. HINT: use the `apply` method.\n",
    "  - note that we need to limit the data to only the four columns we wish to transform\n",
    "  - we need to use the `axis = 0` argument to let `apply` know that the transformation applies to columns (`axis = 1` would apply it to rows, which is not what we want here)"
   ]
  },
  {
   "cell_type": "code",
   "execution_count": 35,
   "metadata": {},
   "outputs": [
    {
     "data": {
      "text/html": [
       "<div>\n",
       "<style scoped>\n",
       "    .dataframe tbody tr th:only-of-type {\n",
       "        vertical-align: middle;\n",
       "    }\n",
       "\n",
       "    .dataframe tbody tr th {\n",
       "        vertical-align: top;\n",
       "    }\n",
       "\n",
       "    .dataframe thead th {\n",
       "        text-align: right;\n",
       "    }\n",
       "</style>\n",
       "<table border=\"1\" class=\"dataframe\">\n",
       "  <thead>\n",
       "    <tr style=\"text-align: right;\">\n",
       "      <th></th>\n",
       "      <th>mpg</th>\n",
       "      <th>displacement</th>\n",
       "      <th>weight</th>\n",
       "      <th>acceleration</th>\n",
       "    </tr>\n",
       "  </thead>\n",
       "  <tbody>\n",
       "    <tr>\n",
       "      <td>count</td>\n",
       "      <td>3.980000e+02</td>\n",
       "      <td>3.980000e+02</td>\n",
       "      <td>3.980000e+02</td>\n",
       "      <td>3.980000e+02</td>\n",
       "    </tr>\n",
       "    <tr>\n",
       "      <td>mean</td>\n",
       "      <td>-1.041043e-15</td>\n",
       "      <td>-8.256935e-17</td>\n",
       "      <td>-9.637740e-17</td>\n",
       "      <td>5.479704e-15</td>\n",
       "    </tr>\n",
       "    <tr>\n",
       "      <td>std</td>\n",
       "      <td>1.000000e+00</td>\n",
       "      <td>1.000000e+00</td>\n",
       "      <td>1.000000e+00</td>\n",
       "      <td>1.000000e+00</td>\n",
       "    </tr>\n",
       "    <tr>\n",
       "      <td>min</td>\n",
       "      <td>-1.857037e+00</td>\n",
       "      <td>-1.202897e+00</td>\n",
       "      <td>-1.602926e+00</td>\n",
       "      <td>-2.744360e+00</td>\n",
       "    </tr>\n",
       "    <tr>\n",
       "      <td>25%</td>\n",
       "      <td>-7.695221e-01</td>\n",
       "      <td>-8.552414e-01</td>\n",
       "      <td>-8.817168e-01</td>\n",
       "      <td>-6.320838e-01</td>\n",
       "    </tr>\n",
       "    <tr>\n",
       "      <td>50%</td>\n",
       "      <td>-6.583596e-02</td>\n",
       "      <td>-4.308617e-01</td>\n",
       "      <td>-1.971143e-01</td>\n",
       "      <td>-2.469113e-02</td>\n",
       "    </tr>\n",
       "    <tr>\n",
       "      <td>75%</td>\n",
       "      <td>7.018217e-01</td>\n",
       "      <td>6.576602e-01</td>\n",
       "      <td>7.528861e-01</td>\n",
       "      <td>5.827015e-01</td>\n",
       "    </tr>\n",
       "    <tr>\n",
       "      <td>max</td>\n",
       "      <td>2.953617e+00</td>\n",
       "      <td>2.508627e+00</td>\n",
       "      <td>2.561961e+00</td>\n",
       "      <td>3.347698e+00</td>\n",
       "    </tr>\n",
       "  </tbody>\n",
       "</table>\n",
       "</div>"
      ],
      "text/plain": [
       "                mpg  displacement        weight  acceleration\n",
       "count  3.980000e+02  3.980000e+02  3.980000e+02  3.980000e+02\n",
       "mean  -1.041043e-15 -8.256935e-17 -9.637740e-17  5.479704e-15\n",
       "std    1.000000e+00  1.000000e+00  1.000000e+00  1.000000e+00\n",
       "min   -1.857037e+00 -1.202897e+00 -1.602926e+00 -2.744360e+00\n",
       "25%   -7.695221e-01 -8.552414e-01 -8.817168e-01 -6.320838e-01\n",
       "50%   -6.583596e-02 -4.308617e-01 -1.971143e-01 -2.469113e-02\n",
       "75%    7.018217e-01  6.576602e-01  7.528861e-01  5.827015e-01\n",
       "max    2.953617e+00  2.508627e+00  2.561961e+00  3.347698e+00"
      ]
     },
     "execution_count": 35,
     "metadata": {},
     "output_type": "execute_result"
    }
   ],
   "source": [
    "auto_num = auto[num_cols]\n",
    "\n",
    "auto_num_z_test = auto_num.apply(normalize_test, axis=0)\n",
    "auto_num_z_test.describe()"
   ]
  },
  {
   "cell_type": "code",
   "execution_count": 10,
   "metadata": {},
   "outputs": [
    {
     "data": {
      "text/html": [
       "<div>\n",
       "<style scoped>\n",
       "    .dataframe tbody tr th:only-of-type {\n",
       "        vertical-align: middle;\n",
       "    }\n",
       "\n",
       "    .dataframe tbody tr th {\n",
       "        vertical-align: top;\n",
       "    }\n",
       "\n",
       "    .dataframe thead th {\n",
       "        text-align: right;\n",
       "    }\n",
       "</style>\n",
       "<table border=\"1\" class=\"dataframe\">\n",
       "  <thead>\n",
       "    <tr style=\"text-align: right;\">\n",
       "      <th></th>\n",
       "      <th>mpg</th>\n",
       "      <th>displacement</th>\n",
       "      <th>weight</th>\n",
       "      <th>acceleration</th>\n",
       "    </tr>\n",
       "  </thead>\n",
       "  <tbody>\n",
       "    <tr>\n",
       "      <td>count</td>\n",
       "      <td>3.980000e+02</td>\n",
       "      <td>3.980000e+02</td>\n",
       "      <td>3.980000e+02</td>\n",
       "      <td>3.980000e+02</td>\n",
       "    </tr>\n",
       "    <tr>\n",
       "      <td>mean</td>\n",
       "      <td>-1.041043e-15</td>\n",
       "      <td>-8.256935e-17</td>\n",
       "      <td>-9.637740e-17</td>\n",
       "      <td>5.479704e-15</td>\n",
       "    </tr>\n",
       "    <tr>\n",
       "      <td>std</td>\n",
       "      <td>1.000000e+00</td>\n",
       "      <td>1.000000e+00</td>\n",
       "      <td>1.000000e+00</td>\n",
       "      <td>1.000000e+00</td>\n",
       "    </tr>\n",
       "    <tr>\n",
       "      <td>min</td>\n",
       "      <td>-1.857037e+00</td>\n",
       "      <td>-1.202897e+00</td>\n",
       "      <td>-1.602926e+00</td>\n",
       "      <td>-2.744360e+00</td>\n",
       "    </tr>\n",
       "    <tr>\n",
       "      <td>25%</td>\n",
       "      <td>-7.695221e-01</td>\n",
       "      <td>-8.552414e-01</td>\n",
       "      <td>-8.817168e-01</td>\n",
       "      <td>-6.320838e-01</td>\n",
       "    </tr>\n",
       "    <tr>\n",
       "      <td>50%</td>\n",
       "      <td>-6.583596e-02</td>\n",
       "      <td>-4.308617e-01</td>\n",
       "      <td>-1.971143e-01</td>\n",
       "      <td>-2.469113e-02</td>\n",
       "    </tr>\n",
       "    <tr>\n",
       "      <td>75%</td>\n",
       "      <td>7.018217e-01</td>\n",
       "      <td>6.576602e-01</td>\n",
       "      <td>7.528861e-01</td>\n",
       "      <td>5.827015e-01</td>\n",
       "    </tr>\n",
       "    <tr>\n",
       "      <td>max</td>\n",
       "      <td>2.953617e+00</td>\n",
       "      <td>2.508627e+00</td>\n",
       "      <td>2.561961e+00</td>\n",
       "      <td>3.347698e+00</td>\n",
       "    </tr>\n",
       "  </tbody>\n",
       "</table>\n",
       "</div>"
      ],
      "text/plain": [
       "                mpg  displacement        weight  acceleration\n",
       "count  3.980000e+02  3.980000e+02  3.980000e+02  3.980000e+02\n",
       "mean  -1.041043e-15 -8.256935e-17 -9.637740e-17  5.479704e-15\n",
       "std    1.000000e+00  1.000000e+00  1.000000e+00  1.000000e+00\n",
       "min   -1.857037e+00 -1.202897e+00 -1.602926e+00 -2.744360e+00\n",
       "25%   -7.695221e-01 -8.552414e-01 -8.817168e-01 -6.320838e-01\n",
       "50%   -6.583596e-02 -4.308617e-01 -1.971143e-01 -2.469113e-02\n",
       "75%    7.018217e-01  6.576602e-01  7.528861e-01  5.827015e-01\n",
       "max    2.953617e+00  2.508627e+00  2.561961e+00  3.347698e+00"
      ]
     },
     "execution_count": 10,
     "metadata": {},
     "output_type": "execute_result"
    }
   ],
   "source": [
    "auto_num = auto[num_cols]\n",
    "auto_num_z = auto_num.apply(normalize, axis=0)\n",
    "auto_num_z.describe()"
   ]
  },
  {
   "cell_type": "markdown",
   "metadata": {},
   "source": [
    "- Check the results using `describe`. Then do an additional sanity check:\n",
    "  - if your function is doing Z-normalization, then check the mean and standard deviation of your normalized columns to make sure they are 0 and 1 respectively\n",
    "  - if your function is doing min-max normalization, then check the minimum and maximum values of your normalized columns to make sure they are 0 and 1 respectively"
   ]
  },
  {
   "cell_type": "code",
   "execution_count": 36,
   "metadata": {},
   "outputs": [
    {
     "data": {
      "text/html": [
       "<div>\n",
       "<style scoped>\n",
       "    .dataframe tbody tr th:only-of-type {\n",
       "        vertical-align: middle;\n",
       "    }\n",
       "\n",
       "    .dataframe tbody tr th {\n",
       "        vertical-align: top;\n",
       "    }\n",
       "\n",
       "    .dataframe thead th {\n",
       "        text-align: right;\n",
       "    }\n",
       "</style>\n",
       "<table border=\"1\" class=\"dataframe\">\n",
       "  <thead>\n",
       "    <tr style=\"text-align: right;\">\n",
       "      <th></th>\n",
       "      <th>mpg</th>\n",
       "      <th>displacement</th>\n",
       "      <th>weight</th>\n",
       "      <th>acceleration</th>\n",
       "    </tr>\n",
       "  </thead>\n",
       "  <tbody>\n",
       "    <tr>\n",
       "      <td>count</td>\n",
       "      <td>3.980000e+02</td>\n",
       "      <td>3.980000e+02</td>\n",
       "      <td>3.980000e+02</td>\n",
       "      <td>3.980000e+02</td>\n",
       "    </tr>\n",
       "    <tr>\n",
       "      <td>mean</td>\n",
       "      <td>-1.041043e-15</td>\n",
       "      <td>-8.256935e-17</td>\n",
       "      <td>-9.637740e-17</td>\n",
       "      <td>5.479704e-15</td>\n",
       "    </tr>\n",
       "    <tr>\n",
       "      <td>std</td>\n",
       "      <td>1.000000e+00</td>\n",
       "      <td>1.000000e+00</td>\n",
       "      <td>1.000000e+00</td>\n",
       "      <td>1.000000e+00</td>\n",
       "    </tr>\n",
       "    <tr>\n",
       "      <td>min</td>\n",
       "      <td>-1.857037e+00</td>\n",
       "      <td>-1.202897e+00</td>\n",
       "      <td>-1.602926e+00</td>\n",
       "      <td>-2.744360e+00</td>\n",
       "    </tr>\n",
       "    <tr>\n",
       "      <td>25%</td>\n",
       "      <td>-7.695221e-01</td>\n",
       "      <td>-8.552414e-01</td>\n",
       "      <td>-8.817168e-01</td>\n",
       "      <td>-6.320838e-01</td>\n",
       "    </tr>\n",
       "    <tr>\n",
       "      <td>50%</td>\n",
       "      <td>-6.583596e-02</td>\n",
       "      <td>-4.308617e-01</td>\n",
       "      <td>-1.971143e-01</td>\n",
       "      <td>-2.469113e-02</td>\n",
       "    </tr>\n",
       "    <tr>\n",
       "      <td>75%</td>\n",
       "      <td>7.018217e-01</td>\n",
       "      <td>6.576602e-01</td>\n",
       "      <td>7.528861e-01</td>\n",
       "      <td>5.827015e-01</td>\n",
       "    </tr>\n",
       "    <tr>\n",
       "      <td>max</td>\n",
       "      <td>2.953617e+00</td>\n",
       "      <td>2.508627e+00</td>\n",
       "      <td>2.561961e+00</td>\n",
       "      <td>3.347698e+00</td>\n",
       "    </tr>\n",
       "  </tbody>\n",
       "</table>\n",
       "</div>"
      ],
      "text/plain": [
       "                mpg  displacement        weight  acceleration\n",
       "count  3.980000e+02  3.980000e+02  3.980000e+02  3.980000e+02\n",
       "mean  -1.041043e-15 -8.256935e-17 -9.637740e-17  5.479704e-15\n",
       "std    1.000000e+00  1.000000e+00  1.000000e+00  1.000000e+00\n",
       "min   -1.857037e+00 -1.202897e+00 -1.602926e+00 -2.744360e+00\n",
       "25%   -7.695221e-01 -8.552414e-01 -8.817168e-01 -6.320838e-01\n",
       "50%   -6.583596e-02 -4.308617e-01 -1.971143e-01 -2.469113e-02\n",
       "75%    7.018217e-01  6.576602e-01  7.528861e-01  5.827015e-01\n",
       "max    2.953617e+00  2.508627e+00  2.561961e+00  3.347698e+00"
      ]
     },
     "execution_count": 36,
     "metadata": {},
     "output_type": "execute_result"
    }
   ],
   "source": [
    "auto_num_z_test.describe()"
   ]
  },
  {
   "cell_type": "markdown",
   "metadata": {},
   "source": [
    "In our implementation of the `normalize` function above, we computed the mean and standard deviation (or min and max in the case of min-max normalization) **on the fly**. This means that any time we want to normalize new data, we compute the mean and standard deviation of the new data and then normalize it accordingly. In machine learning, this poses a problem: normalizing two different data sets using the mean and standard deviation of each means that they each get normalized silghtly differently and we lose the consistency (we will see why in future lectures). So instead, we want to learn the mean and standard deviation of one data, and normalize **that data and any future data** using the same mean and standard deviation.\n",
    "\n",
    "- Modify the `normalize` function so we can fix the mean and standard deviation. Then apply the transformation to `x_test_1` below and then the **same** transformation to `x_test_2`."
   ]
  },
  {
   "cell_type": "code",
   "execution_count": 37,
   "metadata": {
    "tags": []
   },
   "outputs": [
    {
     "name": "stdout",
     "output_type": "stream",
     "text": [
      "[-0.51639778  0.          1.03279556  1.54919334 -0.77459667 -1.29099445]\n",
      "[-0.60302269 -0.42211588  0.12060454  1.56785899  0.84423176 -1.50755672]\n"
     ]
    }
   ],
   "source": [
    "def normalize(x):\n",
    "    x_norm = (x - x.mean())/x.std()\n",
    "    return x_norm\n",
    "\n",
    "x_test_1 = np.array([3, 5, 9, 11, 2, 0])\n",
    "x_test_2 = np.array([1, 2, 5, 13, 9, -4])\n",
    "\n",
    "print(normalize(x_test_1))\n",
    "print(normalize(x_test_2))"
   ]
  },
  {
   "cell_type": "markdown",
   "metadata": {},
   "source": [
    "This last part has important consequences in machine learning. As we will see next, this is something that is automatically handled by `sklearn`."
   ]
  },
  {
   "cell_type": "markdown",
   "metadata": {},
   "source": [
    "### End of exercise"
   ]
  },
  {
   "cell_type": "markdown",
   "metadata": {},
   "source": [
    "Since normalization is a very common task, you shoudn't be surprised to find out that there are already functions for it. I hope you still found the previous exercise useful!\n",
    "\n",
    "However, this time we have to go to the `sklearn` library to find our function. The `sklearn` library is Python's most common machine learning library and one that we will return to in future lectures. In addition to the machine learning algorithms we will learn about, `sklearn` also has functions for **pre-processing data**, which is a vague term that includes tasks such as missing-value imputation, feature engineering and so on. Let's see how we can use it to normalize our data."
   ]
  },
  {
   "cell_type": "code",
   "execution_count": 82,
   "metadata": {},
   "outputs": [
    {
     "ename": "NameError",
     "evalue": "name 'num_cols_rob' is not defined",
     "output_type": "error",
     "traceback": [
      "\u001b[1;31m---------------------------------------------------------------------------\u001b[0m",
      "\u001b[1;31mNameError\u001b[0m                                 Traceback (most recent call last)",
      "\u001b[1;32m<ipython-input-82-33107d6ca401>\u001b[0m in \u001b[0;36m<module>\u001b[1;34m\u001b[0m\n\u001b[0;32m      1\u001b[0m \u001b[1;32mfrom\u001b[0m \u001b[0msklearn\u001b[0m\u001b[1;33m.\u001b[0m\u001b[0mpreprocessing\u001b[0m \u001b[1;32mimport\u001b[0m \u001b[0mMinMaxScaler\u001b[0m\u001b[1;33m,\u001b[0m \u001b[0mStandardScaler\u001b[0m\u001b[1;33m,\u001b[0m \u001b[0mRobustScaler\u001b[0m\u001b[1;33m\u001b[0m\u001b[1;33m\u001b[0m\u001b[0m\n\u001b[0;32m      2\u001b[0m \u001b[0mnum_cols_norm\u001b[0m \u001b[1;33m=\u001b[0m \u001b[1;33m[\u001b[0m\u001b[0mc\u001b[0m \u001b[1;33m+\u001b[0m \u001b[1;34m'_norm'\u001b[0m \u001b[1;32mfor\u001b[0m \u001b[0mc\u001b[0m \u001b[1;32min\u001b[0m \u001b[0mnum_cols\u001b[0m\u001b[1;33m]\u001b[0m \u001b[1;31m# names of transformed columns\u001b[0m\u001b[1;33m\u001b[0m\u001b[1;33m\u001b[0m\u001b[0m\n\u001b[1;32m----> 3\u001b[1;33m \u001b[0mnum_cols_rob\u001b[0m \u001b[1;33m=\u001b[0m \u001b[1;33m[\u001b[0m\u001b[0mc\u001b[0m \u001b[1;33m+\u001b[0m \u001b[1;34m'_rob'\u001b[0m \u001b[1;32mfor\u001b[0m \u001b[0mc\u001b[0m \u001b[1;32min\u001b[0m \u001b[0mnum_cols_rob\u001b[0m\u001b[1;33m]\u001b[0m\u001b[1;33m\u001b[0m\u001b[1;33m\u001b[0m\u001b[0m\n\u001b[0m",
      "\u001b[1;31mNameError\u001b[0m: name 'num_cols_rob' is not defined"
     ]
    }
   ],
   "source": [
    "from sklearn.preprocessing import MinMaxScaler, StandardScaler, RobustScaler\n",
    "num_cols_norm = [c + '_norm' for c in num_cols] # names of transformed columns\n",
    "num_cols_rob = [c + '_rob' for c in num_cols_rob]"
   ]
  },
  {
   "cell_type": "markdown",
   "metadata": {},
   "source": [
    "At first blush, this code might look a little strange, but this pattern as we will see is very common to ML-related tasks in `sklearn`:\n",
    "- initialize the process by choosing the function (with arguments we wish, if any)\n",
    "- run `fit` first on the data, followed by `transform` to apply the transformation"
   ]
  },
  {
   "cell_type": "code",
   "execution_count": 12,
   "metadata": {
    "scrolled": true
   },
   "outputs": [
    {
     "data": {
      "text/html": [
       "<div>\n",
       "<style scoped>\n",
       "    .dataframe tbody tr th:only-of-type {\n",
       "        vertical-align: middle;\n",
       "    }\n",
       "\n",
       "    .dataframe tbody tr th {\n",
       "        vertical-align: top;\n",
       "    }\n",
       "\n",
       "    .dataframe thead th {\n",
       "        text-align: right;\n",
       "    }\n",
       "</style>\n",
       "<table border=\"1\" class=\"dataframe\">\n",
       "  <thead>\n",
       "    <tr style=\"text-align: right;\">\n",
       "      <th></th>\n",
       "      <th>mpg_norm</th>\n",
       "      <th>displacement_norm</th>\n",
       "      <th>weight_norm</th>\n",
       "      <th>acceleration_norm</th>\n",
       "    </tr>\n",
       "  </thead>\n",
       "  <tbody>\n",
       "    <tr>\n",
       "      <td>0</td>\n",
       "      <td>0.239362</td>\n",
       "      <td>0.617571</td>\n",
       "      <td>0.536150</td>\n",
       "      <td>0.238095</td>\n",
       "    </tr>\n",
       "    <tr>\n",
       "      <td>1</td>\n",
       "      <td>0.159574</td>\n",
       "      <td>0.728682</td>\n",
       "      <td>0.589736</td>\n",
       "      <td>0.208333</td>\n",
       "    </tr>\n",
       "    <tr>\n",
       "      <td>2</td>\n",
       "      <td>0.239362</td>\n",
       "      <td>0.645995</td>\n",
       "      <td>0.516870</td>\n",
       "      <td>0.178571</td>\n",
       "    </tr>\n",
       "    <tr>\n",
       "      <td>3</td>\n",
       "      <td>0.186170</td>\n",
       "      <td>0.609819</td>\n",
       "      <td>0.516019</td>\n",
       "      <td>0.238095</td>\n",
       "    </tr>\n",
       "    <tr>\n",
       "      <td>4</td>\n",
       "      <td>0.212766</td>\n",
       "      <td>0.604651</td>\n",
       "      <td>0.520556</td>\n",
       "      <td>0.148810</td>\n",
       "    </tr>\n",
       "  </tbody>\n",
       "</table>\n",
       "</div>"
      ],
      "text/plain": [
       "   mpg_norm  displacement_norm  weight_norm  acceleration_norm\n",
       "0  0.239362           0.617571     0.536150           0.238095\n",
       "1  0.159574           0.728682     0.589736           0.208333\n",
       "2  0.239362           0.645995     0.516870           0.178571\n",
       "3  0.186170           0.609819     0.516019           0.238095\n",
       "4  0.212766           0.604651     0.520556           0.148810"
      ]
     },
     "execution_count": 12,
     "metadata": {},
     "output_type": "execute_result"
    }
   ],
   "source": [
    "minmax_scaler = MinMaxScaler() # initialization / create an instance of the class\n",
    "minmax_scaler.fit(auto[num_cols]) # call fit method and it will apply it to the dataset you are passing through it, fits to the parameters\n",
    "###minmax_scaler is good to use with fit as it can apply to other datasets\n",
    "auto[num_cols_norm] = pd.DataFrame(minmax_scaler.transform(auto[num_cols])) #transforming the data to the parameters during the fit\n",
    "auto[num_cols_norm].head()"
   ]
  },
  {
   "cell_type": "code",
   "execution_count": 81,
   "metadata": {},
   "outputs": [
    {
     "ename": "NameError",
     "evalue": "name 'num_cols_rob' is not defined",
     "output_type": "error",
     "traceback": [
      "\u001b[1;31m---------------------------------------------------------------------------\u001b[0m",
      "\u001b[1;31mNameError\u001b[0m                                 Traceback (most recent call last)",
      "\u001b[1;32m<ipython-input-81-3d2e45d20350>\u001b[0m in \u001b[0;36m<module>\u001b[1;34m\u001b[0m\n\u001b[0;32m      1\u001b[0m \u001b[0mrobust_scaler\u001b[0m \u001b[1;33m=\u001b[0m \u001b[0mRobustScaler\u001b[0m\u001b[1;33m(\u001b[0m\u001b[1;33m)\u001b[0m\u001b[1;33m\u001b[0m\u001b[1;33m\u001b[0m\u001b[0m\n\u001b[0;32m      2\u001b[0m \u001b[0mrobust_scaler\u001b[0m\u001b[1;33m.\u001b[0m\u001b[0mfit\u001b[0m\u001b[1;33m(\u001b[0m\u001b[0mauto\u001b[0m\u001b[1;33m[\u001b[0m\u001b[0mnum_cols\u001b[0m\u001b[1;33m]\u001b[0m\u001b[1;33m)\u001b[0m\u001b[1;33m\u001b[0m\u001b[1;33m\u001b[0m\u001b[0m\n\u001b[1;32m----> 3\u001b[1;33m \u001b[0mauto\u001b[0m\u001b[1;33m[\u001b[0m\u001b[0mnum_cols_rob\u001b[0m\u001b[1;33m]\u001b[0m \u001b[1;33m=\u001b[0m \u001b[0mpd\u001b[0m\u001b[1;33m.\u001b[0m\u001b[0mDataFrame\u001b[0m\u001b[1;33m(\u001b[0m\u001b[0mminmax_scaler\u001b[0m\u001b[1;33m.\u001b[0m\u001b[0mtransform\u001b[0m\u001b[1;33m(\u001b[0m\u001b[0mauto\u001b[0m\u001b[1;33m[\u001b[0m\u001b[0mnum_cols\u001b[0m\u001b[1;33m]\u001b[0m\u001b[1;33m)\u001b[0m\u001b[1;33m)\u001b[0m \u001b[1;31m#transforming the data to the parameters during the fit\u001b[0m\u001b[1;33m\u001b[0m\u001b[1;33m\u001b[0m\u001b[0m\n\u001b[0m\u001b[0;32m      4\u001b[0m \u001b[0mauto\u001b[0m\u001b[1;33m[\u001b[0m\u001b[0mnum_cols_rob\u001b[0m\u001b[1;33m]\u001b[0m\u001b[1;33m.\u001b[0m\u001b[0mhead\u001b[0m\u001b[1;33m(\u001b[0m\u001b[1;33m)\u001b[0m\u001b[1;33m\u001b[0m\u001b[1;33m\u001b[0m\u001b[0m\n",
      "\u001b[1;31mNameError\u001b[0m: name 'num_cols_rob' is not defined"
     ]
    }
   ],
   "source": [
    "robust_scaler = RobustScaler()\n",
    "robust_scaler.fit(auto[num_cols])\n",
    "auto[num_cols_rob] = pd.DataFrame(minmax_scaler.transform(auto[num_cols])) #transforming the data to the parameters during the fit\n",
    "auto[num_cols_rob].head()"
   ]
  },
  {
   "cell_type": "code",
   "execution_count": 13,
   "metadata": {},
   "outputs": [
    {
     "data": {
      "image/png": "[encoded data removed]",
      "text/plain": [
       "<Figure size 720x720 with 20 Axes>"
      ]
     },
     "metadata": {
      "needs_background": "light"
     },
     "output_type": "display_data"
    }
   ],
   "source": [
    "sns.pairplot(auto[num_cols_norm]);"
   ]
  },
  {
   "cell_type": "markdown",
   "metadata": {},
   "source": [
    "Here's the same example, but using Z-normalization."
   ]
  },
  {
   "cell_type": "code",
   "execution_count": 16,
   "metadata": {},
   "outputs": [
    {
     "data": {
      "text/html": [
       "<div>\n",
       "<style scoped>\n",
       "    .dataframe tbody tr th:only-of-type {\n",
       "        vertical-align: middle;\n",
       "    }\n",
       "\n",
       "    .dataframe tbody tr th {\n",
       "        vertical-align: top;\n",
       "    }\n",
       "\n",
       "    .dataframe thead th {\n",
       "        text-align: right;\n",
       "    }\n",
       "</style>\n",
       "<table border=\"1\" class=\"dataframe\">\n",
       "  <thead>\n",
       "    <tr style=\"text-align: right;\">\n",
       "      <th></th>\n",
       "      <th>mpg_norm</th>\n",
       "      <th>displacement_norm</th>\n",
       "      <th>weight_norm</th>\n",
       "      <th>acceleration_norm</th>\n",
       "    </tr>\n",
       "  </thead>\n",
       "  <tbody>\n",
       "    <tr>\n",
       "      <td>count</td>\n",
       "      <td>3.980000e+02</td>\n",
       "      <td>3.980000e+02</td>\n",
       "      <td>3.980000e+02</td>\n",
       "      <td>3.980000e+02</td>\n",
       "    </tr>\n",
       "    <tr>\n",
       "      <td>mean</td>\n",
       "      <td>2.761610e-16</td>\n",
       "      <td>-8.312725e-17</td>\n",
       "      <td>-9.902743e-17</td>\n",
       "      <td>8.982206e-17</td>\n",
       "    </tr>\n",
       "    <tr>\n",
       "      <td>std</td>\n",
       "      <td>1.001259e+00</td>\n",
       "      <td>1.001259e+00</td>\n",
       "      <td>1.001259e+00</td>\n",
       "      <td>1.001259e+00</td>\n",
       "    </tr>\n",
       "    <tr>\n",
       "      <td>min</td>\n",
       "      <td>-1.859374e+00</td>\n",
       "      <td>-1.204411e+00</td>\n",
       "      <td>-1.604943e+00</td>\n",
       "      <td>-2.747814e+00</td>\n",
       "    </tr>\n",
       "    <tr>\n",
       "      <td>25%</td>\n",
       "      <td>-7.704907e-01</td>\n",
       "      <td>-8.563178e-01</td>\n",
       "      <td>-8.828266e-01</td>\n",
       "      <td>-6.328794e-01</td>\n",
       "    </tr>\n",
       "    <tr>\n",
       "      <td>50%</td>\n",
       "      <td>-6.591883e-02</td>\n",
       "      <td>-4.314040e-01</td>\n",
       "      <td>-1.973624e-01</td>\n",
       "      <td>-2.472221e-02</td>\n",
       "    </tr>\n",
       "    <tr>\n",
       "      <td>75%</td>\n",
       "      <td>7.027050e-01</td>\n",
       "      <td>6.584879e-01</td>\n",
       "      <td>7.538337e-01</td>\n",
       "      <td>5.834349e-01</td>\n",
       "    </tr>\n",
       "    <tr>\n",
       "      <td>max</td>\n",
       "      <td>2.957335e+00</td>\n",
       "      <td>2.511784e+00</td>\n",
       "      <td>2.565185e+00</td>\n",
       "      <td>3.351912e+00</td>\n",
       "    </tr>\n",
       "  </tbody>\n",
       "</table>\n",
       "</div>"
      ],
      "text/plain": [
       "           mpg_norm  displacement_norm   weight_norm  acceleration_norm\n",
       "count  3.980000e+02       3.980000e+02  3.980000e+02       3.980000e+02\n",
       "mean   2.761610e-16      -8.312725e-17 -9.902743e-17       8.982206e-17\n",
       "std    1.001259e+00       1.001259e+00  1.001259e+00       1.001259e+00\n",
       "min   -1.859374e+00      -1.204411e+00 -1.604943e+00      -2.747814e+00\n",
       "25%   -7.704907e-01      -8.563178e-01 -8.828266e-01      -6.328794e-01\n",
       "50%   -6.591883e-02      -4.314040e-01 -1.973624e-01      -2.472221e-02\n",
       "75%    7.027050e-01       6.584879e-01  7.538337e-01       5.834349e-01\n",
       "max    2.957335e+00       2.511784e+00  2.565185e+00       3.351912e+00"
      ]
     },
     "execution_count": 16,
     "metadata": {},
     "output_type": "execute_result"
    }
   ],
   "source": [
    "znorm_scaler = StandardScaler()\n",
    "znorm_scaler.fit(auto[num_cols])\n",
    "auto[num_cols_norm] = pd.DataFrame(znorm_scaler.transform(auto[num_cols]))\n",
    "auto[num_cols_norm].head()\n",
    "auto[num_cols_norm].describe()"
   ]
  },
  {
   "cell_type": "markdown",
   "metadata": {},
   "source": [
    "A way to augment data is based on looking at other datasets to take a look into other issues\n",
    "\n",
    "A toy is releasing in 2 weeks and they want to see if it will be profitable in 2 years??? Look at category (if for boys 5 - 10 years) - make it easier to categorize and build based on other models and merge"
   ]
  },
  {
   "cell_type": "markdown",
   "metadata": {},
   "source": [
    "Let's look at the scatter plot matirx for the normalized features."
   ]
  },
  {
   "cell_type": "code",
   "execution_count": 17,
   "metadata": {},
   "outputs": [
    {
     "data": {
      "image/png": "[encoded data removed]",
      "text/plain": [
       "<Figure size 720x720 with 20 Axes>"
      ]
     },
     "metadata": {
      "needs_background": "light"
     },
     "output_type": "display_data"
    }
   ],
   "source": [
    "sns.pairplot(auto[num_cols_norm]);"
   ]
  },
  {
   "cell_type": "markdown",
   "metadata": {},
   "source": [
    "In either case, it doesn't look like normalization changed anything to the scatter plot matrix. Do you notice what changed? The answer is that the **range of the data** is what changed. Just check the $x$ and $y$ axes and you'll see. Normalization is not really supposed to change the distribution of the data, just put all features on the same scale.\n",
    "\n",
    "Let's look one last time at the code for normalizing the data using `sklearn`."
   ]
  },
  {
   "cell_type": "code",
   "execution_count": null,
   "metadata": {},
   "outputs": [],
   "source": [
    "minmax_scaler = MinMaxScaler()\n",
    "minmax_scaler.fit(auto[num_cols])\n",
    "auto[num_cols_norm] = pd.DataFrame(minmax_scaler.transform(auto[num_cols]))\n",
    "auto[num_cols_norm].head()"
   ]
  },
  {
   "cell_type": "markdown",
   "metadata": {},
   "source": [
    "There's two things we need to point out about the code above:\n",
    "\n",
    "In the third line, notice how we used `pd.DataFrame` to turn the data into a `DataFrame` object. This is because `sklearn` returns a `numpy` array instead of a `DataFrame`. As we saw earlier, the distinction is most of the time unimportant since a `DataFrame` is just a sort of wrapper for a `numpy` array, but if we want to use `DataFrame` methods like `head` to examine the results, we need to convert the data like we did.\n",
    "\n",
    "You might be curious why we use `fit` followed by `transform`. What exactly happens when we run `fit`? Why should those two steps not be a single step? Here's a short answer using `MinMaxScaler` as our example:\n",
    "  - When we run `fit` we find the min and max for the columns and rememeber it.\n",
    "  - When we run `transform` we apply the transformation using the min and max we found when we ran `fit`.\n",
    "\n",
    "This means that we can learn the min and max once, and then apply the **same** transformation (with the same min and max) not just to the original data, but any future data. In machine learning, this has important consequences, but that's the topic of a future lecture."
   ]
  },
  {
   "cell_type": "markdown",
   "metadata": {},
   "source": [
    "# Assignment\n",
    "\n",
    "In this assignment, we want to read the `retail-churn.csv` dataset that we examined in the previous assignment and begin to pre-process it. The goal of the assignment is to become familiar with some common pre-processing and feature engineering steps by implementing them."
   ]
  },
  {
   "cell_type": "code",
   "execution_count": 1,
   "metadata": {},
   "outputs": [
    {
     "data": {
      "text/html": [
       "<div>\n",
       "<style scoped>\n",
       "    .dataframe tbody tr th:only-of-type {\n",
       "        vertical-align: middle;\n",
       "    }\n",
       "\n",
       "    .dataframe tbody tr th {\n",
       "        vertical-align: top;\n",
       "    }\n",
       "\n",
       "    .dataframe thead th {\n",
       "        text-align: right;\n",
       "    }\n",
       "</style>\n",
       "<table border=\"1\" class=\"dataframe\">\n",
       "  <thead>\n",
       "    <tr style=\"text-align: right;\">\n",
       "      <th></th>\n",
       "      <th>user_id</th>\n",
       "      <th>gender</th>\n",
       "      <th>address</th>\n",
       "      <th>store_id</th>\n",
       "      <th>trans_id</th>\n",
       "      <th>timestamp</th>\n",
       "      <th>item_id</th>\n",
       "      <th>quantity</th>\n",
       "      <th>dollar</th>\n",
       "    </tr>\n",
       "  </thead>\n",
       "  <tbody>\n",
       "    <tr>\n",
       "      <th>0</th>\n",
       "      <td>101981</td>\n",
       "      <td>F</td>\n",
       "      <td>E</td>\n",
       "      <td>2860</td>\n",
       "      <td>818463</td>\n",
       "      <td>11/1/2000 0:00</td>\n",
       "      <td>4.710000e+12</td>\n",
       "      <td>1</td>\n",
       "      <td>37</td>\n",
       "    </tr>\n",
       "    <tr>\n",
       "      <th>1</th>\n",
       "      <td>101981</td>\n",
       "      <td>F</td>\n",
       "      <td>E</td>\n",
       "      <td>2861</td>\n",
       "      <td>818464</td>\n",
       "      <td>11/1/2000 0:00</td>\n",
       "      <td>4.710000e+12</td>\n",
       "      <td>1</td>\n",
       "      <td>17</td>\n",
       "    </tr>\n",
       "    <tr>\n",
       "      <th>2</th>\n",
       "      <td>101981</td>\n",
       "      <td>F</td>\n",
       "      <td>E</td>\n",
       "      <td>2862</td>\n",
       "      <td>818465</td>\n",
       "      <td>11/1/2000 0:00</td>\n",
       "      <td>4.710000e+12</td>\n",
       "      <td>1</td>\n",
       "      <td>23</td>\n",
       "    </tr>\n",
       "    <tr>\n",
       "      <th>3</th>\n",
       "      <td>101981</td>\n",
       "      <td>F</td>\n",
       "      <td>E</td>\n",
       "      <td>2863</td>\n",
       "      <td>818466</td>\n",
       "      <td>11/1/2000 0:00</td>\n",
       "      <td>4.710000e+12</td>\n",
       "      <td>1</td>\n",
       "      <td>41</td>\n",
       "    </tr>\n",
       "    <tr>\n",
       "      <th>4</th>\n",
       "      <td>101981</td>\n",
       "      <td>F</td>\n",
       "      <td>E</td>\n",
       "      <td>2864</td>\n",
       "      <td>818467</td>\n",
       "      <td>11/1/2000 0:00</td>\n",
       "      <td>4.710000e+12</td>\n",
       "      <td>8</td>\n",
       "      <td>288</td>\n",
       "    </tr>\n",
       "  </tbody>\n",
       "</table>\n",
       "</div>"
      ],
      "text/plain": [
       "   user_id gender address  store_id  trans_id       timestamp       item_id  \\\n",
       "0   101981      F       E      2860    818463  11/1/2000 0:00  4.710000e+12   \n",
       "1   101981      F       E      2861    818464  11/1/2000 0:00  4.710000e+12   \n",
       "2   101981      F       E      2862    818465  11/1/2000 0:00  4.710000e+12   \n",
       "3   101981      F       E      2863    818466  11/1/2000 0:00  4.710000e+12   \n",
       "4   101981      F       E      2864    818467  11/1/2000 0:00  4.710000e+12   \n",
       "\n",
       "   quantity  dollar  \n",
       "0         1      37  \n",
       "1         1      17  \n",
       "2         1      23  \n",
       "3         1      41  \n",
       "4         8     288  "
      ]
     },
     "execution_count": 1,
     "metadata": {},
     "output_type": "execute_result"
    }
   ],
   "source": [
    "import pandas as pd\n",
    "import seaborn as sns\n",
    "col_names = ['user_id', 'gender', 'address', 'store_id', 'trans_id', 'timestamp', 'item_id', 'quantity', 'dollar']\n",
    "churn = pd.read_csv(\"../Data/retail-churn.csv\", sep = \",\", skiprows = 1, names = col_names)\n",
    "churn.head()"
   ]
  },
  {
   "cell_type": "markdown",
   "metadata": {},
   "source": [
    "As we learned in the lab, some pre-processing steps are straight-forward, while others may require some work. Pre-process the data using the steps outlined below. Create a new data called `churn_processed` which stores only the pre-processed as you run through each of the these steps. You will need to make sure your columns are properly named.\n",
    "\n",
    "1. Remove `gender` and `store_id` from the data. <span style=\"color:red\" float:right>[1 point]</span>"
   ]
  },
  {
   "cell_type": "markdown",
   "metadata": {},
   "source": [
    "Reasoning - To remove any columns within a panda dataframe I will use the .drop() call and just add in the columns I wish to get rid of, can either make a list or reference them directly, will reference them directly in the code below. Also want to take an initial look at the data just to make sure I know what is ahead"
   ]
  },
  {
   "cell_type": "code",
   "execution_count": 2,
   "metadata": {},
   "outputs": [
    {
     "data": {
      "text/plain": [
       "user_id        int64\n",
       "gender        object\n",
       "address       object\n",
       "store_id       int64\n",
       "trans_id       int64\n",
       "timestamp     object\n",
       "item_id      float64\n",
       "quantity       int64\n",
       "dollar         int64\n",
       "dtype: object"
      ]
     },
     "execution_count": 2,
     "metadata": {},
     "output_type": "execute_result"
    }
   ],
   "source": [
    "churn.dtypes"
   ]
  },
  {
   "cell_type": "code",
   "execution_count": 3,
   "metadata": {},
   "outputs": [
    {
     "data": {
      "text/plain": [
       "user_id      False\n",
       "gender       False\n",
       "address      False\n",
       "store_id     False\n",
       "trans_id     False\n",
       "timestamp    False\n",
       "item_id      False\n",
       "quantity     False\n",
       "dollar       False\n",
       "dtype: bool"
      ]
     },
     "execution_count": 3,
     "metadata": {},
     "output_type": "execute_result"
    }
   ],
   "source": [
    "churn.isnull().any(axis=0)"
   ]
  },
  {
   "cell_type": "code",
   "execution_count": 5,
   "metadata": {},
   "outputs": [
    {
     "data": {
      "text/plain": [
       "Index(['user_id', 'address', 'trans_id', 'timestamp', 'item_id', 'quantity',\n",
       "       'dollar'],\n",
       "      dtype='object')"
      ]
     },
     "execution_count": 5,
     "metadata": {},
     "output_type": "execute_result"
    }
   ],
   "source": [
    "churn_processed = churn.drop(columns=['gender', 'store_id'])\n",
    "churn_processed.columns"
   ]
  },
  {
   "cell_type": "markdown",
   "metadata": {},
   "source": [
    "Conclusion - By using the drop() call I was able to successfully drop the 'gender' and 'store_id' columns, double checked by using the 'head()' call and it confirmed, could also use the 'column' call as well"
   ]
  },
  {
   "cell_type": "markdown",
   "metadata": {},
   "source": [
    "2. Convert `timestamp` into a `datetime` column and extract two new columns: `dow` is the day of the week and `month` is the month of the year. <span style=\"color:red\" float:right>[2 point]</span>"
   ]
  },
  {
   "cell_type": "markdown",
   "metadata": {},
   "source": [
    "Reasoning - To get the timestamp into a datetime column, I will call the pd.to_datetime() and pass the timestamp column. To extract the dow and month - I will also use a panda option and do the dt.day_name and dt.month_name to get the columns in categorical type"
   ]
  },
  {
   "cell_type": "code",
   "execution_count": 6,
   "metadata": {},
   "outputs": [
    {
     "name": "stdout",
     "output_type": "stream",
     "text": [
      "Index(['user_id', 'address', 'trans_id', 'timestamp', 'item_id', 'quantity',\n",
      "       'dollar', 'dow', 'month'],\n",
      "      dtype='object')\n",
      "user_id               int64\n",
      "address              object\n",
      "trans_id              int64\n",
      "timestamp    datetime64[ns]\n",
      "item_id             float64\n",
      "quantity              int64\n",
      "dollar                int64\n",
      "dow                  object\n",
      "month                object\n",
      "dtype: object\n"
     ]
    }
   ],
   "source": [
    "churn_processed['timestamp'] = pd.to_datetime(churn_processed['timestamp'])\n",
    "churn_processed['dow']=churn_processed['timestamp'].dt.day_name()\n",
    "churn_processed['month']=churn_processed['timestamp'].dt.month_name()\n",
    "print(churn_processed.columns)\n",
    "print(churn_processed.dtypes)"
   ]
  },
  {
   "cell_type": "code",
   "execution_count": 7,
   "metadata": {},
   "outputs": [
    {
     "data": {
      "text/html": [
       "<div>\n",
       "<style scoped>\n",
       "    .dataframe tbody tr th:only-of-type {\n",
       "        vertical-align: middle;\n",
       "    }\n",
       "\n",
       "    .dataframe tbody tr th {\n",
       "        vertical-align: top;\n",
       "    }\n",
       "\n",
       "    .dataframe thead th {\n",
       "        text-align: right;\n",
       "    }\n",
       "</style>\n",
       "<table border=\"1\" class=\"dataframe\">\n",
       "  <thead>\n",
       "    <tr style=\"text-align: right;\">\n",
       "      <th></th>\n",
       "      <th>user_id</th>\n",
       "      <th>address</th>\n",
       "      <th>trans_id</th>\n",
       "      <th>timestamp</th>\n",
       "      <th>item_id</th>\n",
       "      <th>quantity</th>\n",
       "      <th>dollar</th>\n",
       "      <th>dow</th>\n",
       "      <th>month</th>\n",
       "    </tr>\n",
       "  </thead>\n",
       "  <tbody>\n",
       "    <tr>\n",
       "      <th>0</th>\n",
       "      <td>101981</td>\n",
       "      <td>E</td>\n",
       "      <td>818463</td>\n",
       "      <td>2000-11-01</td>\n",
       "      <td>4.710000e+12</td>\n",
       "      <td>1</td>\n",
       "      <td>37</td>\n",
       "      <td>Wednesday</td>\n",
       "      <td>November</td>\n",
       "    </tr>\n",
       "    <tr>\n",
       "      <th>1</th>\n",
       "      <td>101981</td>\n",
       "      <td>E</td>\n",
       "      <td>818464</td>\n",
       "      <td>2000-11-01</td>\n",
       "      <td>4.710000e+12</td>\n",
       "      <td>1</td>\n",
       "      <td>17</td>\n",
       "      <td>Wednesday</td>\n",
       "      <td>November</td>\n",
       "    </tr>\n",
       "    <tr>\n",
       "      <th>2</th>\n",
       "      <td>101981</td>\n",
       "      <td>E</td>\n",
       "      <td>818465</td>\n",
       "      <td>2000-11-01</td>\n",
       "      <td>4.710000e+12</td>\n",
       "      <td>1</td>\n",
       "      <td>23</td>\n",
       "      <td>Wednesday</td>\n",
       "      <td>November</td>\n",
       "    </tr>\n",
       "    <tr>\n",
       "      <th>3</th>\n",
       "      <td>101981</td>\n",
       "      <td>E</td>\n",
       "      <td>818466</td>\n",
       "      <td>2000-11-01</td>\n",
       "      <td>4.710000e+12</td>\n",
       "      <td>1</td>\n",
       "      <td>41</td>\n",
       "      <td>Wednesday</td>\n",
       "      <td>November</td>\n",
       "    </tr>\n",
       "    <tr>\n",
       "      <th>4</th>\n",
       "      <td>101981</td>\n",
       "      <td>E</td>\n",
       "      <td>818467</td>\n",
       "      <td>2000-11-01</td>\n",
       "      <td>4.710000e+12</td>\n",
       "      <td>8</td>\n",
       "      <td>288</td>\n",
       "      <td>Wednesday</td>\n",
       "      <td>November</td>\n",
       "    </tr>\n",
       "  </tbody>\n",
       "</table>\n",
       "</div>"
      ],
      "text/plain": [
       "   user_id address  trans_id  timestamp       item_id  quantity  dollar  \\\n",
       "0   101981       E    818463 2000-11-01  4.710000e+12         1      37   \n",
       "1   101981       E    818464 2000-11-01  4.710000e+12         1      17   \n",
       "2   101981       E    818465 2000-11-01  4.710000e+12         1      23   \n",
       "3   101981       E    818466 2000-11-01  4.710000e+12         1      41   \n",
       "4   101981       E    818467 2000-11-01  4.710000e+12         8     288   \n",
       "\n",
       "         dow     month  \n",
       "0  Wednesday  November  \n",
       "1  Wednesday  November  \n",
       "2  Wednesday  November  \n",
       "3  Wednesday  November  \n",
       "4  Wednesday  November  "
      ]
     },
     "execution_count": 7,
     "metadata": {},
     "output_type": "execute_result"
    }
   ],
   "source": [
    "churn_processed.head()"
   ]
  },
  {
   "cell_type": "markdown",
   "metadata": {},
   "source": [
    "Conclusion - Everything worked as planned, was able to get the timestamp column in datetime and add two new columns that are the dow and month in object dtype"
   ]
  },
  {
   "cell_type": "markdown",
   "metadata": {},
   "source": [
    "3. One-hot encode `address`, `dow` and `month`. <span style=\"color:red\" float:right>[1 point]</span>"
   ]
  },
  {
   "cell_type": "markdown",
   "metadata": {},
   "source": [
    "Reasoning - Use the same call as the previous weeks HW - I dont think I will do the scikit dummy option, will stick to pandas due to simplicity"
   ]
  },
  {
   "cell_type": "code",
   "execution_count": 41,
   "metadata": {},
   "outputs": [
    {
     "data": {
      "text/plain": [
       "Index(['user_id', 'address', 'trans_id', 'timestamp', 'item_id', 'quantity',\n",
       "       'dollar', 'dow', 'month'],\n",
       "      dtype='object')"
      ]
     },
     "execution_count": 41,
     "metadata": {},
     "output_type": "execute_result"
    }
   ],
   "source": [
    "churn_processed.columns"
   ]
  },
  {
   "cell_type": "code",
   "execution_count": 42,
   "metadata": {},
   "outputs": [
    {
     "data": {
      "text/plain": [
       "Index(['address_A', 'address_B', 'address_C', 'address_D', 'address_E',\n",
       "       'address_F', 'address_G', 'address_H', 'dow_Friday', 'dow_Monday',\n",
       "       'dow_Saturday', 'dow_Sunday', 'dow_Thursday', 'dow_Tuesday',\n",
       "       'dow_Wednesday', 'month_December', 'month_November'],\n",
       "      dtype='object')"
      ]
     },
     "execution_count": 42,
     "metadata": {},
     "output_type": "execute_result"
    }
   ],
   "source": [
    "churn_dummy = pd.get_dummies(churn_processed[['address', 'dow', 'month']], prefix=['address', 'dow', 'month'],dtype=int) #Running a onehotencode\n",
    "\n",
    "churn_dummy.columns"
   ]
  },
  {
   "cell_type": "markdown",
   "metadata": {},
   "source": [
    "Conclusion - Able to ohe the columns and then add the quantity, dollar, user_id and item_id back in"
   ]
  },
  {
   "cell_type": "markdown",
   "metadata": {},
   "source": [
    "4. Rescale `dollar` using min-max normalization. Use `pandas` to do it and call the rescaled column `dollar_std_minmax`. <span style=\"color:red\" float:right>[1 point]</span>"
   ]
  },
  {
   "cell_type": "markdown",
   "metadata": {},
   "source": [
    "Reasoning - To get the std minmax I will take the value, subtract from the mean and then divide by the std - need to make a new column that passes those values through"
   ]
  },
  {
   "cell_type": "code",
   "execution_count": 43,
   "metadata": {},
   "outputs": [
    {
     "name": "stdout",
     "output_type": "stream",
     "text": [
      "count    92587.000000\n",
      "mean         0.001983\n",
      "std          0.005741\n",
      "min          0.000000\n",
      "25%          0.000574\n",
      "50%          0.001133\n",
      "75%          0.001994\n",
      "max          1.000000\n",
      "Name: Dollar_std_minmax, dtype: float64\n"
     ]
    }
   ],
   "source": [
    "churn_processed['Dollar_std_minmax'] = (churn_processed['dollar'] - churn_processed['dollar'].min()) / (churn_processed['dollar'].max() - churn_processed['dollar'].min())#passing in the value, subtract it from the mean, and then divide by std\n",
    "print(churn_processed['Dollar_std_minmax'].describe()) #Examining the results"
   ]
  },
  {
   "cell_type": "markdown",
   "metadata": {},
   "source": [
    "Conclusion - Able to get the min_max column all set up by using the calculation above"
   ]
  },
  {
   "cell_type": "markdown",
   "metadata": {},
   "source": [
    "You can read about **robust normalization** [here](https://scikit-learn.org/stable/modules/generated/sklearn.preprocessing.RobustScaler.html). The word **robust** in statistics generally refers to methods that are not affected by outliers. For example, you can say that the median is a *robust* measure for the \"average\" of the data, while the mean is not. \n",
    "\n",
    "5. Write briefly about what makes robust normalization different from Z-normalization then rescale `quantity` using robust normalization. Call the rescaled column `qty_std_robust`. <span style=\"color:red\" float:right>[3 point]</span>"
   ]
  },
  {
   "cell_type": "markdown",
   "metadata": {},
   "source": [
    "The robust normalization removes the median and scales teh data according to the quantile range (defaults to IQR). Range between the 1rst quantile and the 3rd quantile - centering and scaling happen independently on each feature by computing the relevant statistics on the samples in the training set - median and IQR are stored to be used later on. If there is alot of outliers it is better to use the robust normalization"
   ]
  },
  {
   "cell_type": "markdown",
   "metadata": {},
   "source": [
    "Reasoning - Will need to import the RobustScaler model from sklearn library and then transform the quantity"
   ]
  },
  {
   "cell_type": "code",
   "execution_count": 44,
   "metadata": {},
   "outputs": [
    {
     "name": "stdout",
     "output_type": "stream",
     "text": [
      "           quantity  qty_std_robust\n",
      "count  92587.000000    92587.000000\n",
      "mean       1.412434        0.412434\n",
      "std        5.852498        5.852498\n",
      "min        1.000000        0.000000\n",
      "25%        1.000000        0.000000\n",
      "50%        1.000000        0.000000\n",
      "75%        1.000000        0.000000\n",
      "max     1200.000000     1199.000000\n"
     ]
    }
   ],
   "source": [
    "from sklearn.preprocessing import RobustScaler\n",
    "\n",
    "churn_processed['qty_std_robust'] = RobustScaler().fit_transform(churn_processed[['quantity']])\n",
    "\n",
    "print(churn_processed[['quantity', 'qty_std_robust']].describe())"
   ]
  },
  {
   "cell_type": "markdown",
   "metadata": {},
   "source": [
    "###Another way to write it below\n",
    "\n",
    "from sklearn.preprocessing import RobustScaler\n",
    "robust_scaler = RobustScaler()\n",
    "\n",
    "churn_dummy['qty_std_robust']=robust_scaler.fit_transform(churn_dummy[['Quantity']])\n",
    "\n",
    "#print(churn_dummy.columns)\n",
    "print(churn_dummy[['Quantity','qty_std_robust']].describe())"
   ]
  },
  {
   "cell_type": "code",
   "execution_count": 45,
   "metadata": {},
   "outputs": [
    {
     "data": {
      "text/plain": [
       "Index(['user_id', 'address', 'trans_id', 'timestamp', 'item_id', 'quantity',\n",
       "       'dollar', 'dow', 'month', 'Dollar_std_minmax', 'qty_std_robust'],\n",
       "      dtype='object')"
      ]
     },
     "execution_count": 45,
     "metadata": {},
     "output_type": "execute_result"
    }
   ],
   "source": [
    "churn_processed.columns"
   ]
  },
  {
   "cell_type": "markdown",
   "metadata": {},
   "source": [
    "Conclusion - Was able to successfully get the new column updated"
   ]
  },
  {
   "cell_type": "markdown",
   "metadata": {},
   "source": [
    "6. Rescale `quantity` a second time, using Z-normalization, but normalize `quantity` **per user**, i.e. group by `user_id` so that the mean and standard deviation computed to normalize are computed separately by each `user_id`. Call the rescaled feature `qty_std_Z_byuser`. Briefly describe why and when you think this kind of normalization makes sense. <span style=\"color:red\" float:right>[3 point]</span>"
   ]
  },
  {
   "cell_type": "markdown",
   "metadata": {},
   "source": [
    "Reasoning - By using the z-score normalization, you can transform the data into a distribution with a mean of 0 and a std of 1 - will be able to do the z-score normalization by using the scipy stats zscore and then passing through the groupby call with the user_id based on quantity and then transforming the data "
   ]
  },
  {
   "cell_type": "code",
   "execution_count": 46,
   "metadata": {},
   "outputs": [],
   "source": [
    "###Please leave, extra help for me\n",
    "#churn_mean_qty = churn_dummy.groupby(['user_id']).Quantity.transform('mean')\n",
    "#churn_mean_std = churn_dummy.groupby(['user_id']).Quantity.transform('std')"
   ]
  },
  {
   "cell_type": "code",
   "execution_count": 47,
   "metadata": {},
   "outputs": [
    {
     "data": {
      "text/plain": [
       "Index(['user_id', 'address', 'trans_id', 'timestamp', 'item_id', 'quantity',\n",
       "       'dollar', 'dow', 'month', 'Dollar_std_minmax', 'qty_std_robust'],\n",
       "      dtype='object')"
      ]
     },
     "execution_count": 47,
     "metadata": {},
     "output_type": "execute_result"
    }
   ],
   "source": [
    "churn_processed.columns"
   ]
  },
  {
   "cell_type": "code",
   "execution_count": 48,
   "metadata": {},
   "outputs": [
    {
     "name": "stderr",
     "output_type": "stream",
     "text": [
      "/opt/conda/lib/python3.7/site-packages/scipy/stats/stats.py:2419: RuntimeWarning: invalid value encountered in true_divide\n",
      "  return (a - mns) / sstd\n",
      "/opt/conda/lib/python3.7/site-packages/numpy/core/_methods.py:217: RuntimeWarning: Degrees of freedom <= 0 for slice\n",
      "  keepdims=keepdims)\n",
      "/opt/conda/lib/python3.7/site-packages/numpy/core/_methods.py:207: RuntimeWarning: invalid value encountered in true_divide\n",
      "  ret, rcount, out=ret, casting='unsafe', subok=False)\n"
     ]
    }
   ],
   "source": [
    "from scipy.stats import zscore\n",
    "\n",
    "churn_processed['qty_std_Z_byuser']=churn_processed.groupby(['user_id']).quantity.transform(lambda x : zscore(x, ddof=1))###Look into the zscore and ddof=1 call"
   ]
  },
  {
   "cell_type": "code",
   "execution_count": 49,
   "metadata": {},
   "outputs": [
    {
     "data": {
      "text/plain": [
       "count    8.544500e+04\n",
       "mean     1.663158e-19\n",
       "std      9.719872e-01\n",
       "min     -2.474874e+00\n",
       "25%     -4.595434e-01\n",
       "50%     -3.535534e-01\n",
       "75%     -2.182179e-01\n",
       "max      1.348451e+01\n",
       "Name: qty_std_Z_byuser, dtype: float64"
      ]
     },
     "execution_count": 49,
     "metadata": {},
     "output_type": "execute_result"
    }
   ],
   "source": [
    "churn_processed['qty_std_Z_byuser'].describe()"
   ]
  },
  {
   "cell_type": "code",
   "execution_count": 51,
   "metadata": {},
   "outputs": [
    {
     "data": {
      "text/plain": [
       "Index(['user_id', 'address', 'trans_id', 'timestamp', 'item_id', 'quantity',\n",
       "       'dollar', 'dow', 'month', 'Dollar_std_minmax', 'qty_std_robust',\n",
       "       'qty_std_Z_byuser'],\n",
       "      dtype='object')"
      ]
     },
     "execution_count": 51,
     "metadata": {},
     "output_type": "execute_result"
    }
   ],
   "source": [
    "churn_processed.columns"
   ]
  },
  {
   "cell_type": "markdown",
   "metadata": {},
   "source": [
    "Conclusion - was able to get the Z-normalization score based off of grouping the user_id by quantity and created a new column, the mean is as close to 0 as possible and the std is just about 1 as well so it seems to have worked on that end"
   ]
  },
  {
   "cell_type": "markdown",
   "metadata": {},
   "source": [
    "7. Convert `item_id` into a `category` column, then replace the `item_id` of all the items sold only once in the entire data with `999999`. <span style=\"color:red\" float:right>[1 point]</span>"
   ]
  },
  {
   "cell_type": "markdown",
   "metadata": {},
   "source": [
    "Reasoning - Can simply change the type of the column by using the .astype() call and then will replace the values of 1 with a 999999 by using the replace() call"
   ]
  },
  {
   "cell_type": "code",
   "execution_count": 52,
   "metadata": {},
   "outputs": [],
   "source": [
    "churn_processed['item_id']=churn_processed['item_id'].astype('category')\n",
    "\n",
    "###Can also groupby\n",
    "\n",
    "##Also look into loc"
   ]
  },
  {
   "cell_type": "code",
   "execution_count": 58,
   "metadata": {},
   "outputs": [
    {
     "data": {
      "text/plain": [
       "array([999999,      8,      2,      4,      3,      6,      5,     20,\n",
       "           24,     10,     12,     15,      7,     22,     18,     29,\n",
       "           23,     39,      9,     13,     17,     14,     33,     11,\n",
       "           36,     16,     60,     21,     48,     72,    852,     30,\n",
       "           27,     19,    200,    720,    150,     96,     25,     31,\n",
       "           37,    479,   1200,     44])"
      ]
     },
     "execution_count": 58,
     "metadata": {},
     "output_type": "execute_result"
    }
   ],
   "source": [
    "churn_processed['quantity'].replace({1:999999},inplace=True)\n",
    "churn_processed['quantity']==999999\n",
    "\n",
    "churn_processed['quantity'].unique()"
   ]
  },
  {
   "cell_type": "markdown",
   "metadata": {},
   "source": [
    "Conclusion - Being able to change the column type to category was straight forward and then was able to get all of the values of 1 replaced with 999999"
   ]
  },
  {
   "cell_type": "markdown",
   "metadata": {},
   "source": [
    "8. Display the first few rows of your data. <span style=\"color:red\" float:right>[1 point]</span>"
   ]
  },
  {
   "cell_type": "markdown",
   "metadata": {},
   "source": [
    "Reasoning - Will be able to display the dataframe by using the .head() call to investigate all of the columns and to take a look at the data"
   ]
  },
  {
   "cell_type": "code",
   "execution_count": 59,
   "metadata": {},
   "outputs": [
    {
     "data": {
      "text/html": [
       "<div>\n",
       "<style scoped>\n",
       "    .dataframe tbody tr th:only-of-type {\n",
       "        vertical-align: middle;\n",
       "    }\n",
       "\n",
       "    .dataframe tbody tr th {\n",
       "        vertical-align: top;\n",
       "    }\n",
       "\n",
       "    .dataframe thead th {\n",
       "        text-align: right;\n",
       "    }\n",
       "</style>\n",
       "<table border=\"1\" class=\"dataframe\">\n",
       "  <thead>\n",
       "    <tr style=\"text-align: right;\">\n",
       "      <th></th>\n",
       "      <th>user_id</th>\n",
       "      <th>address</th>\n",
       "      <th>trans_id</th>\n",
       "      <th>timestamp</th>\n",
       "      <th>item_id</th>\n",
       "      <th>quantity</th>\n",
       "      <th>dollar</th>\n",
       "      <th>dow</th>\n",
       "      <th>month</th>\n",
       "      <th>Dollar_std_minmax</th>\n",
       "      <th>qty_std_robust</th>\n",
       "      <th>qty_std_Z_byuser</th>\n",
       "    </tr>\n",
       "  </thead>\n",
       "  <tbody>\n",
       "    <tr>\n",
       "      <th>0</th>\n",
       "      <td>101981</td>\n",
       "      <td>E</td>\n",
       "      <td>818463</td>\n",
       "      <td>2000-11-01</td>\n",
       "      <td>4.710000e+12</td>\n",
       "      <td>999999</td>\n",
       "      <td>37</td>\n",
       "      <td>Wednesday</td>\n",
       "      <td>November</td>\n",
       "      <td>0.000526</td>\n",
       "      <td>0.0</td>\n",
       "      <td>-0.498909</td>\n",
       "    </tr>\n",
       "    <tr>\n",
       "      <th>1</th>\n",
       "      <td>101981</td>\n",
       "      <td>E</td>\n",
       "      <td>818464</td>\n",
       "      <td>2000-11-01</td>\n",
       "      <td>4.710000e+12</td>\n",
       "      <td>999999</td>\n",
       "      <td>17</td>\n",
       "      <td>Wednesday</td>\n",
       "      <td>November</td>\n",
       "      <td>0.000207</td>\n",
       "      <td>0.0</td>\n",
       "      <td>-0.498909</td>\n",
       "    </tr>\n",
       "    <tr>\n",
       "      <th>2</th>\n",
       "      <td>101981</td>\n",
       "      <td>E</td>\n",
       "      <td>818465</td>\n",
       "      <td>2000-11-01</td>\n",
       "      <td>4.710000e+12</td>\n",
       "      <td>999999</td>\n",
       "      <td>23</td>\n",
       "      <td>Wednesday</td>\n",
       "      <td>November</td>\n",
       "      <td>0.000303</td>\n",
       "      <td>0.0</td>\n",
       "      <td>-0.498909</td>\n",
       "    </tr>\n",
       "    <tr>\n",
       "      <th>3</th>\n",
       "      <td>101981</td>\n",
       "      <td>E</td>\n",
       "      <td>818466</td>\n",
       "      <td>2000-11-01</td>\n",
       "      <td>4.710000e+12</td>\n",
       "      <td>999999</td>\n",
       "      <td>41</td>\n",
       "      <td>Wednesday</td>\n",
       "      <td>November</td>\n",
       "      <td>0.000590</td>\n",
       "      <td>0.0</td>\n",
       "      <td>-0.498909</td>\n",
       "    </tr>\n",
       "    <tr>\n",
       "      <th>4</th>\n",
       "      <td>101981</td>\n",
       "      <td>E</td>\n",
       "      <td>818467</td>\n",
       "      <td>2000-11-01</td>\n",
       "      <td>4.710000e+12</td>\n",
       "      <td>8</td>\n",
       "      <td>288</td>\n",
       "      <td>Wednesday</td>\n",
       "      <td>November</td>\n",
       "      <td>0.004531</td>\n",
       "      <td>7.0</td>\n",
       "      <td>6.757944</td>\n",
       "    </tr>\n",
       "  </tbody>\n",
       "</table>\n",
       "</div>"
      ],
      "text/plain": [
       "   user_id address  trans_id  timestamp       item_id  quantity  dollar  \\\n",
       "0   101981       E    818463 2000-11-01  4.710000e+12    999999      37   \n",
       "1   101981       E    818464 2000-11-01  4.710000e+12    999999      17   \n",
       "2   101981       E    818465 2000-11-01  4.710000e+12    999999      23   \n",
       "3   101981       E    818466 2000-11-01  4.710000e+12    999999      41   \n",
       "4   101981       E    818467 2000-11-01  4.710000e+12         8     288   \n",
       "\n",
       "         dow     month  Dollar_std_minmax  qty_std_robust  qty_std_Z_byuser  \n",
       "0  Wednesday  November           0.000526             0.0         -0.498909  \n",
       "1  Wednesday  November           0.000207             0.0         -0.498909  \n",
       "2  Wednesday  November           0.000303             0.0         -0.498909  \n",
       "3  Wednesday  November           0.000590             0.0         -0.498909  \n",
       "4  Wednesday  November           0.004531             7.0          6.757944  "
      ]
     },
     "execution_count": 59,
     "metadata": {},
     "output_type": "execute_result"
    }
   ],
   "source": [
    "churn_processed.head()"
   ]
  },
  {
   "cell_type": "markdown",
   "metadata": {},
   "source": [
    "Conclusion - Can see a few new columns that were created as the assignment went on - Dollar_std_minmax, qty_std_robust, etc..."
   ]
  },
  {
   "cell_type": "markdown",
   "metadata": {},
   "source": [
    "# End of assignment"
   ]
  }
 ],
 "metadata": {
  "kernelspec": {
   "display_name": "Python 3",
   "language": "python",
   "name": "python3"
  },
  "language_info": {
   "codemirror_mode": {
    "name": "ipython",
    "version": 3
   },
   "file_extension": ".py",
   "mimetype": "text/x-python",
   "name": "python",
   "nbconvert_exporter": "python",
   "pygments_lexer": "ipython3",
   "version": "3.8.5"
  }
 },
 "nbformat": 4,
 "nbformat_minor": 4
}
