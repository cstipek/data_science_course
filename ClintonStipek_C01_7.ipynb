{
 "cells": [
  {
   "cell_type": "markdown",
   "metadata": {},
   "source": [
    "# More on feature engineering"
   ]
  },
  {
   "cell_type": "markdown",
   "metadata": {},
   "source": [
    "In this notebook, we return to the topic of feature engineering from the previous lecture, but look at more complex examples of feature engineering. Many of these examples combine **domain knowledge** with machine learning. What this means is that the kind of data we have lends itself to certain types of features engineering that may not apply to other types of data. The best way to learn about this kind of feature engineering is by looking at examples: feature engineering with text data, with time series data, with image or video data, with sound data, and so on. So as our example, we will look at feature engineering for text data. To make things more interesting, we finish this notebook by training a supervised learning algorithm on the resulting data. This last part will warm us up for next week's lecture!"
   ]
  },
  {
   "cell_type": "markdown",
   "metadata": {},
   "source": [
    "Let's look at an example dealing with text data. Raw text data is an unstructured and ubiquitous type of data. Most of the world’s data is unstructured. Volumes of unstructured data, including text, are growing much faster than structured data. There are many industry estimates for the fraction of all data which is unstructured. How much text data are we talking about here? In a few years time, Twitter will have [more text data recorded](http://www.internetlivestats.com/twitter-statistics/) than all that has been written in print in the history of mankind.\n",
    "\n",
    "Given the ubiquity and volume of text data, it is not surprising that numerous powerful applications which exploit text analytics are appearing. A few of these applications are listed below.\n",
    "\n",
    "- Intelligent applications\n",
    "  - Assistants\n",
    "  - Chat bots\n",
    "- Classification\n",
    "  - Sentiment analysis\n",
    "  - SPAM detection\n",
    "- Speech recognition\n",
    "- Search\n",
    "- Information retrieval\n",
    "- Legal discovery\n",
    "\n",
    "In this tutorial we investigate two areas of text analytics:\n",
    "\n",
    "- Pre-processing text data for analysis\n",
    "- Classification of text and sentiment analysis"
   ]
  },
  {
   "cell_type": "code",
   "execution_count": 59,
   "metadata": {},
   "outputs": [],
   "source": [
    "import string\n",
    "import re\n",
    "import nltk\n",
    "import numpy as np\n",
    "import pandas as pd\n",
    "import matplotlib.pyplot as plt\n",
    "import cProfile\n",
    "import argparse\n",
    "import pprint\n",
    "import seaborn as sns\n",
    "\n",
    "from nltk.corpus import stopwords\n",
    "from scipy.sparse import coo_matrix\n",
    "from scipy.sparse import csr_matrix\n",
    "\n",
    "from sklearn.feature_extraction.text import CountVectorizer\n",
    "from sklearn.feature_extraction.text import TfidfVectorizer\n",
    "from sklearn.model_selection import train_test_split\n",
    "from sklearn.linear_model import LogisticRegression\n",
    "from sklearn.metrics import precision_recall_fscore_support, confusion_matrix"
   ]
  },
  {
   "cell_type": "code",
   "execution_count": 60,
   "metadata": {
    "scrolled": true
   },
   "outputs": [
    {
     "name": "stderr",
     "output_type": "stream",
     "text": [
      "[nltk_data] Downloading package wordnet to /home/jovyan/nltk_data...\n",
      "[nltk_data]   Package wordnet is already up-to-date!\n",
      "[nltk_data] Downloading package stopwords to /home/jovyan/nltk_data...\n",
      "[nltk_data]   Package stopwords is already up-to-date!\n"
     ]
    }
   ],
   "source": [
    "nltk.download('wordnet')\n",
    "nltk.download('stopwords')\n",
    "\n",
    "# If you get an SSL-certificate error, and you are on a MAC then you may have to navigate to: application/python3/ and\n",
    "# run/double-click on the command 'install certificates'.  Then try this again.\n",
    "\n",
    "from nltk.stem.wordnet import WordNetLemmatizer\n",
    "\n",
    "###Sometimes if you have email addresses or numbers or letters that will not be relevant, should you keep them? remove them? etc...\n",
    "###"
   ]
  },
  {
   "cell_type": "markdown",
   "metadata": {},
   "source": [
    "The very first step to prepare text is to clean it.  We clean and normalize the text by performing various operations on the text. Some examples are as follows:\n",
    "\n",
    "- Make the text lowercase.\n",
    "- Remove symbols or punctuation.\n",
    "- Remove numbers. May also replace all numbers with a numeric tag, for example `<NUM>` or similar. We may also consider replacing all dates with `<DATE>` or similarly use tags `<URL>`, `<PHONE>`, `<EMAIL>`, etc...\n",
    "- Strip extra white space. White space has many forms: space, newline, or tab. There are also other rarely used unicode specifications for other white space characters.\n",
    "- Remove all non-printable unicode characters.\n",
    "- Replace accent characters.\n",
    "- Remove 'stop words'. Stop words are generally non-informative words like \"the\", \"as\", \"a\", etc.\n",
    "- Stem words to similar endings, such as \"eats\" and \"eat\".\n",
    "\n",
    "There are a few reasons to clean your text.  The primary reason is to reduce the potential vocabulary and increase the observations of specific words (or tokens). Depending on the application, the above steps should be considered carefully and only applied when it makes sense. Ask yourself if words like \"China\" and \"china\" to be different.\n",
    "\n",
    "**NOTE**: Be careful dealing with unicode characters. There are many editors and text viewers that only display printable characters but will not remove non-printable characters. Strange unicode characters can end up in data from users blindly copy/pasting text (with invisible unicode) into other text boxes."
   ]
  },
  {
   "cell_type": "markdown",
   "metadata": {},
   "source": [
    "### Exercise (8 minutes)\n",
    "\n",
    "By its very nature, text data comes unstructured and poorly organized for analysis. Typically multiple steps are required to process text into a form suitable for analysis, starting with cleaning it.\n",
    "\n",
    "Here's a horrible tweet. We're going to clean it and learn about ways to clean text data in the process."
   ]
  },
  {
   "cell_type": "code",
   "execution_count": 61,
   "metadata": {},
   "outputs": [
    {
     "name": "stdout",
     "output_type": "stream",
     "text": [
      "Unfiltered text: \n",
      "I <3 cleaning data $\\ \\ $, it’s my ၲ  $\\ \\ $    fAvoRitE!! 11!!! I enjoy looking for bats in the closet\n",
      "\n"
     ]
    }
   ],
   "source": [
    "horrible_tweet_text = 'I <3 cleaning data $\\ \\ $, it’s my \\u1072  $\\ \\ $    fAvoRitE!! 11!!! I enjoy looking for bats in the closet'\n",
    "print('Unfiltered text: \\n{}\\n'.format(horrible_tweet_text))"
   ]
  },
  {
   "cell_type": "markdown",
   "metadata": {},
   "source": [
    "Step by step, refine the above text. To avoid overwriting the existing string, you can create a new string from the string so far each time.\n",
    "\n",
    "- Remove any non-ASCI character. A string `x` is ASCI if `ord(x) < 128`."
   ]
  },
  {
   "cell_type": "code",
   "execution_count": 62,
   "metadata": {},
   "outputs": [],
   "source": [
    "text =''.join([x for x in horrible_tweet_text if ord(x) < 128])"
   ]
  },
  {
   "cell_type": "markdown",
   "metadata": {},
   "source": [
    "- Make all the letters lower case."
   ]
  },
  {
   "cell_type": "code",
   "execution_count": 63,
   "metadata": {},
   "outputs": [
    {
     "data": {
      "text/plain": [
       "'i <3 cleaning data $\\\\ \\\\ $, its my   $\\\\ \\\\ $    favorite!! 11!!! i enjoy looking for bats in the closet'"
      ]
     },
     "execution_count": 63,
     "metadata": {},
     "output_type": "execute_result"
    }
   ],
   "source": [
    "text = text.lower()\n",
    "text"
   ]
  },
  {
   "cell_type": "markdown",
   "metadata": {},
   "source": [
    "- Remove all punctuation from the text. You can use `string.punctuation` to get a string of all punctuation characters."
   ]
  },
  {
   "cell_type": "code",
   "execution_count": 64,
   "metadata": {},
   "outputs": [
    {
     "name": "stdout",
     "output_type": "stream",
     "text": [
      "Removed punctuation text: \n",
      "i  3 cleaning data         its my             favorite   11    i enjoy looking for bats in the closet\n",
      "\n"
     ]
    }
   ],
   "source": [
    "punc = string.punctuation\n",
    "text = ''.join([' ' if ele in punc else ele for ele in text])\n",
    "\n",
    "print('Removed punctuation text: \\n{}\\n'.format(text))"
   ]
  },
  {
   "cell_type": "markdown",
   "metadata": {},
   "source": [
    "- Remove all the numbers from the text. HINT: If you are familiar with **regular expressions** you can use `re.sub` to do this easily."
   ]
  },
  {
   "cell_type": "code",
   "execution_count": 65,
   "metadata": {},
   "outputs": [
    {
     "name": "stdout",
     "output_type": "stream",
     "text": [
      "Removed numbers text: \n",
      "i   cleaning data         its my             favorite       i enjoy looking for bats in the closet\n",
      "\n"
     ]
    }
   ],
   "source": [
    "text = re.sub(r'\\d+', '', text)\n",
    "print('Removed numbers text: \\n{}\\n'.format(text))"
   ]
  },
  {
   "cell_type": "markdown",
   "metadata": {},
   "source": [
    "- Strip the text of any extra whitespace. HINT: The `split` method might help here."
   ]
  },
  {
   "cell_type": "code",
   "execution_count": 66,
   "metadata": {},
   "outputs": [
    {
     "name": "stdout",
     "output_type": "stream",
     "text": [
      "Removed whitespace spaces text: \n",
      "i cleaning data its my favorite i enjoy looking for bats in the closet\n",
      "\n"
     ]
    }
   ],
   "source": [
    "text = ' '.join(text.split())\n",
    "print('Removed whitespace spaces text: \\n{}\\n'.format(text))"
   ]
  },
  {
   "cell_type": "markdown",
   "metadata": {},
   "source": [
    "- Remove all stop words from the text. We can use `stopwords.words('english')` to get a list of stop words for the English language."
   ]
  },
  {
   "cell_type": "code",
   "execution_count": 67,
   "metadata": {},
   "outputs": [
    {
     "name": "stdout",
     "output_type": "stream",
     "text": [
      "updated text: \n",
      " cleaning data   favorite  enjoy looking  bats   closet\n",
      "\n"
     ]
    }
   ],
   "source": [
    "text = ' '.join(['' if ele in stopwords.words('english') else ele for ele in text.split()])\n",
    "\n",
    "print('updated text: \\n{}\\n'.format(text))"
   ]
  },
  {
   "cell_type": "markdown",
   "metadata": {},
   "source": [
    "- Let's now use `WordNetLemmatizer()` to reduce the words to their **stems**. HINT: Use the object's `lemmatize` method."
   ]
  },
  {
   "cell_type": "code",
   "execution_count": 68,
   "metadata": {},
   "outputs": [
    {
     "name": "stdout",
     "output_type": "stream",
     "text": [
      "updated text: \n",
      " cleaning data   favorite  enjoy looking  bat   closet\n",
      "\n"
     ]
    }
   ],
   "source": [
    "lmtzr = WordNetLemmatizer()\n",
    "word_list = text.split(' ')\n",
    "stemmed_words = [lmtzr.lemmatize(word) for word in word_list]\n",
    "text = ' '.join(stemmed_words) \n",
    "print('updated text: \\n{}\\n'.format(text))"
   ]
  },
  {
   "cell_type": "markdown",
   "metadata": {},
   "source": [
    "### End of exercise"
   ]
  },
  {
   "cell_type": "markdown",
   "metadata": {},
   "source": [
    "Let's now combine the steps outlined in the above exercise and create a function to clean text for use. We will later use this function."
   ]
  },
  {
   "cell_type": "code",
   "execution_count": 70,
   "metadata": {},
   "outputs": [
    {
     "name": "stdout",
     "output_type": "stream",
     "text": [
      "before: \"I <3 cleaning data $\\ \\ $, it’s my ၲ  $\\ \\ $    fAvoRitE!! 11!!! I enjoy looking for bats in the closet\"\n",
      "after : \"cleaning data favorite enjoy looking bat closet\"\n"
     ]
    }
   ],
   "source": [
    "def preprocess(text, list_of_steps):\n",
    "    \n",
    "    for step in list_of_steps:\n",
    "        if step == 'remove_non_ascii':\n",
    "            text = ''.join([x for x in text if ord(x) < 128])\n",
    "        elif step == 'lowercase':\n",
    "            text = text.lower()\n",
    "        elif step == 'remove_punctuation':\n",
    "            punct_exclude = set(string.punctuation)\n",
    "            text = ''.join(char for char in text if char not in punct_exclude)\n",
    "        elif step == 'remove_numbers':\n",
    "            text = re.sub(\"\\d+\", \"\", text)\n",
    "        elif step == 'strip_whitespace':\n",
    "            text = ' '.join(text.split())\n",
    "        elif step == 'remove_stopwords':\n",
    "            stops = stopwords.words('english')\n",
    "            word_list = text.split(' ')\n",
    "            text_words = [word for word in word_list if word not in stops]\n",
    "            text = ' '.join(text_words)\n",
    "        elif step == 'stem_words':\n",
    "            lmtzr = WordNetLemmatizer()\n",
    "            word_list = text.split(' ')\n",
    "            stemmed_words = [lmtzr.lemmatize(word) for word in word_list]\n",
    "            text = ' '.join(stemmed_words)\n",
    "    return text\n",
    "\n",
    "step_list = ['remove_non_ascii', 'lowercase', 'remove_punctuation', 'remove_numbers',\n",
    "            'strip_whitespace', 'remove_stopwords', 'stem_words']\n",
    "\n",
    "print(\"before: \\\"{}\\\"\".format(horrible_tweet_text))\n",
    "print(\"after : \\\"{}\\\"\".format(preprocess(horrible_tweet_text, step_list)))"
   ]
  },
  {
   "cell_type": "markdown",
   "metadata": {},
   "source": [
    "### Featurizing text data\n",
    "\n",
    "We the clean data we can begin to ask what is the best way to extract features from the data. There are many more approaches for text analytics and natural language processing (NLP). We only mention a few below. Note that the collection of unique words in the data is called a **corpus**. To avoid having a corpus that's too large, we can trim the corpus by keeping the most frequent $N$ words, making $N$ the size of the corpus. A **document** usually refers to a single data point with raw text, such as a tweet, a review, an invoice, etc. So our documents are made up of \"words\" that come from the corpus (ignoring any words that are not in the corpus). The question now is how do we represent such a data numerically? Here are two approaches:\n",
    "\n",
    "- The **bag of words model** is a simple and surprisingly effective model for analysis of text data. The BOW model creates a **sparse vector representation** of each word in the corpus based on the frequency of the words in the document. The order of the words is not considered, nor is the similarity between different words. Despite serious shortcomings, the model can work well in many cases.\n",
    "- We can usually do much better by using **word embeddings**, which are **dense vector respresentations** for each word in the corpus. Word embeddings are learned by examining the word's **context** (other words around it). Word embeddings are very common in **deep learning** applications of NLP, although the embeddings themselves are learned using a shallow network. If we learn word embeddings from a very large data set once, we can save and re-use these word embeddings to create features for other data sets. In fact, **pre-trained word embeddings** are trained by large companies like Google and made available for use by others. So we can load these embeddings and numerically represent a document using the average of the embeddings of the words in it. Because word embeddings are vectors, such an average would also be a vector that is a dense representation of the document.\n",
    "\n",
    "As you can see, BOW models seem too simplistic and word embeddings seem too sophisticated for now. So here's another approach that is sort of between the two in terms of difficulty. It is called TF-IDF and it is a clever way to featurize words in documents. Just like a BOW model, we begin by \"tokenizing\" the data. In BOW we then create a one-hot encoded feature for each token (or word). But in TF-IDF we first extract the relative word frequencies per document (called **term frequencies** or TF), we then multiply the term frequencies by a multiplier we call IDF. This has the effect of dampening the values for terms that appear frequently across documents, giving them less influence when we move on to the machine learning phase. Note that we used the words token, word and term almost interchangeably. Sorry for confusing you! Data scientists don't always agree on terminology. Let's dive in."
   ]
  },
  {
   "cell_type": "markdown",
   "metadata": {},
   "source": [
    "### Tokenize text\n",
    "\n",
    "As a first step in preparing text for analysis of a document is to **tokenize** the text. In general terms, tokenization is the process dividing raw text into words, symbols and other elements, known as **tokens**. A set of tokens from all documents in the data is known as a **corpus**.\n",
    "\n",
    "As a first step in creating a corpus is reading the data set. This particular data set is comprised of 160,000 tweets. The sentiment of these tweets has been human labeled as positive or negative (4 is for positive)."
   ]
  },
  {
   "cell_type": "code",
   "execution_count": 71,
   "metadata": {},
   "outputs": [
    {
     "data": {
      "text/html": [
       "<div>\n",
       "<style scoped>\n",
       "    .dataframe tbody tr th:only-of-type {\n",
       "        vertical-align: middle;\n",
       "    }\n",
       "\n",
       "    .dataframe tbody tr th {\n",
       "        vertical-align: top;\n",
       "    }\n",
       "\n",
       "    .dataframe thead th {\n",
       "        text-align: right;\n",
       "    }\n",
       "</style>\n",
       "<table border=\"1\" class=\"dataframe\">\n",
       "  <thead>\n",
       "    <tr style=\"text-align: right;\">\n",
       "      <th></th>\n",
       "      <th>sentiment_label</th>\n",
       "      <th>tweet_text</th>\n",
       "    </tr>\n",
       "  </thead>\n",
       "  <tbody>\n",
       "    <tr>\n",
       "      <th>0</th>\n",
       "      <td>4</td>\n",
       "      <td>@elephantbird Hey dear, Happy Friday to You  A...</td>\n",
       "    </tr>\n",
       "    <tr>\n",
       "      <th>1</th>\n",
       "      <td>4</td>\n",
       "      <td>Ughhh layin downnnn    Waiting for zeina to co...</td>\n",
       "    </tr>\n",
       "    <tr>\n",
       "      <th>2</th>\n",
       "      <td>0</td>\n",
       "      <td>@greeniebach I reckon he'll play, even if he's...</td>\n",
       "    </tr>\n",
       "    <tr>\n",
       "      <th>3</th>\n",
       "      <td>0</td>\n",
       "      <td>@vaLewee I know!  Saw it on the news!</td>\n",
       "    </tr>\n",
       "    <tr>\n",
       "      <th>4</th>\n",
       "      <td>0</td>\n",
       "      <td>very sad that http://www.fabchannel.com/ has c...</td>\n",
       "    </tr>\n",
       "  </tbody>\n",
       "</table>\n",
       "</div>"
      ],
      "text/plain": [
       "   sentiment_label                                         tweet_text\n",
       "0                4  @elephantbird Hey dear, Happy Friday to You  A...\n",
       "1                4  Ughhh layin downnnn    Waiting for zeina to co...\n",
       "2                0  @greeniebach I reckon he'll play, even if he's...\n",
       "3                0              @vaLewee I know!  Saw it on the news!\n",
       "4                0  very sad that http://www.fabchannel.com/ has c..."
      ]
     },
     "execution_count": 71,
     "metadata": {},
     "output_type": "execute_result"
    }
   ],
   "source": [
    "data_file = '../Data/twitter_data.csv'\n",
    "tweet_df = pd.read_csv(data_file)\n",
    "tweet_df.head()"
   ]
  },
  {
   "cell_type": "code",
   "execution_count": 73,
   "metadata": {},
   "outputs": [
    {
     "data": {
      "text/plain": [
       "0    26915\n",
       "1    26787\n",
       "Name: sentiment_label, dtype: int64"
      ]
     },
     "execution_count": 73,
     "metadata": {},
     "output_type": "execute_result"
    }
   ],
   "source": [
    "tweet_df['sentiment_label'] = tweet_df['sentiment_label'].replace(4, 1)\n",
    "tweet_df['sentiment_label'].value_counts()#0 is a negative message, 1 is a psoitive tweet"
   ]
  },
  {
   "cell_type": "code",
   "execution_count": 74,
   "metadata": {},
   "outputs": [],
   "source": [
    "tweet_data = tweet_df.values.tolist()"
   ]
  },
  {
   "cell_type": "markdown",
   "metadata": {},
   "source": [
    "Now that we have the data set read, we need to clean then tokenize the tweets. Note that stemming can be slow on large datasets."
   ]
  },
  {
   "cell_type": "code",
   "execution_count": 75,
   "metadata": {},
   "outputs": [],
   "source": [
    "steps = ['lowercase', 'remove_punctuation', 'remove_numbers', 'strip_whitespace', 'stem_words']\n",
    "tweet_df['clean_tweet'] = tweet_df['tweet_text'].map(lambda s: preprocess(s, steps))"
   ]
  },
  {
   "cell_type": "code",
   "execution_count": 76,
   "metadata": {},
   "outputs": [
    {
     "data": {
      "text/html": [
       "<div>\n",
       "<style scoped>\n",
       "    .dataframe tbody tr th:only-of-type {\n",
       "        vertical-align: middle;\n",
       "    }\n",
       "\n",
       "    .dataframe tbody tr th {\n",
       "        vertical-align: top;\n",
       "    }\n",
       "\n",
       "    .dataframe thead th {\n",
       "        text-align: right;\n",
       "    }\n",
       "</style>\n",
       "<table border=\"1\" class=\"dataframe\">\n",
       "  <thead>\n",
       "    <tr style=\"text-align: right;\">\n",
       "      <th></th>\n",
       "      <th>sentiment_label</th>\n",
       "      <th>tweet_text</th>\n",
       "      <th>clean_tweet</th>\n",
       "    </tr>\n",
       "  </thead>\n",
       "  <tbody>\n",
       "    <tr>\n",
       "      <th>0</th>\n",
       "      <td>1</td>\n",
       "      <td>@elephantbird Hey dear, Happy Friday to You  A...</td>\n",
       "      <td>elephantbird hey dear happy friday to you alre...</td>\n",
       "    </tr>\n",
       "    <tr>\n",
       "      <th>1</th>\n",
       "      <td>1</td>\n",
       "      <td>Ughhh layin downnnn    Waiting for zeina to co...</td>\n",
       "      <td>ughhh layin downnnn waiting for zeina to cook ...</td>\n",
       "    </tr>\n",
       "    <tr>\n",
       "      <th>2</th>\n",
       "      <td>0</td>\n",
       "      <td>@greeniebach I reckon he'll play, even if he's...</td>\n",
       "      <td>greeniebach i reckon hell play even if he not ...</td>\n",
       "    </tr>\n",
       "    <tr>\n",
       "      <th>3</th>\n",
       "      <td>0</td>\n",
       "      <td>@vaLewee I know!  Saw it on the news!</td>\n",
       "      <td>valewee i know saw it on the news</td>\n",
       "    </tr>\n",
       "    <tr>\n",
       "      <th>4</th>\n",
       "      <td>0</td>\n",
       "      <td>very sad that http://www.fabchannel.com/ has c...</td>\n",
       "      <td>very sad that httpwwwfabchannelcom ha closed d...</td>\n",
       "    </tr>\n",
       "  </tbody>\n",
       "</table>\n",
       "</div>"
      ],
      "text/plain": [
       "   sentiment_label                                         tweet_text  \\\n",
       "0                1  @elephantbird Hey dear, Happy Friday to You  A...   \n",
       "1                1  Ughhh layin downnnn    Waiting for zeina to co...   \n",
       "2                0  @greeniebach I reckon he'll play, even if he's...   \n",
       "3                0              @vaLewee I know!  Saw it on the news!   \n",
       "4                0  very sad that http://www.fabchannel.com/ has c...   \n",
       "\n",
       "                                         clean_tweet  \n",
       "0  elephantbird hey dear happy friday to you alre...  \n",
       "1  ughhh layin downnnn waiting for zeina to cook ...  \n",
       "2  greeniebach i reckon hell play even if he not ...  \n",
       "3                  valewee i know saw it on the news  \n",
       "4  very sad that httpwwwfabchannelcom ha closed d...  "
      ]
     },
     "execution_count": 76,
     "metadata": {},
     "output_type": "execute_result"
    }
   ],
   "source": [
    "tweet_df.head()"
   ]
  },
  {
   "cell_type": "markdown",
   "metadata": {},
   "source": [
    "It's sometimes helpful to profile such functions to find the main culprits and see if we can do anything to speed them up."
   ]
  },
  {
   "cell_type": "code",
   "execution_count": 77,
   "metadata": {},
   "outputs": [
    {
     "name": "stdout",
     "output_type": "stream",
     "text": [
      "         15561035 function calls (15561032 primitive calls) in 6.641 seconds\n",
      "\n",
      "   Ordered by: standard name\n",
      "\n",
      "   ncalls  tottime  percall  cumtime  percall filename:lineno(function)\n",
      "        1    0.000    0.000    0.000    0.000 <__array_function__ internals>:2(copyto)\n",
      "        3    0.000    0.000    0.000    0.000 <frozen importlib._bootstrap>:1009(_handle_fromlist)\n",
      "    53702    0.332    0.000    6.524    0.000 <ipython-input-70-0f7b3a1f02b1>:1(preprocess)\n",
      "  3790685    0.452    0.000    0.452    0.000 <ipython-input-70-0f7b3a1f02b1>:10(<genexpr>)\n",
      "    53702    0.213    0.000    4.823    0.000 <ipython-input-70-0f7b3a1f02b1>:23(<listcomp>)\n",
      "    53702    0.080    0.000    6.604    0.000 <string>:1(<lambda>)\n",
      "        1    0.002    0.002    6.641    6.641 <string>:1(<module>)\n",
      "        2    0.000    0.000    0.000    0.000 _dtype.py:319(_name_includes_bit_suffix)\n",
      "        2    0.000    0.000    0.000    0.000 _dtype.py:333(_name_get)\n",
      "        2    0.000    0.000    0.000    0.000 _dtype.py:36(_kind_name)\n",
      "        2    0.000    0.000    0.000    0.000 _internal.py:830(npy_ctypes_check)\n",
      "        3    0.000    0.000    0.000    0.000 abc.py:137(__instancecheck__)\n",
      "        1    0.000    0.000    6.635    6.635 base.py:1078(_map_values)\n",
      "        1    0.000    0.000    0.000    0.000 base.py:1374(nlevels)\n",
      "        1    0.000    0.000    0.000    0.000 base.py:1642(is_unique)\n",
      "        5    0.000    0.000    0.000    0.000 base.py:256(is_dtype)\n",
      "        1    0.000    0.000    0.000    0.000 base.py:4032(__contains__)\n",
      "        7    0.000    0.000    0.000    0.000 base.py:413(find)\n",
      "        1    0.000    0.000    0.000    0.000 base.py:5553(ensure_index)\n",
      "        1    0.000    0.000    0.000    0.000 base.py:5650(maybe_extract_name)\n",
      "        2    0.000    0.000    0.000    0.000 blocks.py:123(__init__)\n",
      "        2    0.000    0.000    0.000    0.000 blocks.py:134(_check_ndim)\n",
      "        1    0.000    0.000    0.000    0.000 blocks.py:200(internal_values)\n",
      "        3    0.000    0.000    0.000    0.000 blocks.py:232(mgr_locs)\n",
      "        2    0.000    0.000    0.000    0.000 blocks.py:236(mgr_locs)\n",
      "        2    0.000    0.000    0.000    0.000 blocks.py:2371(__init__)\n",
      "        1    0.000    0.000    0.000    0.000 blocks.py:255(make_block_same_class)\n",
      "        1    0.000    0.000    0.000    0.000 blocks.py:2652(get_block_type)\n",
      "        1    0.000    0.000    0.000    0.000 blocks.py:2698(make_block)\n",
      "        1    0.000    0.000    0.000    0.000 blocks.py:2725(_extend_blocks)\n",
      "        2    0.000    0.000    0.000    0.000 blocks.py:314(dtype)\n",
      "        1    0.000    0.000    0.001    0.001 blocks.py:513(astype)\n",
      "        1    0.000    0.000    0.001    0.001 blocks.py:674(copy)\n",
      "        1    0.000    0.000    0.000    0.000 cast.py:1180(maybe_castable)\n",
      "        1    0.000    0.000    0.000    0.000 cast.py:1194(maybe_infer_to_datetimelike)\n",
      "        1    0.000    0.000    0.000    0.000 cast.py:1303(maybe_cast_to_datetime)\n",
      "        1    0.000    0.000    0.000    0.000 cast.py:1588(construct_1d_ndarray_preserving_na)\n",
      "        6    0.000    0.000    0.000    0.000 common.py:1460(is_extension_array_dtype)\n",
      "        2    0.000    0.000    0.000    0.000 common.py:1565(_get_dtype)\n",
      "        5    0.000    0.000    0.000    0.000 common.py:1600(_is_dtype_type)\n",
      "        3    0.000    0.000    0.000    0.000 common.py:1733(pandas_dtype)\n",
      "        4    0.000    0.000    0.000    0.000 common.py:178(classes)\n",
      "        4    0.000    0.000    0.000    0.000 common.py:180(<lambda>)\n",
      "        1    0.000    0.000    0.000    0.000 common.py:183(classes_and_not_datetimelike)\n",
      "        1    0.000    0.000    0.000    0.000 common.py:188(<lambda>)\n",
      "        4    0.000    0.000    0.000    0.000 common.py:194(is_object_dtype)\n",
      "        1    0.000    0.000    0.000    0.000 common.py:224(is_sparse)\n",
      "        1    0.000    0.000    0.000    0.000 common.py:329(apply_if_callable)\n",
      "        1    0.000    0.000    0.000    0.000 common.py:381(is_datetime64tz_dtype)\n",
      "        1    0.000    0.000    0.000    0.000 common.py:456(is_period_dtype)\n",
      "        1    0.000    0.000    0.000    0.000 common.py:492(is_interval_dtype)\n",
      "        2    0.000    0.000    0.000    0.000 common.py:530(is_categorical_dtype)\n",
      "        1    0.000    0.000    0.000    0.000 common.py:608(is_dtype_equal)\n",
      "        1    0.000    0.000    0.000    0.000 common.py:696(is_integer_dtype)\n",
      "        1    0.000    0.000    0.000    0.000 construction.py:339(extract_array)\n",
      "        1    0.000    0.000    0.002    0.002 construction.py:390(sanitize_array)\n",
      "        1    0.000    0.000    0.000    0.000 construction.py:520(_try_cast)\n",
      "        1    0.000    0.000    0.000    0.000 construction.py:580(is_empty_data)\n",
      "        1    0.000    0.000    0.000    0.000 dtypes.py:1116(is_dtype)\n",
      "        1    0.000    0.000    0.000    0.000 dtypes.py:903(is_dtype)\n",
      "        1    0.000    0.000    0.000    0.000 frame.py:2869(__getitem__)\n",
      "       26    0.000    0.000    0.000    0.000 generic.py:10(_check)\n",
      "        2    0.000    0.000    0.000    0.000 generic.py:195(__init__)\n",
      "        2    0.000    0.000    0.000    0.000 generic.py:232(attrs)\n",
      "        1    0.000    0.000    0.000    0.000 generic.py:3529(_get_item_cache)\n",
      "        2    0.000    0.000    0.000    0.000 generic.py:5092(__finalize__)\n",
      "        2    0.000    0.000    0.000    0.000 generic.py:5120(__getattr__)\n",
      "        2    0.000    0.000    0.000    0.000 generic.py:5138(__setattr__)\n",
      "        1    0.000    0.000    0.001    0.001 generic.py:5390(astype)\n",
      "        2    0.000    0.000    0.000    0.000 inference.py:263(is_dict_like)\n",
      "        4    0.000    0.000    0.000    0.000 inference.py:289(<genexpr>)\n",
      "        7    0.000    0.000    0.000    0.000 inference.py:322(is_hashable)\n",
      "        1    0.000    0.000    0.000    0.000 inspect.py:72(isclass)\n",
      "        2    0.000    0.000    0.000    0.000 managers.py:1532(__init__)\n",
      "        1    0.000    0.000    0.000    0.000 managers.py:1553(from_blocks)\n",
      "        1    0.000    0.000    0.000    0.000 managers.py:1564(from_array)\n",
      "        2    0.000    0.000    0.000    0.000 managers.py:1575(_block)\n",
      "        1    0.000    0.000    0.000    0.000 managers.py:1602(dtype)\n",
      "        1    0.000    0.000    0.000    0.000 managers.py:1613(internal_values)\n",
      "        1    0.000    0.000    0.001    0.001 managers.py:366(apply)\n",
      "        1    0.000    0.000    0.000    0.000 managers.py:385(<dictcomp>)\n",
      "        1    0.000    0.000    0.001    0.001 managers.py:592(astype)\n",
      "        1    0.000    0.000    0.000    0.000 multiarray.py:1043(copyto)\n",
      "        1    0.000    0.000    0.000    0.000 numeric.py:150(is_all_dates)\n",
      "        1    0.000    0.000    0.000    0.000 numeric.py:283(full)\n",
      "        3    0.000    0.000    0.000    0.000 range.py:687(__len__)\n",
      "    53702    0.035    0.000    0.259    0.000 re.py:185(sub)\n",
      "    53702    0.051    0.000    0.071    0.000 re.py:271(_compile)\n",
      "        2    0.000    0.000    0.002    0.001 series.py:201(__init__)\n",
      "        2    0.000    0.000    0.000    0.000 series.py:381(_constructor)\n",
      "        1    0.001    0.001    6.638    6.638 series.py:3895(map)\n",
      "        1    0.000    0.000    0.000    0.000 series.py:398(_set_axis)\n",
      "        1    0.000    0.000    0.000    0.000 series.py:427(dtype)\n",
      "        4    0.000    0.000    0.000    0.000 series.py:442(name)\n",
      "        4    0.000    0.000    0.000    0.000 series.py:492(name)\n",
      "        1    0.000    0.000    0.000    0.000 series.py:540(_values)\n",
      "   697029    0.796    0.000    3.962    0.000 wordnet.py:1873(_morphy)\n",
      "   704331    0.281    0.000    2.228    0.000 wordnet.py:1884(apply_rules)\n",
      "   704331    1.067    0.000    1.947    0.000 wordnet.py:1886(<listcomp>)\n",
      "   713504    0.842    0.000    0.938    0.000 wordnet.py:1892(filter_forms)\n",
      "    53702    0.008    0.000    0.008    0.000 wordnet.py:37(__init__)\n",
      "   697029    0.472    0.000    4.609    0.000 wordnet.py:40(lemmatize)\n",
      "        3    0.000    0.000    0.000    0.000 {built-in method _abc._abc_instancecheck}\n",
      "        2    0.000    0.000    0.000    0.000 {built-in method builtins.all}\n",
      "        2    0.000    0.000    0.000    0.000 {built-in method builtins.callable}\n",
      "        1    0.000    0.000    6.641    6.641 {built-in method builtins.exec}\n",
      "       42    0.000    0.000    0.000    0.000 {built-in method builtins.getattr}\n",
      "        8    0.000    0.000    0.000    0.000 {built-in method builtins.hasattr}\n",
      "        8    0.000    0.000    0.000    0.000 {built-in method builtins.hash}\n",
      "    53780    0.020    0.000    0.020    0.000 {built-in method builtins.isinstance}\n",
      "       24    0.000    0.000    0.000    0.000 {built-in method builtins.issubclass}\n",
      "62108/62105    0.008    0.000    0.008    0.000 {built-in method builtins.len}\n",
      "   359786    0.175    0.000    0.175    0.000 {built-in method builtins.min}\n",
      "        3    0.000    0.000    0.000    0.000 {built-in method numpy.array}\n",
      "        1    0.000    0.000    0.000    0.000 {built-in method numpy.core._multiarray_umath.implement_array_function}\n",
      "        1    0.000    0.000    0.000    0.000 {built-in method numpy.empty}\n",
      "   367452    0.043    0.000    0.043    0.000 {method 'add' of 'set' objects}\n",
      "   367453    0.053    0.000    0.053    0.000 {method 'append' of 'list' objects}\n",
      "        1    0.001    0.001    0.001    0.001 {method 'copy' of 'numpy.ndarray' objects}\n",
      "        1    0.000    0.000    0.000    0.000 {method 'disable' of '_lsprof.Profiler' objects}\n",
      "  6345126    0.873    0.000    0.873    0.000 {method 'endswith' of 'str' objects}\n",
      "        1    0.000    0.000    0.000    0.000 {method 'get' of 'dict' objects}\n",
      "   161106    0.527    0.000    0.979    0.000 {method 'join' of 'str' objects}\n",
      "    53702    0.016    0.000    0.016    0.000 {method 'lower' of 'str' objects}\n",
      "   107404    0.107    0.000    0.107    0.000 {method 'split' of 'str' objects}\n",
      "    53702    0.154    0.000    0.154    0.000 {method 'sub' of 're.Pattern' objects}\n",
      "        1    0.000    0.000    0.000    0.000 {pandas._libs.algos.ensure_object}\n",
      "        1    0.000    0.000    0.000    0.000 {pandas._libs.lib.infer_datetimelike_array}\n",
      "        1    0.002    0.002    0.002    0.002 {pandas._libs.lib.infer_dtype}\n",
      "        3    0.000    0.000    0.000    0.000 {pandas._libs.lib.is_list_like}\n",
      "        1    0.000    0.000    0.000    0.000 {pandas._libs.lib.item_from_zerodim}\n",
      "        1    0.030    0.030    6.634    6.634 {pandas._libs.lib.map_infer}\n",
      "\n",
      "\n"
     ]
    }
   ],
   "source": [
    "import cProfile\n",
    "cProfile.run(\"tweet_df['tweet_text'].map(lambda s: preprocess(s, steps))\")"
   ]
  },
  {
   "cell_type": "markdown",
   "metadata": {},
   "source": [
    "**NOTE:** To help us understand TF-IDF in great detail, we learn about TF-IDF in two different ways:\n",
    "\n",
    "- We first run through the steps \"manually\", so that we can see talk about implementation details. \n",
    "- We then apply TF-IDF using `sklearn` in a few lines of code, which will hide all of that detail.\n",
    "\n",
    "## Computing TF-IDF\n",
    "\n",
    "Computing the TF-IDF values manually consist of several steps:\n",
    "1. We obtain the term-document matirx. \n",
    "1. We calculate the **term-frequency (TF)** matirx, where $\\text{TF(doc, term)}$ is the term frequencies from the term document matrix divided by the total number of terms in the document. In other words, we turn the frequencies into percentages (also called relative frequencies).\n",
    "1. We trim the term-document matrix if needed. This gets rid of useless words that frequently appear across documents.\n",
    "1. We can also derive the **inverse document frequencies (IDF)** matrix:\n",
    "\n",
    "   $$\\text{IDF(term)} = \\log(\\frac{\\text{number of documents}}{\\text{number of documents with term in it} + 1})$$\n",
    "\n",
    "   Note that TF is a function of both term and document, but the IDF is just a function of the terms.\n",
    "1. We multiply the TF with IDF values to get TF-IDF values. This results in **term frequency inverse document frequency (TF-IDF) maxtrix**. \n",
    "   \n",
    "   $$\\text{TF-IDF} = \\text{TF(term, doc)} \\cdot \\text{IDF(term)}$$\n",
    "\n",
    "To get an intuition behind what's happening, here's what the IDF function looks like:"
   ]
  },
  {
   "cell_type": "code",
   "execution_count": 79,
   "metadata": {},
   "outputs": [
    {
     "data": {
      "image/png": "[encoded data removed]",
      "text/plain": [
       "<Figure size 432x288 with 1 Axes>"
      ]
     },
     "metadata": {
      "needs_background": "light"
     },
     "output_type": "display_data"
    }
   ],
   "source": [
    "x = np.linspace(0, 100, num = 80)\n",
    "sns.lineplot(x = x, y = np.log(100 / (x + 1)));###Equation above, have plus 1 so you never have 0 in the denominator"
   ]
  },
  {
   "cell_type": "markdown",
   "metadata": {},
   "source": [
    "TFs give us the relative frequency terms in the documents. We use the IDFs to then dampen the TFs for terms that appear frequently across documents by virtue of being common terms. This will make it so rarer terms get to exert more influence during the machine learning phase.\n",
    "\n",
    "Applications of TF-IDF include\n",
    "\n",
    "- Characterize writing styles\n",
    "- Comparing authors\n",
    "- Determining original authors\n",
    "- Finding plagiarism\n",
    "\n",
    "Let's now implement this for the tweet data:"
   ]
  },
  {
   "cell_type": "markdown",
   "metadata": {},
   "source": [
    "### Step 1: Get the term-document matrix\n",
    "\n",
    "We first break up the words in the text:"
   ]
  },
  {
   "cell_type": "code",
   "execution_count": 80,
   "metadata": {},
   "outputs": [
    {
     "name": "stdout",
     "output_type": "stream",
     "text": [
      "Example entry: ['chillin', 'in', 'the', 'hotel', 'room', 'were', 'about', 'to', 'check', 'out', 'the', 'city', 'richmond', 'va', 'then', 'head', 'home', 'gonna', 'b', 'traveling', 'aaaaallll', 'day']\n"
     ]
    }
   ],
   "source": [
    "clean_texts = tweet_df['clean_tweet']\n",
    "docs = {}\n",
    "labels = []\n",
    "for ix, row in enumerate(clean_texts):\n",
    "    labels = tweet_data[ix][0]\n",
    "    docs[ix] = row.split(' ')\n",
    "\n",
    "print('Example entry: {}'.format(docs[np.random.choice(ix)]))"
   ]
  },
  {
   "cell_type": "markdown",
   "metadata": {},
   "source": [
    "We can now create our corpus, keeping track of its size."
   ]
  },
  {
   "cell_type": "code",
   "execution_count": 81,
   "metadata": {},
   "outputs": [
    {
     "name": "stdout",
     "output_type": "stream",
     "text": [
      "Our tweet-vocabulary has 64566 distinct words.\n"
     ]
    }
   ],
   "source": [
    "num_nonzero = 0\n",
    "vocab = set()\n",
    "\n",
    "for word_list in docs.values():\n",
    "    unique_terms = set(word_list)    # all unique terms of this tweet\n",
    "    vocab.update(unique_terms)       # set union: add unique terms of this tweet\n",
    "    num_nonzero += len(unique_terms) # add count of unique terms in this tweet\n",
    "\n",
    "doc_key_list = list(docs.keys())\n",
    "\n",
    "print('Our tweet-vocabulary has {} distinct words.'.format(len(vocab)))"
   ]
  },
  {
   "cell_type": "markdown",
   "metadata": {},
   "source": [
    "Let's now convert everything to a numpy array. We should keep track of how the vocab/term indices map to the matrix so that we can look them up later."
   ]
  },
  {
   "cell_type": "code",
   "execution_count": 82,
   "metadata": {},
   "outputs": [
    {
     "name": "stdout",
     "output_type": "stream",
     "text": [
      "Vocab: ['anthmauro' 'postmemorial' 'allowance' 'blessed' 'uplifter']\n",
      "Sorted Vocab: ['a' 'aa' 'aaa' 'aaaaa' 'aaaaaa' 'aaaaaaaaaaaaaaaa'\n",
      " 'aaaaaaaaaaaaaaaaaaaaaaaaaaaaaa' 'aaaaaaaaaaaaaaah'\n",
      " 'aaaaaaaaaaaaaaahmmmmmmmmmm' 'aaaaaaaaaaaaaah'\n",
      " 'aaaaaaaaaaaaaahhhhhhhhhhhhhhhhhhhhhhhhhhhhhh' 'aaaaaaaaand' 'aaaaaaaall'\n",
      " 'aaaaaaaaw' 'aaaaaaah' 'aaaaaagh' 'aaaaaah' 'aaaaaaw' 'aaaaache' 'aaaaah']\n"
     ]
    }
   ],
   "source": [
    "doc_key_list = np.array(doc_key_list)\n",
    "vocab = np.array(list(vocab))\n",
    "\n",
    "vocab_sorter = np.argsort(vocab)\n",
    "\n",
    "print('Vocab: {}'.format(vocab[:5]))\n",
    "print('Sorted Vocab: {}'.format(vocab[vocab_sorter[:20]]))"
   ]
  },
  {
   "cell_type": "markdown",
   "metadata": {},
   "source": [
    "We now initialize the **term-document matrix**. This is a matrix where each row $i$ is a document and each column $j$ is a word. The entriy $(i, j)$ of the matrix shows the frequency of the word $j$ in document $i$."
   ]
  },
  {
   "cell_type": "code",
   "execution_count": 83,
   "metadata": {},
   "outputs": [],
   "source": [
    "num_docs = len(doc_key_list)\n",
    "vocab_size = len(vocab)\n",
    "data = np.empty(num_nonzero, dtype = np.intc)     # all non-zero\n",
    "rows = np.empty(num_nonzero, dtype = np.intc)     # row index\n",
    "cols = np.empty(num_nonzero, dtype = np.intc)     # column index"
   ]
  },
  {
   "cell_type": "markdown",
   "metadata": {},
   "source": [
    "We can now populate the term-document matrix: Each row $i$ is a document and each column $j$ is a word. The entriy $(i, j)$ of the matrix shows the frequency of the word $j$ in document $i$."
   ]
  },
  {
   "cell_type": "code",
   "execution_count": 84,
   "metadata": {},
   "outputs": [
    {
     "name": "stdout",
     "output_type": "stream",
     "text": [
      "Computing, please wait!\n",
      "Done!\n"
     ]
    }
   ],
   "source": [
    "ix = 0\n",
    "# go through all documents with their terms\n",
    "print('Computing, please wait!')\n",
    "for doc_key, terms in docs.items():\n",
    "    # find indices to insert-into such that, if the corresponding elements were\n",
    "    # inserted before the indices, the order would be preserved\n",
    "    term_indices = vocab_sorter[np.searchsorted(vocab, terms, sorter = vocab_sorter)]\n",
    "\n",
    "    # count the unique terms of the document and get their vocabulary indices\n",
    "    uniq_indices, counts = np.unique(term_indices, return_counts = True)\n",
    "    n_vals = len(uniq_indices)  # number of unique terms\n",
    "    ix_end = ix + n_vals # add count to index\n",
    "\n",
    "    data[ix:ix_end] = counts                  # save the counts (term frequencies)\n",
    "    cols[ix:ix_end] = uniq_indices            # save the column index: index in \n",
    "    doc_ix = np.where(doc_key_list == doc_key)   # get the document index for the document name\n",
    "    rows[ix:ix_end] = np.repeat(doc_ix, n_vals)  # save it as repeated value\n",
    "\n",
    "    ix = ix_end  # resume with next document -> will add future data on the end\n",
    "\n",
    "print('Done!')"
   ]
  },
  {
   "cell_type": "markdown",
   "metadata": {},
   "source": [
    "Let's look at our sorted vocabulary again."
   ]
  },
  {
   "cell_type": "code",
   "execution_count": 85,
   "metadata": {},
   "outputs": [
    {
     "name": "stdout",
     "output_type": "stream",
     "text": [
      "First five terms alphabetically: ['a' 'aa' 'aaa' 'aaaaa' 'aaaaaa']\n"
     ]
    }
   ],
   "source": [
    "print('First five terms alphabetically: {}'.format(vocab[vocab_sorter[:5]]))"
   ]
  },
  {
   "cell_type": "markdown",
   "metadata": {},
   "source": [
    "As you can see, we probably need to do some trimming, as the word 'aaaaa' probably doesn't occur often enough, and having 151,670 unique words may be too much.  We will address this later on. For now, let's keep the corpus we have. We now initialize a sparse matrix that will store the term-document matirx."
   ]
  },
  {
   "cell_type": "code",
   "execution_count": 86,
   "metadata": {},
   "outputs": [
    {
     "data": {
      "text/plain": [
       "<53702x64566 sparse matrix of type '<class 'numpy.int32'>'\n",
       "\twith 658645 stored elements in COOrdinate format>"
      ]
     },
     "execution_count": 86,
     "metadata": {},
     "output_type": "execute_result"
    }
   ],
   "source": [
    "doc_term_mat = coo_matrix((data, (rows, cols)), shape = (num_docs, vocab_size), dtype = np.intc)\n",
    "\n",
    "doc_term_mat "
   ]
  },
  {
   "cell_type": "markdown",
   "metadata": {},
   "source": [
    "We can now populate the matrix with the term frequencies. We can see an example of this for the word \"python\" in the code below."
   ]
  },
  {
   "cell_type": "code",
   "execution_count": 87,
   "metadata": {},
   "outputs": [
    {
     "name": "stdout",
     "output_type": "stream",
     "text": [
      "vocab index of python : 35861\n",
      "\n",
      "1st document index containing said word: 14592\n",
      "\n",
      "Tweet: [1, \"omg, I just found my old vid of monty python's life of brian. it's brilliant, I just can't get enough stan today\"]\n"
     ]
    }
   ],
   "source": [
    "# let's check to make sure!\n",
    "vocab_list = list(vocab)\n",
    "word_of_interest = 'python'\n",
    "vocab_interesting_ix = list(vocab).index(word_of_interest)\n",
    "print('vocab index of {} : {}'.format(word_of_interest, vocab_interesting_ix))\n",
    "# find which tweets contain word\n",
    "doc_ix_with_word = []\n",
    "for ix, row in enumerate(tweet_data): # note on this line later\n",
    "    if word_of_interest in row[1]:\n",
    "        doc_ix_with_word.append(ix)\n",
    "\n",
    "print('\\n1st document index containing said word: {}'.format(doc_ix_with_word[0]))\n",
    "print('\\nTweet: {}'.format(tweet_data[doc_ix_with_word[0]]))"
   ]
  },
  {
   "cell_type": "markdown",
   "metadata": {},
   "source": [
    "We can see that the word \"python\" appears once in the first document (tweet).\n",
    "\n",
    "**Note:** The term-document matirx `doc_term_mat` is a sparse matirx. So we can't index it using row and column index. Here we don't really need to do that, but if we did we would first need to convert it into an array. We can use the `toarray` method to do that, but if the matrix is large we can easily run out of memory (that's why we're using a spares matrix in the first place!). So instead we can use the `tocrs` method shown below, which uses compression to avoid the memory problem."
   ]
  },
  {
   "cell_type": "code",
   "execution_count": 88,
   "metadata": {},
   "outputs": [
    {
     "name": "stdout",
     "output_type": "stream",
     "text": [
      "\n",
      "Row 14592 and column 35861 of document-term matrix has entry 1\n"
     ]
    }
   ],
   "source": [
    "# document - term matrix relevant entry\n",
    "document_row = doc_ix_with_word[0]\n",
    "vocab_col = vocab_interesting_ix\n",
    "mat_entry = doc_term_mat.tocsr()[document_row, vocab_col]\n",
    "\n",
    "print('\\nRow {} and column {} of document-term matrix has entry {}'.format(document_row, vocab_col, mat_entry))"
   ]
  },
  {
   "cell_type": "markdown",
   "metadata": {},
   "source": [
    "### Step 2: Trimming the document-term matrix\n",
    "\n",
    "We saw above that we are including terms like 'aaaaa' and 'aaaa', which probably occur very few times. These terms generally occur with unstructured text fields because we allow users to input whatever they feel like and that includes typos.  But be aware that they can also be artifacts of our cleaning process (unintentionally and intentionally).\n",
    "\n",
    "Since our document-term matrix is a matrix of counts of words (columns) in each document (rows), we want to remove words that don't occur very frequently across our corpus. The count of how frequent a word is in all of our corpus is just the sum of each column."
   ]
  },
  {
   "cell_type": "code",
   "execution_count": 95,
   "metadata": {},
   "outputs": [
    {
     "name": "stdout",
     "output_type": "stream",
     "text": [
      "[[1 1 1 ... 1 3 1]]\n"
     ]
    }
   ],
   "source": [
    "word_counts = doc_term_mat.sum(axis = 0)\n",
    "print(word_counts)"
   ]
  },
  {
   "cell_type": "markdown",
   "metadata": {},
   "source": [
    "Let's look at how many words are above a specific cutoff, such as 15:"
   ]
  },
  {
   "cell_type": "code",
   "execution_count": 96,
   "metadata": {},
   "outputs": [
    {
     "name": "stdout",
     "output_type": "stream",
     "text": [
      "Number of words w/counts above 15 : 2805\n"
     ]
    }
   ],
   "source": [
    "cutoff = 15\n",
    "word_count_list = word_counts.tolist()[0]\n",
    "col_cutoff_ix = [ix for ix, count in enumerate(word_count_list) if count > cutoff]\n",
    "\n",
    "print('Number of words w/counts above {} : {}'.format(cutoff, len(col_cutoff_ix)))"
   ]
  },
  {
   "cell_type": "markdown",
   "metadata": {},
   "source": [
    "We can now trim our vocabulary and document term matrix."
   ]
  },
  {
   "cell_type": "code",
   "execution_count": 97,
   "metadata": {},
   "outputs": [
    {
     "name": "stdout",
     "output_type": "stream",
     "text": [
      "Shape of document-term matrix before trimming: (53702, 64566)\n",
      "Shape of document-term matrix after trimming: (53702, 2805)\n"
     ]
    }
   ],
   "source": [
    "vocab_trimmed = np.array([vocab[x] for x in col_cutoff_ix])\n",
    "vocab_sorter_trimmed = np.argsort(vocab_trimmed)\n",
    "\n",
    "print('Shape of document-term matrix before trimming: {}'.format(doc_term_mat.shape))\n",
    "\n",
    "doc_term_mat_trimmed = doc_term_mat.tocsc()[:, col_cutoff_ix]\n",
    "print('Shape of document-term matrix after trimming: {}'.format(doc_term_mat_trimmed.shape))"
   ]
  },
  {
   "cell_type": "code",
   "execution_count": 98,
   "metadata": {},
   "outputs": [
    {
     "data": {
      "text/plain": [
       "array(['a', 'aaron', 'able', 'about', 'absolutely', 'abt', 'ac', 'accent',\n",
       "       'accept', 'access'], dtype='<U19')"
      ]
     },
     "execution_count": 98,
     "metadata": {},
     "output_type": "execute_result"
    }
   ],
   "source": [
    "# Look at first 10 words alphabetically\n",
    "vocab_trimmed[vocab_sorter_trimmed[0:10]]"
   ]
  },
  {
   "cell_type": "markdown",
   "metadata": {},
   "source": [
    "How do we know what cutoff we should use? Let's look at a bar plot words in descending frequency before and after we trimmed it."
   ]
  },
  {
   "cell_type": "code",
   "execution_count": 99,
   "metadata": {},
   "outputs": [
    {
     "data": {
      "image/png": "[encoded data removed]",
      "text/plain": [
       "<Figure size 432x288 with 1 Axes>"
      ]
     },
     "metadata": {
      "needs_background": "light"
     },
     "output_type": "display_data"
    }
   ],
   "source": [
    "counts = pd.value_counts(word_count_list, normalize = True)[:20]\n",
    "words = [vocab[x] for x in counts.index][:20]\n",
    "g = sns.barplot(x = words, y = counts, color = 'lightblue')\n",
    "g.set_xticklabels(rotation = 90, labels = words);"
   ]
  },
  {
   "cell_type": "markdown",
   "metadata": {},
   "source": [
    "We can see the bar plot is very skewed. There are too many words that appear few times. Let's check out the trimmed list."
   ]
  },
  {
   "cell_type": "code",
   "execution_count": 100,
   "metadata": {},
   "outputs": [
    {
     "data": {
      "image/png": "[encoded data removed]",
      "text/plain": [
       "<Figure size 432x288 with 1 Axes>"
      ]
     },
     "metadata": {
      "needs_background": "light"
     },
     "output_type": "display_data"
    }
   ],
   "source": [
    "trimmed_word_counts = doc_term_mat_trimmed.sum(axis = 0)\n",
    "trimmed_word_list = trimmed_word_counts.tolist()[0]\n",
    "\n",
    "counts = pd.value_counts(trimmed_word_list, normalize = True)[:20]\n",
    "counts = counts.reset_index(drop = True)\n",
    "words = [vocab[x] for x in counts.index][:20]\n",
    "g = sns.barplot(x = words, y = counts, color = 'lightblue')\n",
    "g.set_xticklabels(rotation = 90, labels = words);"
   ]
  },
  {
   "cell_type": "markdown",
   "metadata": {},
   "source": [
    "Note that 15 might be a good cutoff because we get a visible drop off and around 6000 features, but these types of **hyperparameters** for the model will probably need tuning. We will learn about tuning such values in future lectures."
   ]
  },
  {
   "cell_type": "markdown",
   "metadata": {},
   "source": [
    "### Step 3: Compute IDF"
   ]
  },
  {
   "cell_type": "markdown",
   "metadata": {},
   "source": [
    "### Computing Term Frequency\n",
    "\n",
    "Now that we have computed a document-term matrix, how can we understand it? Recall that the simple **Bag of Words model** is just based on **Term Frequency (TF)**. In this case, the weighting of a document for a given term is just the frequency of that term in the document. \n",
    "\n",
    "In other cases we will used the **Inverse Document Frequency (IDF)** weighting. IDF weighting accounts for cases where only a few documents contain certain terms. The formula for the IDF weighting can be written as:\n",
    "\n",
    "$$IDF = log(\\frac{Number\\ Documents}{Number\\ Documents\\ with\\ Word})$$\n",
    "\n",
    "The IDF can exhibit a problem however. When there are a few documents with very frequent terms, the weighting is skewed toward those documents.  To solve this problem, we reweight IDF by the overall frequency of the word to create a **term frequency-inverse document frequency (TF-IDF)** matrix. The formula for computing TFIDF is: \n",
    "\n",
    "$$TF - IDF = frequency(word) \\cdot log(\\frac{Number\\ Documents}{Number\\ Documents\\ with\\ Word})\\ $$\n",
    "\n",
    "The code in the cell below computes both simple TF and the cumulative of the term frequencies, starting from the most frequent terms to the least.\n",
    "\n",
    "Scikit-Learn has a built in TF-IDF transformation function that we will use to calculate this and prepare the dataset."
   ]
  },
  {
   "cell_type": "code",
   "execution_count": 101,
   "metadata": {},
   "outputs": [],
   "source": [
    "clean_texts = tweet_df['clean_tweet']\n",
    "# Declare the TFIDF vectorizer.\n",
    "vectorizer = TfidfVectorizer(sublinear_tf=True, max_df=0.5, max_features=5856, stop_words='english')#Can change dictionary from 'english' to 'french' if you'd like\n",
    "\n",
    "# Fit the vectorizer over the dataset\n",
    "tf_idf_tweets = vectorizer.fit_transform(clean_texts)"
   ]
  },
  {
   "cell_type": "code",
   "execution_count": 102,
   "metadata": {},
   "outputs": [
    {
     "data": {
      "text/plain": [
       "<53702x5856 sparse matrix of type '<class 'numpy.float64'>'\n",
       "\twith 294937 stored elements in Compressed Sparse Row format>"
      ]
     },
     "execution_count": 102,
     "metadata": {},
     "output_type": "execute_result"
    }
   ],
   "source": [
    "# Scikit learn prefers the 'csr' format instead (Compressed Sparse Row format)\n",
    "tf_idf_tweets"
   ]
  },
  {
   "cell_type": "markdown",
   "metadata": {},
   "source": [
    "## (Optional) Classification and sentiment analysis\n",
    "\n",
    "It's hard to talk about feature engineering without moving on to the next step: training a machine learning model. Although we cover this topic on a future lesson, we include here an example in case you can't wait any longer!\n",
    "\n",
    "Now that we have a prepared TDM of the 160,000 tweets, let's build and evaluate models to classify the sentiment of these tweets. The idea is simple: We use the TF-IDF features for training the model. Since our data also has a column that says if the tweet expresses a positive or negative sentiment, we will train a model to predict the sentiment from the TF-IDF features. So first let's obtain the TF-IDF features once more:"
   ]
  },
  {
   "cell_type": "markdown",
   "metadata": {},
   "source": [
    "Let's split the featurized data into training and test sets. We will explain why in a future lecture. For training we will use 120,000 tweets to predict the 0,1 sentiment. The remaining 40,000 cases will be used to evaluate the model."
   ]
  },
  {
   "cell_type": "code",
   "execution_count": 103,
   "metadata": {},
   "outputs": [
    {
     "data": {
      "text/plain": [
       "array([1, 1, 0, ..., 0, 0, 1])"
      ]
     },
     "execution_count": 103,
     "metadata": {},
     "output_type": "execute_result"
    }
   ],
   "source": [
    "y_targets = np.array([y[0] for y in tweet_data])\n",
    "y_targets"
   ]
  },
  {
   "cell_type": "code",
   "execution_count": 109,
   "metadata": {},
   "outputs": [],
   "source": [
    "X_train, X_test, y_train, y_test = train_test_split(tf_idf_tweets, y_targets, test_size = 40000, random_state = 42)"
   ]
  },
  {
   "cell_type": "markdown",
   "metadata": {},
   "source": [
    "Now let's train a logistic classifier on the data:"
   ]
  },
  {
   "cell_type": "code",
   "execution_count": 110,
   "metadata": {},
   "outputs": [
    {
     "data": {
      "text/plain": [
       "LogisticRegression(C=1.0, class_weight=None, dual=False, fit_intercept=True,\n",
       "                   intercept_scaling=1, l1_ratio=None, max_iter=100,\n",
       "                   multi_class='auto', n_jobs=None, penalty='l2',\n",
       "                   random_state=None, solver='lbfgs', tol=0.0001, verbose=0,\n",
       "                   warm_start=False)"
      ]
     },
     "execution_count": 110,
     "metadata": {},
     "output_type": "execute_result"
    }
   ],
   "source": [
    "lr = LogisticRegression()\n",
    "lr.fit(X_train, y_train)"
   ]
  },
  {
   "cell_type": "markdown",
   "metadata": {},
   "source": [
    "Let's now evaluate the model."
   ]
  },
  {
   "cell_type": "code",
   "execution_count": 113,
   "metadata": {},
   "outputs": [],
   "source": [
    "train_probs = lr.predict_proba(X_train)\n",
    "train_results = np.argmax(train_probs, axis=1)\n",
    "\n",
    "test_probs = lr.predict_proba(X_test)\n",
    "test_results = np.argmax(test_probs, axis=1)"
   ]
  },
  {
   "cell_type": "code",
   "execution_count": 114,
   "metadata": {},
   "outputs": [
    {
     "name": "stdout",
     "output_type": "stream",
     "text": [
      "Train accuracy: 0.8252809808787038\n",
      "Test accuracy: 0.7372\n"
     ]
    }
   ],
   "source": [
    "train_logical_correct = [pred == actual for pred, actual in zip(train_results, y_train)]\n",
    "train_acc = np.mean(train_logical_correct)\n",
    "\n",
    "test_logical_correct = [pred == actual for pred, actual in zip(test_results, y_test)]\n",
    "test_acc = np.mean(test_logical_correct)\n",
    "\n",
    "print('Train accuracy: {}'.format(train_acc))\n",
    "print('Test accuracy: {}'.format(test_acc))"
   ]
  },
  {
   "cell_type": "markdown",
   "metadata": {},
   "source": [
    "Let's also compute the precision, recall and Fscore of the model for positive and negative tweets.\n",
    "\n",
    "Recall that a positive prediction here means a positive review, and so **precision** is the proportion of correct predictions among all positive predictions and **recall** is the proportion of correct predictions among all true positives. **F1** is the harmonic average of precision and recall."
   ]
  },
  {
   "cell_type": "code",
   "execution_count": 115,
   "metadata": {},
   "outputs": [
    {
     "name": "stdout",
     "output_type": "stream",
     "text": [
      "[[14515  5487]\n",
      " [ 5025 14973]]\n",
      "===================================\n",
      "             Class 1   -   Class 0\n",
      "Precision: [0.74283521 0.73181818]\n",
      "Recall   : [0.72567743 0.74872487]\n",
      "F1       : [0.73415609 0.740175  ]\n",
      "Support  : [20002 19998]\n"
     ]
    }
   ],
   "source": [
    "precision, recall, f1, support = precision_recall_fscore_support(y_test, test_results)\n",
    "tn, fp, fn, tp = confusion_matrix(y_test, test_results).ravel()\n",
    "\n",
    "print(confusion_matrix(y_test, test_results))\n",
    "print('='*35)\n",
    "print('             Class 1   -   Class 0')\n",
    "print('Precision: {}'.format(precision))\n",
    "print('Recall   : {}'.format(recall))\n",
    "print('F1       : {}'.format(f1))\n",
    "print('Support  : {}'.format(support))"
   ]
  },
  {
   "cell_type": "markdown",
   "metadata": {},
   "source": [
    "##  Summary\n",
    "\n",
    "NLP applications extend far and wide, so we only stratched the surface here. Many of the modern breakthroughs in deep learning for example have been in NLP. One reason for this is that language data is abundant and the lack of structure in the data presents us with many challenges and learning opportunities. We hope this notebook exposed you to just some examples."
   ]
  },
  {
   "cell_type": "markdown",
   "metadata": {},
   "source": [
    "# Assignment (Milestone 2)\n",
    "\n",
    "We saw how TF-IDF can be used to create features on text data. Let's now look at an example of a special transformation very common in the retail industry: RFM or recency-frequency-monetary transformation. The goal of this assignment is to implement create RFM features for the `retail-churn.csv` data. You will see that having time series data opens us up to many types of features (although how useful they will ultimately be is another question).\n"
   ]
  },
  {
   "cell_type": "code",
   "execution_count": 1,
   "metadata": {},
   "outputs": [
    {
     "data": {
      "text/plain": [
       "'1.1.2'"
      ]
     },
     "execution_count": 1,
     "metadata": {},
     "output_type": "execute_result"
    }
   ],
   "source": [
    "import pandas as pd\n",
    "import datetime as dt\n",
    "import numpy as np\n",
    "from datetime import timedelta\n",
    "pd.__version__"
   ]
  },
  {
   "cell_type": "markdown",
   "metadata": {},
   "source": [
    "Let's read the `retail-churn.csv` data we are by now very familiar with."
   ]
  },
  {
   "cell_type": "code",
   "execution_count": 2,
   "metadata": {},
   "outputs": [
    {
     "data": {
      "text/html": [
       "<div>\n",
       "<style scoped>\n",
       "    .dataframe tbody tr th:only-of-type {\n",
       "        vertical-align: middle;\n",
       "    }\n",
       "\n",
       "    .dataframe tbody tr th {\n",
       "        vertical-align: top;\n",
       "    }\n",
       "\n",
       "    .dataframe thead th {\n",
       "        text-align: right;\n",
       "    }\n",
       "</style>\n",
       "<table border=\"1\" class=\"dataframe\">\n",
       "  <thead>\n",
       "    <tr style=\"text-align: right;\">\n",
       "      <th></th>\n",
       "      <th>user_id</th>\n",
       "      <th>gender</th>\n",
       "      <th>address</th>\n",
       "      <th>store_id</th>\n",
       "      <th>trans_id</th>\n",
       "      <th>timestamp</th>\n",
       "      <th>item_id</th>\n",
       "      <th>quantity</th>\n",
       "      <th>dollar</th>\n",
       "    </tr>\n",
       "  </thead>\n",
       "  <tbody>\n",
       "    <tr>\n",
       "      <th>0</th>\n",
       "      <td>101981</td>\n",
       "      <td>F</td>\n",
       "      <td>E</td>\n",
       "      <td>2860</td>\n",
       "      <td>818463</td>\n",
       "      <td>11/1/2000 0:00</td>\n",
       "      <td>4.710000e+12</td>\n",
       "      <td>1</td>\n",
       "      <td>37</td>\n",
       "    </tr>\n",
       "    <tr>\n",
       "      <th>1</th>\n",
       "      <td>101981</td>\n",
       "      <td>F</td>\n",
       "      <td>E</td>\n",
       "      <td>2861</td>\n",
       "      <td>818464</td>\n",
       "      <td>11/1/2000 0:00</td>\n",
       "      <td>4.710000e+12</td>\n",
       "      <td>1</td>\n",
       "      <td>17</td>\n",
       "    </tr>\n",
       "    <tr>\n",
       "      <th>2</th>\n",
       "      <td>101981</td>\n",
       "      <td>F</td>\n",
       "      <td>E</td>\n",
       "      <td>2862</td>\n",
       "      <td>818465</td>\n",
       "      <td>11/1/2000 0:00</td>\n",
       "      <td>4.710000e+12</td>\n",
       "      <td>1</td>\n",
       "      <td>23</td>\n",
       "    </tr>\n",
       "    <tr>\n",
       "      <th>3</th>\n",
       "      <td>101981</td>\n",
       "      <td>F</td>\n",
       "      <td>E</td>\n",
       "      <td>2863</td>\n",
       "      <td>818466</td>\n",
       "      <td>11/1/2000 0:00</td>\n",
       "      <td>4.710000e+12</td>\n",
       "      <td>1</td>\n",
       "      <td>41</td>\n",
       "    </tr>\n",
       "    <tr>\n",
       "      <th>4</th>\n",
       "      <td>101981</td>\n",
       "      <td>F</td>\n",
       "      <td>E</td>\n",
       "      <td>2864</td>\n",
       "      <td>818467</td>\n",
       "      <td>11/1/2000 0:00</td>\n",
       "      <td>4.710000e+12</td>\n",
       "      <td>8</td>\n",
       "      <td>288</td>\n",
       "    </tr>\n",
       "  </tbody>\n",
       "</table>\n",
       "</div>"
      ],
      "text/plain": [
       "   user_id gender address  store_id  trans_id       timestamp       item_id  \\\n",
       "0   101981      F       E      2860    818463  11/1/2000 0:00  4.710000e+12   \n",
       "1   101981      F       E      2861    818464  11/1/2000 0:00  4.710000e+12   \n",
       "2   101981      F       E      2862    818465  11/1/2000 0:00  4.710000e+12   \n",
       "3   101981      F       E      2863    818466  11/1/2000 0:00  4.710000e+12   \n",
       "4   101981      F       E      2864    818467  11/1/2000 0:00  4.710000e+12   \n",
       "\n",
       "   quantity  dollar  \n",
       "0         1      37  \n",
       "1         1      17  \n",
       "2         1      23  \n",
       "3         1      41  \n",
       "4         8     288  "
      ]
     },
     "execution_count": 2,
     "metadata": {},
     "output_type": "execute_result"
    }
   ],
   "source": [
    "col_names = ['user_id', 'gender', 'address', 'store_id', 'trans_id', 'timestamp', 'item_id', 'quantity', 'dollar']\n",
    "churn = pd.read_csv(\"../Data/retail-churn.csv\", sep = \",\", skiprows = 1, names = col_names)\n",
    "churn.head()"
   ]
  },
  {
   "cell_type": "markdown",
   "metadata": {},
   "source": [
    "Run the following steps to feature engineer the data.\n",
    "\n",
    "1. Convert the `timestamp` column to be of type `datetime`. <span style=\"color:red\" float:right>[1 point]</span>"
   ]
  },
  {
   "cell_type": "markdown",
   "metadata": {},
   "source": [
    "Reasoning - To be able to switch a column to a datetime type, I will need to use the pd.to_datetime call and pass the necessary column through"
   ]
  },
  {
   "cell_type": "code",
   "execution_count": 3,
   "metadata": {},
   "outputs": [
    {
     "data": {
      "text/plain": [
       "user_id               int64\n",
       "gender               object\n",
       "address              object\n",
       "store_id              int64\n",
       "trans_id              int64\n",
       "timestamp    datetime64[ns]\n",
       "item_id             float64\n",
       "quantity              int64\n",
       "dollar                int64\n",
       "dtype: object"
      ]
     },
     "execution_count": 3,
     "metadata": {},
     "output_type": "execute_result"
    }
   ],
   "source": [
    "churn['timestamp'] = pd.to_datetime(churn['timestamp'])\n",
    "churn.dtypes"
   ]
  },
  {
   "cell_type": "markdown",
   "metadata": {},
   "source": [
    "Conclusion - after passing the pd.to_datetime call, I was able to call the churn.dtypes to see that it is now in datetime format"
   ]
  },
  {
   "cell_type": "markdown",
   "metadata": {},
   "source": [
    "2. Extract the date from `datetime` and store it in a new column called `date`. <span style=\"color:red\" float:right>[1 point]</span>"
   ]
  },
  {
   "cell_type": "markdown",
   "metadata": {},
   "source": [
    "Reasoning - Will use the dt.strftime call to get the data into a format I can work with for later and also use the pd.to_datetime to store it into a new column called 'date'"
   ]
  },
  {
   "cell_type": "code",
   "execution_count": 156,
   "metadata": {},
   "outputs": [
    {
     "data": {
      "text/plain": [
       "0   2000-11-01\n",
       "1   2000-11-01\n",
       "2   2000-11-01\n",
       "3   2000-11-01\n",
       "4   2000-11-01\n",
       "Name: date, dtype: datetime64[ns]"
      ]
     },
     "execution_count": 156,
     "metadata": {},
     "output_type": "execute_result"
    }
   ],
   "source": [
    "churn['date']=churn['timestamp'].dt.strftime(\"%Y-%m-%d\")\n",
    "churn['date'] = pd.to_datetime(churn['date'])\n",
    "churn['date'].head()"
   ]
  },
  {
   "cell_type": "code",
   "execution_count": 157,
   "metadata": {},
   "outputs": [
    {
     "name": "stdout",
     "output_type": "stream",
     "text": [
      "2000-11-01 00:00:00\n",
      "2000-12-12 00:00:00\n"
     ]
    }
   ],
   "source": [
    "#Taking a look at the temporal difference\n",
    "print(churn['date'].min())\n",
    "print(churn['date'].max())"
   ]
  },
  {
   "cell_type": "code",
   "execution_count": 158,
   "metadata": {},
   "outputs": [
    {
     "data": {
      "text/plain": [
       "user_id               int64\n",
       "gender               object\n",
       "address              object\n",
       "store_id              int64\n",
       "trans_id              int64\n",
       "timestamp    datetime64[ns]\n",
       "item_id             float64\n",
       "quantity              int64\n",
       "dollar                int64\n",
       "date         datetime64[ns]\n",
       "dtype: object"
      ]
     },
     "execution_count": 158,
     "metadata": {},
     "output_type": "execute_result"
    }
   ],
   "source": [
    "#Making sure that the new column is in datetime format\n",
    "churn.dtypes"
   ]
  },
  {
   "cell_type": "markdown",
   "metadata": {},
   "source": [
    "Conclusion - By using the strftime command and then the pd.to_datetime, I was able to create 'date' and then convert it into a datetime column. Also found out that my distribution is from January to December of 2000."
   ]
  },
  {
   "cell_type": "markdown",
   "metadata": {},
   "source": [
    "Notice that the **granularity** of the data is not daily spend, but rather individual transactions. We can see that because the same user has multiple transactions with the same timestamp. Before we run RFM, we need to **aggregate** the data so we have daily granularity.\n",
    "\n",
    "3. Aggregate `quantity` and `dollar` to daily data (so that `user_id` and `date` are unique for each row). Call the aggregated data `churn_agg`. You can ignore all the other columns, as they are not needed. <span style=\"color:red\" float:right>[2 point]</span>"
   ]
  },
  {
   "cell_type": "markdown",
   "metadata": {},
   "source": [
    "Reasoning - To get the user_id and date, I will need to use a groupby, and then aggregate based on quantity (sum) and dollar (sum) to obtain the correct df, churn_agg"
   ]
  },
  {
   "cell_type": "code",
   "execution_count": 159,
   "metadata": {},
   "outputs": [
    {
     "data": {
      "text/plain": [
       "user_id              int64\n",
       "date        datetime64[ns]\n",
       "quantity             int64\n",
       "dollar               int64\n",
       "dtype: object"
      ]
     },
     "execution_count": 159,
     "metadata": {},
     "output_type": "execute_result"
    }
   ],
   "source": [
    "#as_index=False - in groupby function\n",
    "churn_agg = churn.groupby(['user_id', 'date'], as_index=False).agg({'quantity':'sum', 'dollar':'sum'})\n",
    "churn_agg.head()\n",
    "churn_agg.dtypes"
   ]
  },
  {
   "cell_type": "code",
   "execution_count": 160,
   "metadata": {},
   "outputs": [
    {
     "name": "stdout",
     "output_type": "stream",
     "text": [
      "count    13328.000000\n",
      "mean         9.811900\n",
      "std         18.276495\n",
      "min          1.000000\n",
      "25%          3.000000\n",
      "50%          7.000000\n",
      "75%         12.000000\n",
      "max       1200.000000\n",
      "Name: quantity, dtype: float64\n",
      "count    13328.000000\n",
      "mean       891.074205\n",
      "std       1338.841301\n",
      "min          9.000000\n",
      "25%        228.000000\n",
      "50%        512.000000\n",
      "75%       1100.000000\n",
      "max      62688.000000\n",
      "Name: dollar, dtype: float64\n"
     ]
    }
   ],
   "source": [
    "print(churn_agg.quantity.describe())\n",
    "print(churn_agg.dollar.describe())"
   ]
  },
  {
   "cell_type": "code",
   "execution_count": 161,
   "metadata": {},
   "outputs": [
    {
     "name": "stdout",
     "output_type": "stream",
     "text": [
      "Index(['user_id', 'date', 'quantity', 'dollar'], dtype='object')\n",
      "user_id              int64\n",
      "date        datetime64[ns]\n",
      "quantity             int64\n",
      "dollar               int64\n",
      "dtype: object\n"
     ]
    }
   ],
   "source": [
    "print(churn_agg.columns)\n",
    "print(churn_agg.dtypes)"
   ]
  },
  {
   "cell_type": "markdown",
   "metadata": {},
   "source": [
    "https://towardsdatascience.com/how-to-group-data-by-different-time-intervals-using-python-pandas-eb7134f9b9b0\n",
    "\n",
    "https://pbpython.com/pandas-grouper-agg.html"
   ]
  },
  {
   "cell_type": "markdown",
   "metadata": {},
   "source": [
    "Conclusion - By using groupby on user_id and date, I was able to groupby them and then aggregate based on the quantity and dollar that each consumer (user_id) purchased"
   ]
  },
  {
   "cell_type": "markdown",
   "metadata": {},
   "source": [
    "4. Using the aggregated data, obtain recency, frequency and monetary features for both `dollar` and `quantity`. Use a 7-day moving window for frequency and monetary. Call your new features `last_visit_ndays` (recency) `quantity_roll_sum_7D` (frequency) and `dollar_roll_sum_7D` (monetary). <span style=\"color:red\" float:right>[4 point]</span>\n",
    "\n",
    "  HINT: In `pandas` recency is a kind of **difference** feature, because it's based on calculating the difference between the current date and a previous date (called a **lag**). We can use the `diff` method to get recency. Frequency and monetary features are called **rolling** features, because it is a type of cumulative sum but over a moving window. We can use the `rolling` function to get frequency and monetary, where the `window` and `on` arguments need to chosen carefully."
   ]
  },
  {
   "cell_type": "markdown",
   "metadata": {},
   "source": [
    "Reasoning - I will do this question in parts:\n",
    "1) To get the last visit in days I will use the diff() call after grouping the user_id based on date\n",
    "\n",
    "2) I will then use the rolling() function on both the frequency and monetary over 7 days"
   ]
  },
  {
   "cell_type": "markdown",
   "metadata": {},
   "source": [
    "https://pandas.pydata.org/pandas-docs/stable/user_guide/timeseries.html#offset-aliases"
   ]
  },
  {
   "cell_type": "markdown",
   "metadata": {},
   "source": [
    "https://towardsdatascience.com/how-to-group-data-by-different-time-intervals-using-python-pandas-eb7134f9b9b0"
   ]
  },
  {
   "cell_type": "code",
   "execution_count": 162,
   "metadata": {},
   "outputs": [
    {
     "data": {
      "text/html": [
       "<div>\n",
       "<style scoped>\n",
       "    .dataframe tbody tr th:only-of-type {\n",
       "        vertical-align: middle;\n",
       "    }\n",
       "\n",
       "    .dataframe tbody tr th {\n",
       "        vertical-align: top;\n",
       "    }\n",
       "\n",
       "    .dataframe thead th {\n",
       "        text-align: right;\n",
       "    }\n",
       "</style>\n",
       "<table border=\"1\" class=\"dataframe\">\n",
       "  <thead>\n",
       "    <tr style=\"text-align: right;\">\n",
       "      <th></th>\n",
       "      <th>user_id</th>\n",
       "      <th>date</th>\n",
       "      <th>quantity</th>\n",
       "      <th>dollar</th>\n",
       "      <th>last_visit_ndays</th>\n",
       "    </tr>\n",
       "  </thead>\n",
       "  <tbody>\n",
       "    <tr>\n",
       "      <th>0</th>\n",
       "      <td>1113</td>\n",
       "      <td>2000-11-12</td>\n",
       "      <td>5</td>\n",
       "      <td>420</td>\n",
       "      <td>NaT</td>\n",
       "    </tr>\n",
       "    <tr>\n",
       "      <th>1</th>\n",
       "      <td>1113</td>\n",
       "      <td>2000-11-26</td>\n",
       "      <td>3</td>\n",
       "      <td>558</td>\n",
       "      <td>14 days</td>\n",
       "    </tr>\n",
       "    <tr>\n",
       "      <th>2</th>\n",
       "      <td>1113</td>\n",
       "      <td>2000-11-27</td>\n",
       "      <td>6</td>\n",
       "      <td>624</td>\n",
       "      <td>1 days</td>\n",
       "    </tr>\n",
       "    <tr>\n",
       "      <th>3</th>\n",
       "      <td>1823</td>\n",
       "      <td>2000-11-02</td>\n",
       "      <td>16</td>\n",
       "      <td>1256</td>\n",
       "      <td>NaT</td>\n",
       "    </tr>\n",
       "    <tr>\n",
       "      <th>4</th>\n",
       "      <td>1823</td>\n",
       "      <td>2000-11-06</td>\n",
       "      <td>6</td>\n",
       "      <td>918</td>\n",
       "      <td>4 days</td>\n",
       "    </tr>\n",
       "  </tbody>\n",
       "</table>\n",
       "</div>"
      ],
      "text/plain": [
       "   user_id       date  quantity  dollar last_visit_ndays\n",
       "0     1113 2000-11-12         5     420              NaT\n",
       "1     1113 2000-11-26         3     558          14 days\n",
       "2     1113 2000-11-27         6     624           1 days\n",
       "3     1823 2000-11-02        16    1256              NaT\n",
       "4     1823 2000-11-06         6     918           4 days"
      ]
     },
     "execution_count": 162,
     "metadata": {},
     "output_type": "execute_result"
    }
   ],
   "source": [
    "churn_agg['last_visit_ndays']=churn_agg.groupby('user_id')['date'].diff()\n",
    "churn_agg.head()\n",
    "#last_visit_ndays = churn_agg.groubpy('user_id')['date'].diff()"
   ]
  },
  {
   "cell_type": "code",
   "execution_count": 163,
   "metadata": {},
   "outputs": [],
   "source": [
    "churn_agg.set_index('date', inplace=True)"
   ]
  },
  {
   "cell_type": "code",
   "execution_count": 164,
   "metadata": {},
   "outputs": [
    {
     "name": "stdout",
     "output_type": "stream",
     "text": [
      "count    13328.000000\n",
      "mean        13.941252\n",
      "std         31.006416\n",
      "min          1.000000\n",
      "25%          5.000000\n",
      "50%          9.000000\n",
      "75%         17.000000\n",
      "max       1659.000000\n",
      "Name: quantity, dtype: float64\n"
     ]
    }
   ],
   "source": [
    "quantity_roll_sum_7D = churn_agg.groupby('user_id').rolling('7D')['quantity'].sum()\n",
    "print(quantity_roll_sum_7D.describe())"
   ]
  },
  {
   "cell_type": "code",
   "execution_count": 165,
   "metadata": {},
   "outputs": [
    {
     "name": "stdout",
     "output_type": "stream",
     "text": [
      "count    13328.000000\n",
      "mean      1257.541792\n",
      "std       2052.527607\n",
      "min          9.000000\n",
      "25%        343.000000\n",
      "50%        747.000000\n",
      "75%       1502.250000\n",
      "max      66974.000000\n",
      "Name: dollar, dtype: float64\n"
     ]
    }
   ],
   "source": [
    "dollar_roll_sum_7D = churn_agg.groupby('user_id').rolling('7D')['dollar'].sum()\n",
    "print(dollar_roll_sum_7D.describe())"
   ]
  },
  {
   "cell_type": "markdown",
   "metadata": {},
   "source": [
    "Conclusion - Was able to get all three parts finished and sorted, only thing was when I tried to set the last_visit_ndays as its own series it would not let me, is that an issue with the index???"
   ]
  },
  {
   "cell_type": "markdown",
   "metadata": {},
   "source": [
    "5. Combine all three features into a single `DataFrame` and call it `churn_roll`. <span style=\"color:red\" float:right>[1 point]</span>"
   ]
  },
  {
   "cell_type": "markdown",
   "metadata": {},
   "source": [
    "Reasoning - This one I will need to combine the quantity_roll, dollar_roll, and the last visitndays. Based on above, I will need to seperate out the last_visit_n_days and then combine it with the quantity roll and dollar roll"
   ]
  },
  {
   "cell_type": "code",
   "execution_count": 166,
   "metadata": {},
   "outputs": [
    {
     "data": {
      "text/html": [
       "<div>\n",
       "<style scoped>\n",
       "    .dataframe tbody tr th:only-of-type {\n",
       "        vertical-align: middle;\n",
       "    }\n",
       "\n",
       "    .dataframe tbody tr th {\n",
       "        vertical-align: top;\n",
       "    }\n",
       "\n",
       "    .dataframe thead th {\n",
       "        text-align: right;\n",
       "    }\n",
       "</style>\n",
       "<table border=\"1\" class=\"dataframe\">\n",
       "  <thead>\n",
       "    <tr style=\"text-align: right;\">\n",
       "      <th></th>\n",
       "      <th>user_id</th>\n",
       "      <th>quantity</th>\n",
       "      <th>dollar</th>\n",
       "      <th>last_visit_ndays</th>\n",
       "    </tr>\n",
       "    <tr>\n",
       "      <th>date</th>\n",
       "      <th></th>\n",
       "      <th></th>\n",
       "      <th></th>\n",
       "      <th></th>\n",
       "    </tr>\n",
       "  </thead>\n",
       "  <tbody>\n",
       "    <tr>\n",
       "      <th>2000-11-12</th>\n",
       "      <td>1113</td>\n",
       "      <td>5</td>\n",
       "      <td>420</td>\n",
       "      <td>NaT</td>\n",
       "    </tr>\n",
       "    <tr>\n",
       "      <th>2000-11-26</th>\n",
       "      <td>1113</td>\n",
       "      <td>3</td>\n",
       "      <td>558</td>\n",
       "      <td>14 days</td>\n",
       "    </tr>\n",
       "    <tr>\n",
       "      <th>2000-11-27</th>\n",
       "      <td>1113</td>\n",
       "      <td>6</td>\n",
       "      <td>624</td>\n",
       "      <td>1 days</td>\n",
       "    </tr>\n",
       "    <tr>\n",
       "      <th>2000-11-02</th>\n",
       "      <td>1823</td>\n",
       "      <td>16</td>\n",
       "      <td>1256</td>\n",
       "      <td>NaT</td>\n",
       "    </tr>\n",
       "    <tr>\n",
       "      <th>2000-11-06</th>\n",
       "      <td>1823</td>\n",
       "      <td>6</td>\n",
       "      <td>918</td>\n",
       "      <td>4 days</td>\n",
       "    </tr>\n",
       "  </tbody>\n",
       "</table>\n",
       "</div>"
      ],
      "text/plain": [
       "            user_id  quantity  dollar last_visit_ndays\n",
       "date                                                  \n",
       "2000-11-12     1113         5     420              NaT\n",
       "2000-11-26     1113         3     558          14 days\n",
       "2000-11-27     1113         6     624           1 days\n",
       "2000-11-02     1823        16    1256              NaT\n",
       "2000-11-06     1823         6     918           4 days"
      ]
     },
     "execution_count": 166,
     "metadata": {},
     "output_type": "execute_result"
    }
   ],
   "source": [
    "churn_agg.head()"
   ]
  },
  {
   "cell_type": "code",
   "execution_count": 167,
   "metadata": {},
   "outputs": [
    {
     "name": "stdout",
     "output_type": "stream",
     "text": [
      "user_id  date      \n",
      "1113     2000-11-12     5.0\n",
      "         2000-11-26     3.0\n",
      "         2000-11-27     9.0\n",
      "1823     2000-11-02    16.0\n",
      "         2000-11-06    22.0\n",
      "Name: quantity, dtype: float64\n",
      "user_id  date      \n",
      "1113     2000-11-12     420.0\n",
      "         2000-11-26     558.0\n",
      "         2000-11-27    1182.0\n",
      "1823     2000-11-02    1256.0\n",
      "         2000-11-06    2174.0\n",
      "Name: dollar, dtype: float64\n"
     ]
    }
   ],
   "source": [
    "print(quantity_roll_sum_7D.head())\n",
    "print(dollar_roll_sum_7D.head())"
   ]
  },
  {
   "cell_type": "code",
   "execution_count": 168,
   "metadata": {},
   "outputs": [
    {
     "data": {
      "text/html": [
       "<div>\n",
       "<style scoped>\n",
       "    .dataframe tbody tr th:only-of-type {\n",
       "        vertical-align: middle;\n",
       "    }\n",
       "\n",
       "    .dataframe tbody tr th {\n",
       "        vertical-align: top;\n",
       "    }\n",
       "\n",
       "    .dataframe thead th {\n",
       "        text-align: right;\n",
       "    }\n",
       "</style>\n",
       "<table border=\"1\" class=\"dataframe\">\n",
       "  <thead>\n",
       "    <tr style=\"text-align: right;\">\n",
       "      <th></th>\n",
       "      <th>date</th>\n",
       "      <th>user_id</th>\n",
       "      <th>quantity</th>\n",
       "      <th>dollar</th>\n",
       "      <th>last_visit_ndays</th>\n",
       "    </tr>\n",
       "  </thead>\n",
       "  <tbody>\n",
       "    <tr>\n",
       "      <th>0</th>\n",
       "      <td>2000-11-12</td>\n",
       "      <td>1113</td>\n",
       "      <td>5</td>\n",
       "      <td>420</td>\n",
       "      <td>NaT</td>\n",
       "    </tr>\n",
       "    <tr>\n",
       "      <th>1</th>\n",
       "      <td>2000-11-26</td>\n",
       "      <td>1113</td>\n",
       "      <td>3</td>\n",
       "      <td>558</td>\n",
       "      <td>14 days</td>\n",
       "    </tr>\n",
       "    <tr>\n",
       "      <th>2</th>\n",
       "      <td>2000-11-27</td>\n",
       "      <td>1113</td>\n",
       "      <td>6</td>\n",
       "      <td>624</td>\n",
       "      <td>1 days</td>\n",
       "    </tr>\n",
       "    <tr>\n",
       "      <th>3</th>\n",
       "      <td>2000-11-02</td>\n",
       "      <td>1823</td>\n",
       "      <td>16</td>\n",
       "      <td>1256</td>\n",
       "      <td>NaT</td>\n",
       "    </tr>\n",
       "    <tr>\n",
       "      <th>4</th>\n",
       "      <td>2000-11-06</td>\n",
       "      <td>1823</td>\n",
       "      <td>6</td>\n",
       "      <td>918</td>\n",
       "      <td>4 days</td>\n",
       "    </tr>\n",
       "  </tbody>\n",
       "</table>\n",
       "</div>"
      ],
      "text/plain": [
       "        date  user_id  quantity  dollar last_visit_ndays\n",
       "0 2000-11-12     1113         5     420              NaT\n",
       "1 2000-11-26     1113         3     558          14 days\n",
       "2 2000-11-27     1113         6     624           1 days\n",
       "3 2000-11-02     1823        16    1256              NaT\n",
       "4 2000-11-06     1823         6     918           4 days"
      ]
     },
     "execution_count": 168,
     "metadata": {},
     "output_type": "execute_result"
    }
   ],
   "source": [
    "churn_agg.reset_index(inplace=True)\n",
    "churn_agg.head()"
   ]
  },
  {
   "cell_type": "code",
   "execution_count": 169,
   "metadata": {},
   "outputs": [
    {
     "data": {
      "text/html": [
       "<div>\n",
       "<style scoped>\n",
       "    .dataframe tbody tr th:only-of-type {\n",
       "        vertical-align: middle;\n",
       "    }\n",
       "\n",
       "    .dataframe tbody tr th {\n",
       "        vertical-align: top;\n",
       "    }\n",
       "\n",
       "    .dataframe thead th {\n",
       "        text-align: right;\n",
       "    }\n",
       "</style>\n",
       "<table border=\"1\" class=\"dataframe\">\n",
       "  <thead>\n",
       "    <tr style=\"text-align: right;\">\n",
       "      <th></th>\n",
       "      <th></th>\n",
       "      <th>quantity</th>\n",
       "      <th>dollar</th>\n",
       "      <th>last_visit_ndays</th>\n",
       "    </tr>\n",
       "    <tr>\n",
       "      <th>user_id</th>\n",
       "      <th>date</th>\n",
       "      <th></th>\n",
       "      <th></th>\n",
       "      <th></th>\n",
       "    </tr>\n",
       "  </thead>\n",
       "  <tbody>\n",
       "    <tr>\n",
       "      <th rowspan=\"3\" valign=\"top\">1113</th>\n",
       "      <th>2000-11-12</th>\n",
       "      <td>5</td>\n",
       "      <td>420</td>\n",
       "      <td>NaT</td>\n",
       "    </tr>\n",
       "    <tr>\n",
       "      <th>2000-11-26</th>\n",
       "      <td>3</td>\n",
       "      <td>558</td>\n",
       "      <td>14 days</td>\n",
       "    </tr>\n",
       "    <tr>\n",
       "      <th>2000-11-27</th>\n",
       "      <td>6</td>\n",
       "      <td>624</td>\n",
       "      <td>1 days</td>\n",
       "    </tr>\n",
       "    <tr>\n",
       "      <th rowspan=\"2\" valign=\"top\">1823</th>\n",
       "      <th>2000-11-02</th>\n",
       "      <td>16</td>\n",
       "      <td>1256</td>\n",
       "      <td>NaT</td>\n",
       "    </tr>\n",
       "    <tr>\n",
       "      <th>2000-11-06</th>\n",
       "      <td>6</td>\n",
       "      <td>918</td>\n",
       "      <td>4 days</td>\n",
       "    </tr>\n",
       "  </tbody>\n",
       "</table>\n",
       "</div>"
      ],
      "text/plain": [
       "                    quantity  dollar last_visit_ndays\n",
       "user_id date                                         \n",
       "1113    2000-11-12         5     420              NaT\n",
       "        2000-11-26         3     558          14 days\n",
       "        2000-11-27         6     624           1 days\n",
       "1823    2000-11-02        16    1256              NaT\n",
       "        2000-11-06         6     918           4 days"
      ]
     },
     "execution_count": 169,
     "metadata": {},
     "output_type": "execute_result"
    }
   ],
   "source": [
    "churn_agg.set_index(['user_id', 'date'], inplace=True)\n",
    "churn_agg.head()"
   ]
  },
  {
   "cell_type": "code",
   "execution_count": 170,
   "metadata": {},
   "outputs": [
    {
     "data": {
      "text/plain": [
       "user_id  date      \n",
       "1113     2000-11-12       NaT\n",
       "         2000-11-26   14 days\n",
       "         2000-11-27    1 days\n",
       "1823     2000-11-02       NaT\n",
       "         2000-11-06    4 days\n",
       "Name: last_visit_ndays, dtype: timedelta64[ns]"
      ]
     },
     "execution_count": 170,
     "metadata": {},
     "output_type": "execute_result"
    }
   ],
   "source": [
    "last_visit_n_days_roll = churn_agg['last_visit_ndays']\n",
    "last_visit_n_days_roll.head()"
   ]
  },
  {
   "cell_type": "code",
   "execution_count": 171,
   "metadata": {},
   "outputs": [
    {
     "name": "stdout",
     "output_type": "stream",
     "text": [
      "                    quantity_roll_sum_7D  dollar_roll_sum_7D last_visit_ndays\n",
      "user_id date                                                                 \n",
      "1113    2000-11-12                   5.0               420.0              NaT\n",
      "        2000-11-26                   3.0               558.0          14 days\n",
      "        2000-11-27                   9.0              1182.0           1 days\n",
      "1823    2000-11-02                  16.0              1256.0              NaT\n",
      "        2000-11-06                  22.0              2174.0           4 days\n"
     ]
    }
   ],
   "source": [
    "churn_roll = pd.concat([quantity_roll_sum_7D, dollar_roll_sum_7D, last_visit_n_days_roll], axis=1)\n",
    "\n",
    "churn_roll.rename(columns = {'quantity':'quantity_roll_sum_7D', 'dollar':'dollar_roll_sum_7D', 'recency':'last_visit_n_days_roll'}, inplace=True)\n",
    "print(churn_roll.head())"
   ]
  },
  {
   "cell_type": "markdown",
   "metadata": {},
   "source": [
    "Conclusion - I was able to merge the three series by manipulating the indexes and working out how to join them"
   ]
  },
  {
   "cell_type": "markdown",
   "metadata": {},
   "source": [
    "https://www.datacamp.com/community/tutorials/introduction-customer-segmentation-python"
   ]
  },
  {
   "cell_type": "markdown",
   "metadata": {},
   "source": [
    "6. Use `fillna` to replace missing values for recency with a large value like 100 days (whatever makes business sense). HINT: You can use `pd.Timedelta('100 days')` to set the value. <span style=\"color:red\" float:right>[1 point]</span>"
   ]
  },
  {
   "cell_type": "markdown",
   "metadata": {},
   "source": [
    "Reasoning - I will cal lthe fill.na(pd.Timedelta('100 days') to populate those values"
   ]
  },
  {
   "cell_type": "code",
   "execution_count": 172,
   "metadata": {},
   "outputs": [
    {
     "data": {
      "text/plain": [
       "user_id  date      \n",
       "1113     2000-11-12   100 days\n",
       "         2000-11-26    14 days\n",
       "         2000-11-27     1 days\n",
       "1823     2000-11-02   100 days\n",
       "         2000-11-06     4 days\n",
       "                        ...   \n",
       "2163925  2000-12-10   100 days\n",
       "2163956  2000-12-10   100 days\n",
       "2164007  2000-12-10   100 days\n",
       "2164083  2000-12-11   100 days\n",
       "2164175  2000-12-11   100 days\n",
       "Name: last_visit_ndays, Length: 13328, dtype: timedelta64[ns]"
      ]
     },
     "execution_count": 172,
     "metadata": {},
     "output_type": "execute_result"
    }
   ],
   "source": [
    "churn_roll['last_visit_ndays'].fillna(pd.Timedelta('100 days'), inplace=True)"
   ]
  },
  {
   "cell_type": "markdown",
   "metadata": {},
   "source": [
    "Conclusion - The call worked by going over all of the Na values and populating them with 100 days"
   ]
  },
  {
   "cell_type": "markdown",
   "metadata": {},
   "source": [
    "7. To see if things worked, merge the aggregated data `churn_agg` with the RFM features in `churn_roll`. You can use the `merge` method to do this with the right keys specified. <span style=\"color:red\" float:right>[2 point]</span>"
   ]
  },
  {
   "cell_type": "markdown",
   "metadata": {},
   "source": [
    "Reasoning - Will use the drop call since I believe that I have the last_visit_ndays in both dataframes at this point, after doing that I will merge the two dataframes using the merge()"
   ]
  },
  {
   "cell_type": "code",
   "execution_count": 173,
   "metadata": {},
   "outputs": [
    {
     "name": "stdout",
     "output_type": "stream",
     "text": [
      "                    quantity_roll_sum_7D  dollar_roll_sum_7D last_visit_ndays\n",
      "user_id date                                                                 \n",
      "1113    2000-11-12                   5.0               420.0              NaT\n",
      "        2000-11-26                   3.0               558.0          14 days\n",
      "        2000-11-27                   9.0              1182.0           1 days\n",
      "1823    2000-11-02                  16.0              1256.0              NaT\n",
      "        2000-11-06                  22.0              2174.0           4 days\n",
      "                    quantity  dollar last_visit_ndays\n",
      "user_id date                                         \n",
      "1113    2000-11-12         5     420              NaT\n",
      "        2000-11-26         3     558          14 days\n",
      "        2000-11-27         6     624           1 days\n",
      "1823    2000-11-02        16    1256              NaT\n",
      "        2000-11-06         6     918           4 days\n"
     ]
    }
   ],
   "source": [
    "print(churn_roll.head())\n",
    "print(churn_agg.head())"
   ]
  },
  {
   "cell_type": "code",
   "execution_count": 174,
   "metadata": {},
   "outputs": [
    {
     "name": "stdout",
     "output_type": "stream",
     "text": [
      "(13328, 3)\n",
      "(13328, 2)\n"
     ]
    }
   ],
   "source": [
    "print(churn_agg.shape)\n",
    "churn_agg.drop('last_visit_ndays',axis=1, inplace=True)\n",
    "print(churn_agg.shape)"
   ]
  },
  {
   "cell_type": "code",
   "execution_count": 175,
   "metadata": {},
   "outputs": [
    {
     "name": "stdout",
     "output_type": "stream",
     "text": [
      "                    quantity  dollar\n",
      "user_id date                        \n",
      "1113    2000-11-12         5     420\n",
      "        2000-11-26         3     558\n",
      "        2000-11-27         6     624\n",
      "1823    2000-11-02        16    1256\n",
      "        2000-11-06         6     918\n"
     ]
    }
   ],
   "source": [
    "print(churn_agg.head())"
   ]
  },
  {
   "cell_type": "code",
   "execution_count": 182,
   "metadata": {},
   "outputs": [],
   "source": [
    "merged = pd.merge(churn_agg,churn_roll, right_index = True, \n",
    "               left_index = True)\n",
    "merged['last_visit_ndays'].fillna(pd.Timedelta('100 days'), inplace=True)"
   ]
  },
  {
   "cell_type": "code",
   "execution_count": 183,
   "metadata": {},
   "outputs": [
    {
     "data": {
      "text/html": [
       "<div>\n",
       "<style scoped>\n",
       "    .dataframe tbody tr th:only-of-type {\n",
       "        vertical-align: middle;\n",
       "    }\n",
       "\n",
       "    .dataframe tbody tr th {\n",
       "        vertical-align: top;\n",
       "    }\n",
       "\n",
       "    .dataframe thead th {\n",
       "        text-align: right;\n",
       "    }\n",
       "</style>\n",
       "<table border=\"1\" class=\"dataframe\">\n",
       "  <thead>\n",
       "    <tr style=\"text-align: right;\">\n",
       "      <th></th>\n",
       "      <th></th>\n",
       "      <th>quantity</th>\n",
       "      <th>dollar</th>\n",
       "      <th>quantity_roll_sum_7D</th>\n",
       "      <th>dollar_roll_sum_7D</th>\n",
       "      <th>last_visit_ndays</th>\n",
       "    </tr>\n",
       "    <tr>\n",
       "      <th>user_id</th>\n",
       "      <th>date</th>\n",
       "      <th></th>\n",
       "      <th></th>\n",
       "      <th></th>\n",
       "      <th></th>\n",
       "      <th></th>\n",
       "    </tr>\n",
       "  </thead>\n",
       "  <tbody>\n",
       "    <tr>\n",
       "      <th rowspan=\"3\" valign=\"top\">1113</th>\n",
       "      <th>2000-11-12</th>\n",
       "      <td>5</td>\n",
       "      <td>420</td>\n",
       "      <td>5.0</td>\n",
       "      <td>420.0</td>\n",
       "      <td>100 days</td>\n",
       "    </tr>\n",
       "    <tr>\n",
       "      <th>2000-11-26</th>\n",
       "      <td>3</td>\n",
       "      <td>558</td>\n",
       "      <td>3.0</td>\n",
       "      <td>558.0</td>\n",
       "      <td>14 days</td>\n",
       "    </tr>\n",
       "    <tr>\n",
       "      <th>2000-11-27</th>\n",
       "      <td>6</td>\n",
       "      <td>624</td>\n",
       "      <td>9.0</td>\n",
       "      <td>1182.0</td>\n",
       "      <td>1 days</td>\n",
       "    </tr>\n",
       "    <tr>\n",
       "      <th rowspan=\"2\" valign=\"top\">1823</th>\n",
       "      <th>2000-11-02</th>\n",
       "      <td>16</td>\n",
       "      <td>1256</td>\n",
       "      <td>16.0</td>\n",
       "      <td>1256.0</td>\n",
       "      <td>100 days</td>\n",
       "    </tr>\n",
       "    <tr>\n",
       "      <th>2000-11-06</th>\n",
       "      <td>6</td>\n",
       "      <td>918</td>\n",
       "      <td>22.0</td>\n",
       "      <td>2174.0</td>\n",
       "      <td>4 days</td>\n",
       "    </tr>\n",
       "    <tr>\n",
       "      <th rowspan=\"2\" valign=\"top\">4947</th>\n",
       "      <th>2000-12-03</th>\n",
       "      <td>24</td>\n",
       "      <td>1875</td>\n",
       "      <td>24.0</td>\n",
       "      <td>1875.0</td>\n",
       "      <td>100 days</td>\n",
       "    </tr>\n",
       "    <tr>\n",
       "      <th>2000-12-10</th>\n",
       "      <td>16</td>\n",
       "      <td>1488</td>\n",
       "      <td>16.0</td>\n",
       "      <td>1488.0</td>\n",
       "      <td>7 days</td>\n",
       "    </tr>\n",
       "    <tr>\n",
       "      <th rowspan=\"3\" valign=\"top\">6668</th>\n",
       "      <th>2000-11-11</th>\n",
       "      <td>6</td>\n",
       "      <td>432</td>\n",
       "      <td>6.0</td>\n",
       "      <td>432.0</td>\n",
       "      <td>100 days</td>\n",
       "    </tr>\n",
       "    <tr>\n",
       "      <th>2000-11-25</th>\n",
       "      <td>11</td>\n",
       "      <td>873</td>\n",
       "      <td>11.0</td>\n",
       "      <td>873.0</td>\n",
       "      <td>14 days</td>\n",
       "    </tr>\n",
       "    <tr>\n",
       "      <th>2000-12-03</th>\n",
       "      <td>7</td>\n",
       "      <td>737</td>\n",
       "      <td>7.0</td>\n",
       "      <td>737.0</td>\n",
       "      <td>8 days</td>\n",
       "    </tr>\n",
       "  </tbody>\n",
       "</table>\n",
       "</div>"
      ],
      "text/plain": [
       "                    quantity  dollar  quantity_roll_sum_7D  \\\n",
       "user_id date                                                 \n",
       "1113    2000-11-12         5     420                   5.0   \n",
       "        2000-11-26         3     558                   3.0   \n",
       "        2000-11-27         6     624                   9.0   \n",
       "1823    2000-11-02        16    1256                  16.0   \n",
       "        2000-11-06         6     918                  22.0   \n",
       "4947    2000-12-03        24    1875                  24.0   \n",
       "        2000-12-10        16    1488                  16.0   \n",
       "6668    2000-11-11         6     432                   6.0   \n",
       "        2000-11-25        11     873                  11.0   \n",
       "        2000-12-03         7     737                   7.0   \n",
       "\n",
       "                    dollar_roll_sum_7D last_visit_ndays  \n",
       "user_id date                                             \n",
       "1113    2000-11-12               420.0         100 days  \n",
       "        2000-11-26               558.0          14 days  \n",
       "        2000-11-27              1182.0           1 days  \n",
       "1823    2000-11-02              1256.0         100 days  \n",
       "        2000-11-06              2174.0           4 days  \n",
       "4947    2000-12-03              1875.0         100 days  \n",
       "        2000-12-10              1488.0           7 days  \n",
       "6668    2000-11-11               432.0         100 days  \n",
       "        2000-11-25               873.0          14 days  \n",
       "        2000-12-03               737.0           8 days  "
      ]
     },
     "execution_count": 183,
     "metadata": {},
     "output_type": "execute_result"
    }
   ],
   "source": [
    "merged.head(10)"
   ]
  },
  {
   "cell_type": "markdown",
   "metadata": {},
   "source": [
    "Conclusion - By removing the extra column it decreased the repetitivty of my columns in the dataframe and then allowed for a smooth merge of the two dataframes (churn_roll and churn_agg)"
   ]
  },
  {
   "cell_type": "markdown",
   "metadata": {},
   "source": [
    "8. Check the features we created to make sure they appear to show the right calculations. You can do this by just checking the first 10 rows of the data. <span style=\"color:red\" float:right>[1 point]</span>"
   ]
  },
  {
   "cell_type": "markdown",
   "metadata": {},
   "source": [
    "Reasoning - To call the first 10 rows of the merged data I will use the .head(10), will also take a look at the churn_roll and churn_agg .head to make sure they are all on the same page, so to stay"
   ]
  },
  {
   "cell_type": "code",
   "execution_count": 177,
   "metadata": {},
   "outputs": [
    {
     "name": "stdout",
     "output_type": "stream",
     "text": [
      "                    quantity  dollar  quantity_roll_sum_7D  \\\n",
      "user_id date                                                 \n",
      "1113    2000-11-12         5     420                   5.0   \n",
      "        2000-11-26         3     558                   3.0   \n",
      "        2000-11-27         6     624                   9.0   \n",
      "1823    2000-11-02        16    1256                  16.0   \n",
      "        2000-11-06         6     918                  22.0   \n",
      "4947    2000-12-03        24    1875                  24.0   \n",
      "        2000-12-10        16    1488                  16.0   \n",
      "6668    2000-11-11         6     432                   6.0   \n",
      "        2000-11-25        11     873                  11.0   \n",
      "        2000-12-03         7     737                   7.0   \n",
      "\n",
      "                    dollar_roll_sum_7D last_visit_ndays  \n",
      "user_id date                                             \n",
      "1113    2000-11-12               420.0              NaT  \n",
      "        2000-11-26               558.0          14 days  \n",
      "        2000-11-27              1182.0           1 days  \n",
      "1823    2000-11-02              1256.0              NaT  \n",
      "        2000-11-06              2174.0           4 days  \n",
      "4947    2000-12-03              1875.0              NaT  \n",
      "        2000-12-10              1488.0           7 days  \n",
      "6668    2000-11-11               432.0              NaT  \n",
      "        2000-11-25               873.0          14 days  \n",
      "        2000-12-03               737.0           8 days  \n"
     ]
    }
   ],
   "source": [
    "print(merged.head(10))"
   ]
  },
  {
   "cell_type": "code",
   "execution_count": 178,
   "metadata": {},
   "outputs": [
    {
     "name": "stdout",
     "output_type": "stream",
     "text": [
      "                    quantity  dollar\n",
      "user_id date                        \n",
      "1113    2000-11-12         5     420\n",
      "        2000-11-26         3     558\n",
      "        2000-11-27         6     624\n",
      "1823    2000-11-02        16    1256\n",
      "        2000-11-06         6     918\n",
      "4947    2000-12-03        24    1875\n",
      "        2000-12-10        16    1488\n",
      "6668    2000-11-11         6     432\n",
      "        2000-11-25        11     873\n",
      "        2000-12-03         7     737\n"
     ]
    }
   ],
   "source": [
    "print(churn_agg.head(10))"
   ]
  },
  {
   "cell_type": "code",
   "execution_count": 179,
   "metadata": {},
   "outputs": [
    {
     "name": "stdout",
     "output_type": "stream",
     "text": [
      "                    quantity_roll_sum_7D  dollar_roll_sum_7D last_visit_ndays\n",
      "user_id date                                                                 \n",
      "1113    2000-11-12                   5.0               420.0              NaT\n",
      "        2000-11-26                   3.0               558.0          14 days\n",
      "        2000-11-27                   9.0              1182.0           1 days\n",
      "1823    2000-11-02                  16.0              1256.0              NaT\n",
      "        2000-11-06                  22.0              2174.0           4 days\n",
      "4947    2000-12-03                  24.0              1875.0              NaT\n",
      "        2000-12-10                  16.0              1488.0           7 days\n",
      "6668    2000-11-11                   6.0               432.0              NaT\n",
      "        2000-11-25                  11.0               873.0          14 days\n",
      "        2000-12-03                   7.0               737.0           8 days\n"
     ]
    }
   ],
   "source": [
    "print(churn_roll.head(10))"
   ]
  },
  {
   "cell_type": "markdown",
   "metadata": {},
   "source": [
    "Conclusion - The merge seemed to work well and the data is all set and snug in the right frames"
   ]
  },
  {
   "cell_type": "markdown",
   "metadata": {},
   "source": [
    "One take-away from the above example is that feature engineering can be a complicated topic, and relies to some extent on creativity and domain knowledge, as we saw with time series data and RFM. For this reason, some modern machine learning libraries are working on what is called **automated feature engineering** to see if algorithms can automatically figure out a set of good features to use by the machine learning model.\n",
    "\n",
    "# End of assignment"
   ]
  }
 ],
 "metadata": {
  "anaconda-cloud": {},
  "kernelspec": {
   "display_name": "Python 3",
   "language": "python",
   "name": "python3"
  },
  "language_info": {
   "codemirror_mode": {
    "name": "ipython",
    "version": 3
   },
   "file_extension": ".py",
   "mimetype": "text/x-python",
   "name": "python",
   "nbconvert_exporter": "python",
   "pygments_lexer": "ipython3",
   "version": "3.8.5"
  }
 },
 "nbformat": 4,
 "nbformat_minor": 4
}
