{
 "cells": [
  {
   "cell_type": "markdown",
   "metadata": {},
   "source": [
    "# Assignment\n",
    "\n",
    "The Monty Hall problem we learned in class shows the importance of working out the math correctly and not letting \"intuition\" lead us down the wrong path when dealing with probabilities. Make sure to review it again because it will help with this assignment too. In this assignment, we learn about another such example. At first blush, the answer may seem obvious, but your job is to show the right answer using the rules of probability we learned in the lecture.\n",
    "\n",
    "Here are two similar-sounding questions with a suble difference between them. As you will see, the subtle difference enough to make the problems and their solutions challenging and interesting:\n",
    "\n",
    "1. In families with 2 daughters, what's the probability that at least one daughter born on a Thursday? <span style=\"color:red\" float:right>[10 point]</span>"
   ]
  },
  {
   "cell_type": "markdown",
   "metadata": {},
   "source": [
    "http://news.bbc.co.uk/2/hi/programmes/more_or_less/8735812.stm\n",
    "\n",
    "https://towardsdatascience.com/tuesday-birthday-problem-2927e83e5af3\n",
    "\n",
    "Answer: The sex of each child will be independent of the other (unless modern science is behind, as Dwight said in the office, to make it a boy you just have to keep the womb warm for x amount of days after conception) and therefore for two girls it would be 1/3 as we do not know the order; as having any two children can go like this:\n",
    "\n",
    "B - B - excluded due to both being boys\n",
    "B - G * = 1/3\n",
    "G - B * = 1/3\n",
    "G - G * = 1/3\n",
    "\n",
    "Thus in a family with two daughters P(A) = (Number of times there are two girls / Number of options for two girls), which has a probability of 1/3 happening, what is the probability that at least one of them is born on a Thursday.\n",
    "\n",
    "To include days of the week, P(B) = (Number of times a thursday occurs / Number of days in a week), it would be 1/7.\n",
    "\n",
    "To calculate out the actuality of this happening - I wrote down a decision tree that laid out all of the options for this to happen. \n",
    "\n",
    "Lets denote Gn as a Girl born on N day of the week. Since there are 2 Girls, and at least one has to be born on a Thursday, then the logic would be that you need GnG4 - so any type of combination would work as long as at least one of the daughters is born on a Thursday for P(B). This, in cohesion with P(A) being 1/3 \n",
    "\n",
    "The probability and A and B occur is P(A and B)\n",
    "\n",
    "Therefore, the answer is 13/49"
   ]
  },
  {
   "cell_type": "markdown",
   "metadata": {},
   "source": [
    "2. In families with 2 daughters, what's the probability that at least one daughter is named Leila? Let's assume that on average 1 out of every 7 girl is named Leila, and that two girls from the same family can't have the same name. <span style=\"color:red\" float:right>[15 point]</span>"
   ]
  },
  {
   "cell_type": "markdown",
   "metadata": {},
   "source": [
    "https://math.stackexchange.com/questions/1893041/conditional-probability-what-is-the-prob-that-all-are-girls-given-that-there\n",
    "\n",
    "Answer: This question starts out the same due to the family having two daughters, and thus a 1/3 probability for P(A). However, it deviates due to the fact that you can only name one of your daughters Leila, so you need to be very careful about making sure that it is exclusive. While the 7 days above can work for either daughter, as you can get G4G4, this one you cannot have both being named the same name.\n",
    "\n",
    "For consistency purposes, lets say that G4 = a girl named Leila while GX = other girls names (with X being 1-3, 5-7)\n",
    "\n",
    "Therefore, after drawing out the decision tree you can still have it as G1G1 to G7G7, but I will need to exclude all time there are more than one option for having G4, thus 7 different options. \n",
    "\n",
    "Since we are keeping P(A) as 1/3\n",
    "and P(B) as (1/7) - but it is dependent on P(A)\n",
    "P(B | A)\n",
    "\n",
    "\n",
    "Therefore, the answer is 12/42"
   ]
  },
  {
   "cell_type": "markdown",
   "metadata": {},
   "source": [
    "The reason we assume in (2) that 1 out of every 7 girl is named Leila is so that we can compare the answer we get in (2) to the answerwe get in (1). With this assumption, the two questions are very similar: 1 out of every 7 girl is born on a Thursday, and 1 out of every 7 girl is named Leila. The difference of course is that you can have two or more daughters born on a Thursday, but you can only name one of your daughters Leila. So this subtle distinction should play out in your solution. Note that you do not need to write code for this assignment. The solution can be worked out by hand."
   ]
  },
  {
   "cell_type": "markdown",
   "metadata": {},
   "source": [
    "Here are some other probability problems that have generated debates and helped us better understand the nature of probability and randomness:\n",
    "\n",
    "- [Boy and girl paradox](https://en.wikipedia.org/wiki/Boy_or_Girl_paradox)\n",
    "- [Bertrand paradox](https://en.wikipedia.org/wiki/Bertrand_paradox_(probability))\n",
    "- [The birthday problem](https://en.wikipedia.org/wiki/Birthday_problem)\n",
    "- [The two envelope problem](https://en.wikipedia.org/wiki/Two_envelopes_problem)\n",
    "- [St. Petersburg paradox](https://en.wikipedia.org/wiki/St._Petersburg_paradox) (a more complex example)\n",
    "\n",
    "# End of assignment"
   ]
  }
 ],
 "metadata": {
  "colab": {
   "collapsed_sections": [],
   "default_view": {},
   "name": "IntroToProbability.ipynb",
   "provenance": [],
   "version": "0.3.2",
   "views": {}
  },
  "kernelspec": {
   "display_name": "Python 3",
   "language": "python",
   "name": "python3"
  },
  "language_info": {
   "codemirror_mode": {
    "name": "ipython",
    "version": 3
   },
   "file_extension": ".py",
   "mimetype": "text/x-python",
   "name": "python",
   "nbconvert_exporter": "python",
   "pygments_lexer": "ipython3",
   "version": "3.8.5"
  },
  "toc": {
   "base_numbering": 1,
   "nav_menu": {},
   "number_sections": true,
   "sideBar": true,
   "skip_h1_title": false,
   "title_cell": "Table of Contents",
   "title_sidebar": "Contents",
   "toc_cell": false,
   "toc_position": {},
   "toc_section_display": true,
   "toc_window_display": true
  }
 },
 "nbformat": 4,
 "nbformat_minor": 1
}
